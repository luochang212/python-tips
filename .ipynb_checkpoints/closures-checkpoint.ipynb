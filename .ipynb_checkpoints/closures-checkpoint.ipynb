{
 "cells": [
  {
   "cell_type": "markdown",
   "metadata": {},
   "source": [
    "# 闭包\n",
    "\n",
    "> **Actually, a closure is a function with an extended scope that encompasses nonglobal variables referenced in the body of the function but not defined there.** It does not matter whether the function is anonymous or not; **what matters is that it can access nonglobal variables that are defined outside of its body.**\n",
    "> \n",
    "> From *Fluent Python* P192\n",
    "\n",
    "上面这段话告诉我们，闭包是一个有延伸作用域的函数。该延伸作用域包含非全局变量，这个非全局变量在闭包内引用，但不在闭包内定义。\n",
    "\n",
    "这听起来挺抽象的。\n",
    "\n",
    "简而言之，闭包本质上是嵌套函数的内层函数。但是嵌套函数的内层函数要成为闭包，还需要满足：\n",
    "\n",
    "1. 有延伸作用域；\n",
    "2. 该延伸作用域内包含非全局变量；\n",
    "3. 该非全局变量在闭包内引用，但不在闭包内定义。\n",
    "\n",
    "依旧抽象，直接上例子。\n",
    "\n",
    "例一：\n",
    "\n",
    "假如有个名为 avg 的函数，它的作用是计算不断增加的系列值的均值；例如，整个历史中某个商品的平均收盘价。每天都会增加新价格，因此平均值要考虑至目前为止所有的价格。示例输入输出如下：\n",
    "\n",
    "```python\n",
    ">>> avg(10) \n",
    "10.0\n",
    ">>> avg(11) \n",
    "10.5\n",
    ">>> avg(12) \n",
    "11.0\n",
    "```\n",
    "\n",
    "利用闭包可通过如下代码实现："
   ]
  },
  {
   "cell_type": "code",
   "execution_count": 1,
   "metadata": {},
   "outputs": [
    {
     "name": "stdout",
     "output_type": "stream",
     "text": [
      "10.0\n",
      "10.5\n",
      "11.0\n"
     ]
    }
   ],
   "source": [
    "def make_averager(): \n",
    "    series = []\n",
    "    def averager(new_value): \n",
    "        series.append(new_value)\n",
    "        total = sum(series)\n",
    "        return total/len(series)\n",
    "    return averager\n",
    "\n",
    "avg = make_averager()\n",
    "print(avg(10))\n",
    "print(avg(11))\n",
    "print(avg(12))"
   ]
  },
  {
   "cell_type": "markdown",
   "metadata": {},
   "source": [
    "前面实现 make_averager 函数的方法效率不高。在例一中，我们把所有值存储在历史数列中，然后在每次调用 averager 时使用 sum 求和。更好的实现方式是，只存储目前的总值和元素个数，然后使用这两个数计算均值。\n",
    "\n",
    "下面的代码实现有缺陷，只是为了阐明观点。你能看出缺陷在哪儿吗?"
   ]
  },
  {
   "cell_type": "code",
   "execution_count": 2,
   "metadata": {},
   "outputs": [
    {
     "name": "stdout",
     "output_type": "stream",
     "text": [
      "UnboundLocalError: local variable 'count' referenced before assignment\n"
     ]
    }
   ],
   "source": [
    "def make_averager(): \n",
    "    count = 0\n",
    "    total = 0\n",
    "    def averager(new_value): \n",
    "        count += 1\n",
    "        total += new_value \n",
    "        return total / count\n",
    "    return averager\n",
    "\n",
    "\n",
    "try:\n",
    "    avg = make_averager()\n",
    "    print(avg(10))\n",
    "    print(avg(11))\n",
    "    print(avg(12))\n",
    "except Exception as e:\n",
    "    print(e.__class__.__name__ + ':', e)"
   ]
  },
  {
   "cell_type": "markdown",
   "metadata": {},
   "source": [
    "问题是，当 count 是数字或任何不可变类型时，count += 1 语句的作用其实与 count = count + 1 一样。因此，我们在 averager 的定义体中为 count 赋值了，这会把 count 变成局部变量。total 变量也受这个问题影响。\n",
    "\n",
    "例一中没遇到这个问题，因为我们没有给 series 赋值，我们只是调用 series.append，并把它传给 sum 和 len。也就是说，我们利用了列表是可变的对象这一事实。但是对数字、字符串、元组等不可变类型来说，只能读取，不能更新。\n",
    "\n",
    "如果尝试重新绑定，例如 count = count + 1，其实会隐式创建局部变量 count。这样，count 就不是自由变量了，因此不会保存在闭包中。\n",
    "\n",
    "为了解决这个问题，Python 3 引入了 nonlocal 声明。它的作用是把变量标记为自由变量，即使在函数中为变量赋予新值了，也会变成自由变量。如果为 nonlocal 声明的变量赋予新值，闭包中保存的绑定会更新。最新版 make_averager 的正确实现如下所示。"
   ]
  },
  {
   "cell_type": "code",
   "execution_count": 3,
   "metadata": {},
   "outputs": [
    {
     "name": "stdout",
     "output_type": "stream",
     "text": [
      "10.0\n",
      "10.5\n",
      "11.0\n"
     ]
    }
   ],
   "source": [
    "def make_averager(): \n",
    "    count = 0\n",
    "    total = 0\n",
    "    def averager(new_value): \n",
    "        nonlocal count, total\n",
    "        count += 1\n",
    "        total += new_value \n",
    "        return total / count\n",
    "    return averager\n",
    "\n",
    "avg = make_averager()\n",
    "print(avg(10))\n",
    "print(avg(11))\n",
    "print(avg(12))"
   ]
  },
  {
   "cell_type": "markdown",
   "metadata": {},
   "source": [
    "参考书籍：*Fluent Python*。"
   ]
  },
  {
   "cell_type": "code",
   "execution_count": null,
   "metadata": {},
   "outputs": [],
   "source": []
  }
 ],
 "metadata": {
  "kernelspec": {
   "display_name": "Python 3",
   "language": "python",
   "name": "python3"
  },
  "language_info": {
   "codemirror_mode": {
    "name": "ipython",
    "version": 3
   },
   "file_extension": ".py",
   "mimetype": "text/x-python",
   "name": "python",
   "nbconvert_exporter": "python",
   "pygments_lexer": "ipython3",
   "version": "3.7.4"
  }
 },
 "nbformat": 4,
 "nbformat_minor": 2
}
