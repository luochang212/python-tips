{
 "cells": [
  {
   "cell_type": "markdown",
   "metadata": {},
   "source": [
    "# 多线程\n",
    "\n",
    "善用多线程，能提高程序的运行速度。\n",
    "\n",
    "本节内容包括：\n",
    "\n",
    "1. 多线程的首次尝试\n",
    "2. 利用 for loop 创建多线程\n",
    "3. 带参数的线程\n",
    "\n",
    "参考: \n",
    "\n",
    "1. [Python Threading Tutorial: Run Code Concurrently Using the Threading Module](https://www.youtube.com/watch?v=IEEhzQoKtQU&list=FLOwYZWGePPZXK527y4HAItQ&index=14&t=852s)\n",
    "2. [threading doc](https://docs.python.org/zh-cn/3/library/threading.html)\n"
   ]
  },
  {
   "cell_type": "markdown",
   "metadata": {},
   "source": [
    "## 1. 多线程的首次尝试\n",
    "\n",
    "首先来试用一下多线程，有多个 Python 库提供多线程支持。Python2 中通常使用 _thread，Python3 中选择较多，本文采用 threading 库讲解。\n",
    "\n",
    "下面代码，展现的是没有多线程的情况："
   ]
  },
  {
   "cell_type": "code",
   "execution_count": 1,
   "metadata": {},
   "outputs": [
    {
     "name": "stdout",
     "output_type": "stream",
     "text": [
      "Sleeping 1 second...\n",
      "Done sleeping...\n",
      "Sleeping 1 second...\n",
      "Done sleeping...\n",
      "Finished in 2 second(s)\n"
     ]
    }
   ],
   "source": [
    "import time\n",
    "\n",
    "\n",
    "start = time.perf_counter()\n",
    "\n",
    "def do_something():\n",
    "    print('Sleeping 1 second...')\n",
    "    time.sleep(1)\n",
    "    print('Done sleeping...')\n",
    "    \n",
    "do_something()\n",
    "do_something()\n",
    "\n",
    "finish = time.perf_counter()\n",
    "\n",
    "print(f'Finished in {round(finish - start)} second(s)')"
   ]
  },
  {
   "cell_type": "markdown",
   "metadata": {},
   "source": [
    "接下来，我们用多线程来让这个过程加速。"
   ]
  },
  {
   "cell_type": "code",
   "execution_count": 2,
   "metadata": {},
   "outputs": [
    {
     "name": "stdout",
     "output_type": "stream",
     "text": [
      "Sleeping 1 second...Sleeping 1 second...\n",
      "\n",
      "Finished in 0 second(s)\n"
     ]
    }
   ],
   "source": [
    "import time\n",
    "import threading\n",
    "\n",
    "\n",
    "start = time.perf_counter()\n",
    "\n",
    "def do_something():\n",
    "    print('Sleeping 1 second...')\n",
    "    time.sleep(1)\n",
    "    print('Done sleeping...')\n",
    "    \n",
    "t1 = threading.Thread(target=do_something)\n",
    "t2 = threading.Thread(target=do_something)\n",
    "\n",
    "t1.start()\n",
    "t2.start()\n",
    "\n",
    "finish = time.perf_counter()\n",
    "\n",
    "print(f'Finished in {round(finish - start)} second(s)')"
   ]
  },
  {
   "cell_type": "markdown",
   "metadata": {},
   "source": [
    "但是上面的代码并没有按我们的预期运行，我们发现 `Finished in 0 second(s)` 在线程结束之前就被输出了。为了正确地计算程序耗时，我们需要在两个线程结束之后，再计算耗时。\n",
    "\n",
    "为了实现这一点，我们需要使用 `join` 方法阻塞线程。"
   ]
  },
  {
   "cell_type": "code",
   "execution_count": 3,
   "metadata": {},
   "outputs": [
    {
     "name": "stdout",
     "output_type": "stream",
     "text": [
      "Sleeping 1 second...\n",
      "Sleeping 1 second...\n",
      "Done sleeping...Done sleeping...\n",
      "\n",
      "Done sleeping...Done sleeping...\n",
      "\n",
      "Finished in 1 second(s)\n"
     ]
    }
   ],
   "source": [
    "import time\n",
    "import threading\n",
    "\n",
    "\n",
    "start = time.perf_counter()\n",
    "\n",
    "def do_something():\n",
    "    print('Sleeping 1 second...')\n",
    "    time.sleep(1)\n",
    "    print('Done sleeping...')\n",
    "    \n",
    "t1 = threading.Thread(target=do_something)\n",
    "t2 = threading.Thread(target=do_something)\n",
    "\n",
    "t1.start()\n",
    "t2.start()\n",
    "\n",
    "t1.join()\n",
    "t2.join()\n",
    "\n",
    "finish = time.perf_counter()\n",
    "\n",
    "print(f'Finished in {round(finish - start)} second(s)')"
   ]
  },
  {
   "cell_type": "markdown",
   "metadata": {},
   "source": [
    "现在程序按我们预期的方式运行了！"
   ]
  },
  {
   "cell_type": "markdown",
   "metadata": {},
   "source": [
    "## 2. 利用 for loop 创建多线程\n",
    "\n",
    "只需要利用一些小技巧，我们就可以利用 for loop 创建多个线程。"
   ]
  },
  {
   "cell_type": "code",
   "execution_count": 4,
   "metadata": {},
   "outputs": [
    {
     "name": "stdout",
     "output_type": "stream",
     "text": [
      "Sleeping 1 second...\n",
      "Sleeping 1 second...\n",
      "Sleeping 1 second...\n",
      "Sleeping 1 second...\n",
      "Sleeping 1 second...Sleeping 1 second...\n",
      "\n",
      "Sleeping 1 second...\n",
      "Sleeping 1 second...\n",
      "Sleeping 1 second...\n",
      "Sleeping 1 second...\n",
      "Done sleeping...Done sleeping...Done sleeping...Done sleeping...\n",
      "\n",
      "\n",
      "\n",
      "Done sleeping...Done sleeping...Done sleeping...\n",
      "\n",
      "\n",
      "Done sleeping...Done sleeping...Done sleeping...\n",
      "\n",
      "\n",
      "Finished in 1 second(s)\n"
     ]
    }
   ],
   "source": [
    "import time\n",
    "import threading\n",
    "\n",
    "\n",
    "start = time.perf_counter()\n",
    "\n",
    "def do_something():\n",
    "    print('Sleeping 1 second...')\n",
    "    time.sleep(1)\n",
    "    print('Done sleeping...')\n",
    "    \n",
    "threads = []\n",
    "# 创建 10 个进程\n",
    "for _ in range(10):\n",
    "    t = threading.Thread(target=do_something)\n",
    "    t.start()\n",
    "    threads.append(t)\n",
    "\n",
    "# 阻塞全部 10 个进程\n",
    "for thread in threads:\n",
    "    thread.join()\n",
    "    \n",
    "\n",
    "finish = time.perf_counter()\n",
    "\n",
    "print(f'Finished in {round(finish - start)} second(s)')"
   ]
  },
  {
   "cell_type": "markdown",
   "metadata": {},
   "source": [
    "## 3. 带参数的线程\n",
    "\n",
    "现在我们来改造一下 `do_something` 函数，让它携带 1 个参数 `second`。"
   ]
  },
  {
   "cell_type": "code",
   "execution_count": 5,
   "metadata": {},
   "outputs": [
    {
     "name": "stdout",
     "output_type": "stream",
     "text": [
      "Sleeping 1.5 second(s)...\n",
      "Sleeping 2 second(s)...\n",
      "Done sleeping...\n",
      "Done sleeping...\n",
      "Finished in 2 second(s)\n"
     ]
    }
   ],
   "source": [
    "import time\n",
    "import threading\n",
    "\n",
    "\n",
    "start = time.perf_counter()\n",
    "\n",
    "def do_something(second):\n",
    "    print(f'Sleeping {second} second(s)...')\n",
    "    time.sleep(second)\n",
    "    print('Done sleeping...')\n",
    "\n",
    "t1 = threading.Thread(target=do_something, args=[1.5])\n",
    "t2 = threading.Thread(target=do_something, args=[2])\n",
    "\n",
    "t1.start()\n",
    "t2.start()\n",
    "\n",
    "t1.join()\n",
    "t2.join()\n",
    "\n",
    "finish = time.perf_counter()\n",
    "\n",
    "print(f'Finished in {round(finish - start)} second(s)')"
   ]
  },
  {
   "cell_type": "markdown",
   "metadata": {},
   "source": [
    "好了，利用 `args` 参数，现在我们可以将参数代入线程了！"
   ]
  },
  {
   "cell_type": "markdown",
   "metadata": {},
   "source": [
    "除了 `args` 参数之外，`kwargs` 参数也很有用，它允许我们将关键字参数代入函数。看下面这个例子："
   ]
  },
  {
   "cell_type": "code",
   "execution_count": 6,
   "metadata": {},
   "outputs": [
    {
     "name": "stdout",
     "output_type": "stream",
     "text": [
      "Sleeping 3 second(s)...\n",
      "Sleeping 2 second(s)...\n",
      "Done sleeping...\n",
      "Done sleeping...\n",
      "Finished in 3 second(s)\n"
     ]
    }
   ],
   "source": [
    "import time\n",
    "import threading\n",
    "\n",
    "\n",
    "start = time.perf_counter()\n",
    "\n",
    "def do_something(second):\n",
    "    print(f'Sleeping {second} second(s)...')\n",
    "    time.sleep(second)\n",
    "    print('Done sleeping...')\n",
    "\n",
    "t1 = threading.Thread(target=do_something, kwargs={'second': 3})\n",
    "t2 = threading.Thread(target=do_something, kwargs={'second': 2})\n",
    "\n",
    "t1.start()\n",
    "t2.start()\n",
    "\n",
    "t1.join()\n",
    "t2.join()\n",
    "\n",
    "finish = time.perf_counter()\n",
    "\n",
    "print(f'Finished in {round(finish - start)} second(s)')"
   ]
  },
  {
   "cell_type": "code",
   "execution_count": null,
   "metadata": {},
   "outputs": [],
   "source": []
  }
 ],
 "metadata": {
  "kernelspec": {
   "display_name": "Python 3",
   "language": "python",
   "name": "python3"
  },
  "language_info": {
   "codemirror_mode": {
    "name": "ipython",
    "version": 3
   },
   "file_extension": ".py",
   "mimetype": "text/x-python",
   "name": "python",
   "nbconvert_exporter": "python",
   "pygments_lexer": "ipython3",
   "version": "3.7.4"
  }
 },
 "nbformat": 4,
 "nbformat_minor": 4
}
