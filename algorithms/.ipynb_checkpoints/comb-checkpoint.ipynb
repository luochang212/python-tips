{
 "cells": [
  {
   "cell_type": "markdown",
   "metadata": {},
   "source": [
    "# 排列组合\n",
    "\n",
    "1. 排列\n",
    "2. 组合\n",
    "3. 子集"
   ]
  },
  {
   "cell_type": "markdown",
   "metadata": {},
   "source": [
    "## 1. 排列"
   ]
  },
  {
   "cell_type": "code",
   "execution_count": 1,
   "metadata": {},
   "outputs": [
    {
     "name": "stdout",
     "output_type": "stream",
     "text": [
      "[[1, 2, 3], [1, 3, 2], [2, 1, 3], [2, 3, 1], [3, 1, 2], [3, 2, 1]]\n"
     ]
    }
   ],
   "source": [
    "class Solution:\n",
    "    def permute(self, nums):\n",
    "        res = []\n",
    "        def backtrack(num, tmp):\n",
    "            if not num:\n",
    "                res.append(tmp)\n",
    "                return\n",
    "            for i in range(len(num)):\n",
    "                backtrack(num[:i] + num[i+1:], tmp + [num[i]])\n",
    "        backtrack(nums, [])\n",
    "        return res\n",
    "    \n",
    "    \n",
    "if __name__ == '__main__':\n",
    "    solution = Solution()\n",
    "    print(solution.permute([1,2,3]))"
   ]
  },
  {
   "cell_type": "markdown",
   "metadata": {},
   "source": [
    "## 2. 组合"
   ]
  },
  {
   "cell_type": "code",
   "execution_count": 2,
   "metadata": {},
   "outputs": [
    {
     "name": "stdout",
     "output_type": "stream",
     "text": [
      "[[1, 2], [1, 3], [2, 3], [1, 4], [2, 4], [3, 4]]\n"
     ]
    }
   ],
   "source": [
    "class Solution:\n",
    "    def combine(self, n: int, k: int):\n",
    "        if k>n or k==0:\n",
    "            return []\n",
    "        if k==1:\n",
    "            return [[i] for i in range(1,n+1)]\n",
    "        if k==n:\n",
    "            return [[i for i in range(1,n+1)]]\n",
    "        \n",
    "        answer=self.combine(n-1,k)\n",
    "        for item in self.combine(n-1,k-1):\n",
    "            item.append(n)\n",
    "            answer.append(item)\n",
    "        \n",
    "        return answer\n",
    "\n",
    "\n",
    "if __name__ == '__main__':\n",
    "    solution = Solution()\n",
    "    print(solution.combine(4, 2))"
   ]
  },
  {
   "cell_type": "markdown",
   "metadata": {},
   "source": [
    "## 3. 子集"
   ]
  },
  {
   "cell_type": "code",
   "execution_count": 3,
   "metadata": {},
   "outputs": [
    {
     "name": "stdout",
     "output_type": "stream",
     "text": [
      "[[], [1], [2], [1, 2], [3], [1, 3], [2, 3], [1, 2, 3]]\n"
     ]
    }
   ],
   "source": [
    "class Solution:\n",
    "    def subsets(self, nums):\n",
    "        res = [[]]\n",
    "        for i in range(len(nums)):\n",
    "            for subres in res[:]:\n",
    "                res.append(subres + [nums[i]])\n",
    "    \n",
    "        return res\n",
    "    \n",
    "\n",
    "if __name__ == '__main__':\n",
    "    solution = Solution()\n",
    "    print(solution.subsets([1,2,3]))"
   ]
  },
  {
   "cell_type": "code",
   "execution_count": null,
   "metadata": {},
   "outputs": [],
   "source": []
  }
 ],
 "metadata": {
  "kernelspec": {
   "display_name": "Python 3",
   "language": "python",
   "name": "python3"
  },
  "language_info": {
   "codemirror_mode": {
    "name": "ipython",
    "version": 3
   },
   "file_extension": ".py",
   "mimetype": "text/x-python",
   "name": "python",
   "nbconvert_exporter": "python",
   "pygments_lexer": "ipython3",
   "version": "3.7.4"
  }
 },
 "nbformat": 4,
 "nbformat_minor": 2
}
