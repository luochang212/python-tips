{
 "cells": [
  {
   "cell_type": "markdown",
   "metadata": {},
   "source": [
    "# 生命游戏\n",
    "\n",
    "生命游戏，是英国数学家约翰·何顿·康威在 1970 年发明的细胞自动机。\n",
    "\n",
    "给定一个包含 m × n 个格子的面板，每一个格子都可以看成是一个细胞。每个细胞都具有一个初始状态：1 即为活细胞（live），或 0 即为死细胞（dead）。每个细胞与其八个相邻位置（水平，垂直，对角线）的细胞都遵循以下四条生存定律：\n",
    "\n",
    "1. 如果活细胞周围八个位置的活细胞数少于两个，则该位置活细胞死亡；\n",
    "2. 如果活细胞周围八个位置有两个或三个活细胞，则该位置活细胞仍然存活；\n",
    "3. 如果活细胞周围八个位置有超过三个活细胞，则该位置活细胞死亡；\n",
    "4. 如果死细胞周围正好有三个活细胞，则该位置死细胞复活；\n",
    "\n",
    "根据当前状态，写一个函数来计算面板上所有细胞的下一个（一次更新后的）状态。\n",
    "\n",
    "下一个状态是通过将上述规则同时应用于当前状态下的每个细胞所形成的，其中细胞的出生和死亡是同时发生的。"
   ]
  },
  {
   "cell_type": "code",
   "execution_count": 36,
   "metadata": {},
   "outputs": [
    {
     "data": {
      "text/plain": [
       "[[0, 0, 0], [0, 0, 0], [0, 1, 1], [0, 1, 1]]"
      ]
     },
     "execution_count": 36,
     "metadata": {},
     "output_type": "execute_result"
    }
   ],
   "source": [
    "class gameOfLife:\n",
    "    def __init__(self, board):\n",
    "        self.board = board\n",
    "        \n",
    "    def update(self, board) -> None:\n",
    "        \"\"\"\n",
    "        Do not return anything, modify board in-place instead.\n",
    "        \"\"\"\n",
    "        rows, cols = len(board), len(board[0])\n",
    "\n",
    "        def affact(r, c):\n",
    "            for i in [r-1, r, r+1]:\n",
    "                for j in [c-1, c, c+1]:\n",
    "                    if i<0 or i>=rows or j<0 or j>=cols or (i==r and j==c):\n",
    "                        continue\n",
    "                    board[i][j]+=10\n",
    "\n",
    "        for r in range(rows):\n",
    "            for c in range(cols):\n",
    "                if board[r][c]%10==1:\n",
    "                    affact(r, c)\n",
    "\n",
    "        def calculate(cell):\n",
    "            if cell//10==3 or (cell//10==2 and cell%10==1):\n",
    "                return 1\n",
    "            else:\n",
    "                return 0\n",
    "\n",
    "        for r in range(rows):\n",
    "            for c in range(cols):\n",
    "                board[r][c]=calculate(board[r][c])\n",
    "                \n",
    "    def get(self):\n",
    "        return self.board\n",
    "    \n",
    "    def run(self, times):\n",
    "        for _ in range(times):\n",
    "            self.update(self.board)\n",
    "        \n",
    "\n",
    "g = gameOfLife([\n",
    "  [0,1,0],\n",
    "  [0,0,1],\n",
    "  [1,1,1],\n",
    "  [0,0,0]\n",
    "])\n",
    "g.run(100)\n",
    "g.get()"
   ]
  },
  {
   "cell_type": "markdown",
   "metadata": {},
   "source": [
    "扩展：\n",
    "\n",
    "1. [matplotlib-animation](https://matplotlib.org/api/animation_api.html?highlight=animation#module-matplotlib.animation)\n",
    "2. [Sample](https://github.com/electronut/pp/blob/master/conway/conway.py)"
   ]
  },
  {
   "cell_type": "code",
   "execution_count": null,
   "metadata": {},
   "outputs": [],
   "source": []
  }
 ],
 "metadata": {
  "kernelspec": {
   "display_name": "Python 3",
   "language": "python",
   "name": "python3"
  },
  "language_info": {
   "codemirror_mode": {
    "name": "ipython",
    "version": 3
   },
   "file_extension": ".py",
   "mimetype": "text/x-python",
   "name": "python",
   "nbconvert_exporter": "python",
   "pygments_lexer": "ipython3",
   "version": "3.7.4"
  }
 },
 "nbformat": 4,
 "nbformat_minor": 2
}
