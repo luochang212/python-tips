{
 "cells": [
  {
   "cell_type": "markdown",
   "metadata": {},
   "source": [
    "# 排序\n",
    "\n",
    "本节介绍各种排序算法的思路和特点，并提供了示例代码。\n",
    "\n",
    "1. 插入排序\n",
    "    - 直接插入排序\n",
    "    - 希尔排序\n",
    "2. 交换排序\n",
    "    - 冒泡排序\n",
    "    - 快速排序\n",
    "3. 选择排序\n",
    "    - 简单选择排序\n",
    "    - 堆排序\n",
    "4. 归并排序\n",
    "    - 二路归并排序"
   ]
  },
  {
   "cell_type": "code",
   "execution_count": 1,
   "metadata": {},
   "outputs": [],
   "source": [
    "# 初始化\n",
    "# 待排序数组\n",
    "from random import randint\n",
    "nums = [randint(0, 15) for _ in range(20)]\n",
    "\n",
    "# 用于监测运行时间的装饰器\n",
    "from time import time\n",
    "def timer(func):\n",
    "    def f(*args):\n",
    "        before = time()\n",
    "        rv = func(*args)\n",
    "        after = time()\n",
    "        print('time taken:', \"{:.10f}ms\".format((after-before)*1000))\n",
    "        return rv\n",
    "    return f"
   ]
  },
  {
   "cell_type": "markdown",
   "metadata": {},
   "source": [
    "## 1. 插入排序\n",
    "\n",
    "### 1.1 直接插入排序\n",
    "\n",
    "<span style=\"color: #fff !important;background-color: #0088cc;display: inline-block;padding: 0.3em 0.4em;font-size: 1.25rem;font-weight: bold;line-height: 1;text-align: center;white-space: nowrap;vertical-align: baseline;border-radius: 0.25rem; margin: 0.75em 0em 0 0;\">\n",
    "    稳定排序\n",
    "</span>\n",
    "<span style=\"color: #fff !important;background-color: #0088cc;display: inline-block;padding: 0.3em 0.4em;font-size: 1.25rem;font-weight: bold;line-height: 1;text-align: center;white-space: nowrap;vertical-align: baseline;border-radius: 0.25rem; margin: 0.75em 0em 0 0;\">\n",
    "    内排序\n",
    "</span>\n",
    "<span style=\"color: #fff !important;background-color: #0088cc;display: inline-block;padding: 0.3em 0.4em;font-size: 1.25rem;font-weight: bold;line-height: 1;text-align: center;white-space: nowrap;vertical-align: baseline;border-radius: 0.25rem; margin: 0.75em 0em 0 0;\">\n",
    "    时间复杂度: O(n^2)\n",
    "</span>\n",
    "<span style=\"color: #fff !important;background-color: #0088cc;display: inline-block;padding: 0.3em 0.4em;font-size: 1.25rem;font-weight: bold;line-height: 1;text-align: center;white-space: nowrap;vertical-align: baseline;border-radius: 0.25rem; margin: 0.75em 0em 0 0;\">\n",
    "    空间复杂度: O(1)\n",
    "</span>\n",
    "\n",
    "插入排序是将第 i 个元素插入前 i-1 个已排序数组中。"
   ]
  },
  {
   "cell_type": "code",
   "execution_count": 2,
   "metadata": {},
   "outputs": [
    {
     "name": "stdout",
     "output_type": "stream",
     "text": [
      "time taken: 0.0209808350ms\n"
     ]
    },
    {
     "data": {
      "text/plain": [
       "[0, 0, 0, 2, 4, 4, 6, 6, 7, 7, 7, 8, 8, 9, 9, 10, 10, 10, 11, 13]"
      ]
     },
     "execution_count": 2,
     "metadata": {},
     "output_type": "execute_result"
    }
   ],
   "source": [
    "@timer\n",
    "def insertion_sort(nums):\n",
    "    for i in range(1, len(nums)):\n",
    "        if nums[i-1] > nums[i]:\n",
    "            tmp = nums[i]  # 设置检测哨\n",
    "            while i > 0 and nums[i-1] > tmp:\n",
    "                nums[i] = nums[i-1]  # 若当前元素小于监测哨，则将其后移一个位置\n",
    "                i -= 1\n",
    "            nums[i] = tmp  # 插入存储在监测哨中的值\n",
    "    return nums\n",
    "\n",
    "insertion_sort(nums[:])"
   ]
  },
  {
   "cell_type": "markdown",
   "metadata": {},
   "source": [
    "### 1.2 希尔排序\n",
    "\n",
    "<span style=\"color: #fff !important;background-color: #0088cc;display: inline-block;padding: 0.3em 0.4em;font-size: 1.25rem;font-weight: bold;line-height: 1;text-align: center;white-space: nowrap;vertical-align: baseline;border-radius: 0.25rem; margin: 0.75em 0em 0 0;\">\n",
    "    不稳定排序\n",
    "</span>\n",
    "<span style=\"color: #fff !important;background-color: #0088cc;display: inline-block;padding: 0.3em 0.4em;font-size: 1.25rem;font-weight: bold;line-height: 1;text-align: center;white-space: nowrap;vertical-align: baseline;border-radius: 0.25rem; margin: 0.75em 0em 0 0;\">\n",
    "    内排序\n",
    "</span>\n",
    "<span style=\"color: #fff !important;background-color: #0088cc;display: inline-block;padding: 0.3em 0.4em;font-size: 1.25rem;font-weight: bold;line-height: 1;text-align: center;white-space: nowrap;vertical-align: baseline;border-radius: 0.25rem; margin: 0.75em 0em 0 0;\">\n",
    "    时间复杂度: 难以判断\n",
    "</span>\n",
    "<span style=\"color: #fff !important;background-color: #0088cc;display: inline-block;padding: 0.3em 0.4em;font-size: 1.25rem;font-weight: bold;line-height: 1;text-align: center;white-space: nowrap;vertical-align: baseline;border-radius: 0.25rem; margin: 0.75em 0em 0 0;\">\n",
    "    空间复杂度: O(1)\n",
    "</span>\n",
    "\n",
    "希尔排序是插入排序的升级版。\n",
    "\n",
    "我们来看下希尔排序的基本步骤，在此我们选择增量 `gap=len(nums)/2`，缩小增量继续以 `gap = gap//2` 的方式。这种增量选择我们可以用一个序列来表示，`[n//2, (n//2)//2, … , 1]`，称之为增量序列。希尔排序的增量序列的选择与证明是个数学难题，我们选择的这个增量序列是比较常用的，也是希尔建议的增量，称为希尔增量，但其实这个增量序列不是最优的。\n",
    "\n",
    "具体算法描述：\n",
    "\n",
    "步骤1：选择一个增量序列 $t_1，t_2，…，t_k$，其中对于任意 $i, j$ 有 $t_i>t_j, (i < j)$，且 $t_k=1$；\n",
    "\n",
    "步骤2：设增量序列为 `d`，则需对序列进行 `len(d)` 趟排序；\n",
    "\n",
    "步骤3：每趟排序，根据对应的增量 $t_i$，将待排序列分割成若干子表，分别对各子表进行直接插入排序。当增量因子为 1 时，整个序列作为一个表来处理，表长度即为整个序列的长度。\n",
    "\n",
    "<img src=\"../img/shell_sort.png\" style=\"float:left;height:375px;\"></img>"
   ]
  },
  {
   "cell_type": "code",
   "execution_count": 3,
   "metadata": {},
   "outputs": [
    {
     "name": "stdout",
     "output_type": "stream",
     "text": [
      "time taken: 0.0178813934ms\n"
     ]
    },
    {
     "data": {
      "text/plain": [
       "[0, 0, 2, 4, 4, 6, 7, 7, 6, 7, 0, 8, 9, 8, 9, 10, 10, 10, 11, 13]"
      ]
     },
     "execution_count": 3,
     "metadata": {},
     "output_type": "execute_result"
    }
   ],
   "source": [
    "@timer\n",
    "def shell_sort(nums):\n",
    "    n = len(nums)\n",
    "    gap = n // 2\n",
    "    while gap:\n",
    "        for i in range(gap, n):\n",
    "            tmp = nums[i]\n",
    "            while i > 0 and nums[i-gap] > nums[i]:\n",
    "                nums[i] = nums[i-gap]\n",
    "                i -= gap\n",
    "            nums[i] = tmp\n",
    "        gap //= 2\n",
    "    return nums\n",
    "\n",
    "shell_sort(nums[:])"
   ]
  },
  {
   "cell_type": "markdown",
   "metadata": {},
   "source": [
    "注：你可能发现直接插入排序的 time taken 比希尔排序的要小，这是因为问题的规模太小了。试着将 `nums` 的规模增大到 1000，你会发现希尔排序大大优于直接插入排序。"
   ]
  },
  {
   "cell_type": "markdown",
   "metadata": {},
   "source": [
    "## 2. 交换排序\n",
    "\n",
    "### 2.1 冒泡排序\n",
    "\n",
    "<span style=\"color: #fff !important;background-color: #0088cc;display: inline-block;padding: 0.3em 0.4em;font-size: 1.25rem;font-weight: bold;line-height: 1;text-align: center;white-space: nowrap;vertical-align: baseline;border-radius: 0.25rem; margin: 0.75em 0em 0 0;\">\n",
    "    稳定排序\n",
    "</span>\n",
    "<span style=\"color: #fff !important;background-color: #0088cc;display: inline-block;padding: 0.3em 0.4em;font-size: 1.25rem;font-weight: bold;line-height: 1;text-align: center;white-space: nowrap;vertical-align: baseline;border-radius: 0.25rem; margin: 0.75em 0em 0 0;\">\n",
    "    内排序\n",
    "</span>\n",
    "<span style=\"color: #fff !important;background-color: #0088cc;display: inline-block;padding: 0.3em 0.4em;font-size: 1.25rem;font-weight: bold;line-height: 1;text-align: center;white-space: nowrap;vertical-align: baseline;border-radius: 0.25rem; margin: 0.75em 0em 0 0;\">\n",
    "    时间复杂度: O(n^2)\n",
    "</span>\n",
    "<span style=\"color: #fff !important;background-color: #0088cc;display: inline-block;padding: 0.3em 0.4em;font-size: 1.25rem;font-weight: bold;line-height: 1;text-align: center;white-space: nowrap;vertical-align: baseline;border-radius: 0.25rem; margin: 0.75em 0em 0 0;\">\n",
    "    空间复杂度: O(1)\n",
    "</span>\n",
    "\n",
    "设排序表为 r（`len(r)` 为 n），算法过程如下：\n",
    "\n",
    "第1趟，从第2个元素到第n个元素，比较元素`r[i]`和`r[i-1]`，若与排序要求相逆，则将两元素位置互换。这样，一趟之后，具有最大值的元素被交换到了数组的末尾。\n",
    "\n",
    "第2趟，从第2个元素到第n-1个元素，继续上述过程，将`r[:n-1]`中最大的元素交换到`r[n-2]`的位置。\n",
    "\n",
    "冒泡排序最多进行n-1趟。在某趟的两两比较过程中，如果一次交换都未发生，表明已经有序，则排序提前结束。"
   ]
  },
  {
   "cell_type": "code",
   "execution_count": 4,
   "metadata": {},
   "outputs": [
    {
     "name": "stdout",
     "output_type": "stream",
     "text": [
      "time taken: 0.0312328339ms\n"
     ]
    },
    {
     "data": {
      "text/plain": [
       "[0, 0, 0, 2, 4, 4, 6, 6, 7, 7, 7, 8, 8, 9, 9, 10, 10, 10, 11, 13]"
      ]
     },
     "execution_count": 4,
     "metadata": {},
     "output_type": "execute_result"
    }
   ],
   "source": [
    "@timer\n",
    "def bubble_sort(nums):\n",
    "    n = len(nums)\n",
    "    for i in range(n-1):\n",
    "        swap = 1\n",
    "        for j in range(1, n-i):\n",
    "            if nums[j] < nums[j-1]:\n",
    "                nums[j-1], nums[j] = nums[j], nums[j-1]\n",
    "                swap = 0\n",
    "        if swap:\n",
    "            break\n",
    "    \n",
    "    return nums\n",
    "\n",
    "bubble_sort(nums[:])"
   ]
  },
  {
   "cell_type": "markdown",
   "metadata": {},
   "source": [
    "### 2.2 快速排序\n",
    "\n",
    "<span style=\"color: #fff !important;background-color: #0088cc;display: inline-block;padding: 0.3em 0.4em;font-size: 1.25rem;font-weight: bold;line-height: 1;text-align: center;white-space: nowrap;vertical-align: baseline;border-radius: 0.25rem; margin: 0.75em 0em 0 0;\">\n",
    "    不稳定排序\n",
    "</span>\n",
    "<span style=\"color: #fff !important;background-color: #0088cc;display: inline-block;padding: 0.3em 0.4em;font-size: 1.25rem;font-weight: bold;line-height: 1;text-align: center;white-space: nowrap;vertical-align: baseline;border-radius: 0.25rem; margin: 0.75em 0em 0 0;\">\n",
    "    内排序\n",
    "</span>\n",
    "<span style=\"color: #fff !important;background-color: #0088cc;display: inline-block;padding: 0.3em 0.4em;font-size: 1.25rem;font-weight: bold;line-height: 1;text-align: center;white-space: nowrap;vertical-align: baseline;border-radius: 0.25rem; margin: 0.75em 0em 0 0;\">\n",
    "    时间复杂度: O(nlogn) ~ O(n^2)\n",
    "</span>\n",
    "<span style=\"color: #fff !important;background-color: #0088cc;display: inline-block;padding: 0.3em 0.4em;font-size: 1.25rem;font-weight: bold;line-height: 1;text-align: center;white-space: nowrap;vertical-align: baseline;border-radius: 0.25rem; margin: 0.75em 0em 0 0;\">\n",
    "    空间复杂度: O(logn) ~ O(n)\n",
    "</span>\n",
    "\n",
    "快速排序的核心操作是**划分**。以某个元素为标准（也称为**支点**），通过划分将待排序列分成两组，其中一组中所有元素的值均**大于等于**支点的值，另一组所有元素的值均**小于**支点的值，则支点元素就在两组之间，这也是该元素的最终位置。再对各部分继续划分，直到整个序列全部有序。"
   ]
  },
  {
   "cell_type": "code",
   "execution_count": 5,
   "metadata": {},
   "outputs": [
    {
     "name": "stdout",
     "output_type": "stream",
     "text": [
      "time taken: 0.0193119049ms\n",
      "[0, 0, 0, 2, 4, 4, 6, 6, 7, 7, 7, 8, 8, 9, 9, 10, 10, 10, 11, 13]\n"
     ]
    }
   ],
   "source": [
    "def partition(res, left, right):\n",
    "    tmp = res[left]\n",
    "    while left < right:\n",
    "        while left < right and res[right] >= tmp:\n",
    "            right -= 1\n",
    "        if left < right:\n",
    "            res[left] = res[right]\n",
    "            left += 1\n",
    "        while left < right and res[left] < tmp:\n",
    "            left += 1\n",
    "        if left < right:\n",
    "            res[right] = res[left]\n",
    "            right -= 1\n",
    "    res[left] = tmp\n",
    "    return left\n",
    "\n",
    "def quick_sort(nums, left, right):\n",
    "    if left < right:\n",
    "        i = partition(nums, left, right)\n",
    "        quick_sort(nums, left, i-1)\n",
    "        quick_sort(nums, i+1, right)\n",
    "\n",
    "@timer\n",
    "def main():\n",
    "    new_nums = nums[:]\n",
    "    n = len(new_nums)\n",
    "    quick_sort(new_nums, 0, n-1)\n",
    "    return new_nums\n",
    "\n",
    "print(main())"
   ]
  },
  {
   "cell_type": "markdown",
   "metadata": {},
   "source": [
    "从空间效率看，快速排序是递归的，每层递归调用时的指针和参数均要用栈来存放，递归调用层次数与上述二叉树的深度一致。因而，存储开销在理想情况下为 $O(log_2 n)$，即树的高度；在最坏情况下，即二叉树是一个单链，为 $O(n)$。\n",
    "\n",
    "从时间效率看，在n个元素的待排序列中，一次划分需要约n次比较，时效为 $O(n)$。理想情况下，每次划分正好分成两个等长的子序列，时效为 $O(nlog_2 n)$。最坏情况下，每次划分只得到一个子序列，时效为 $O(n^2)$。"
   ]
  },
  {
   "cell_type": "markdown",
   "metadata": {},
   "source": [
    "## 3. 选择排序\n",
    "\n",
    "### 3.1 简单选择排序\n",
    "\n",
    "<span style=\"color: #fff !important;background-color: #0088cc;display: inline-block;padding: 0.3em 0.4em;font-size: 1.25rem;font-weight: bold;line-height: 1;text-align: center;white-space: nowrap;vertical-align: baseline;border-radius: 0.25rem; margin: 0.75em 0em 0 0;\">\n",
    "    不稳定排序\n",
    "</span>\n",
    "<span style=\"color: #fff !important;background-color: #0088cc;display: inline-block;padding: 0.3em 0.4em;font-size: 1.25rem;font-weight: bold;line-height: 1;text-align: center;white-space: nowrap;vertical-align: baseline;border-radius: 0.25rem; margin: 0.75em 0em 0 0;\">\n",
    "    内排序\n",
    "</span>\n",
    "<span style=\"color: #fff !important;background-color: #0088cc;display: inline-block;padding: 0.3em 0.4em;font-size: 1.25rem;font-weight: bold;line-height: 1;text-align: center;white-space: nowrap;vertical-align: baseline;border-radius: 0.25rem; margin: 0.75em 0em 0 0;\">\n",
    "    时间复杂度: O(n^2)\n",
    "</span>\n",
    "<span style=\"color: #fff !important;background-color: #0088cc;display: inline-block;padding: 0.3em 0.4em;font-size: 1.25rem;font-weight: bold;line-height: 1;text-align: center;white-space: nowrap;vertical-align: baseline;border-radius: 0.25rem; margin: 0.75em 0em 0 0;\">\n",
    "    空间复杂度: O(1)\n",
    "</span>\n",
    "\n",
    "选择排序每趟从待排序列中选取一个最小的元素，即第1趟从n个元素中选取最小的元素，第2趟从剩下的n-1个元素中选取最小的元素，直到整个序列的元素都选取完毕。这样最终得到整体有序的序列。"
   ]
  },
  {
   "cell_type": "code",
   "execution_count": 6,
   "metadata": {},
   "outputs": [
    {
     "name": "stdout",
     "output_type": "stream",
     "text": [
      "time taken: 0.0200271606ms\n"
     ]
    },
    {
     "data": {
      "text/plain": [
       "[0, 0, 0, 2, 4, 4, 6, 6, 7, 7, 7, 8, 8, 9, 9, 10, 10, 10, 11, 13]"
      ]
     },
     "execution_count": 6,
     "metadata": {},
     "output_type": "execute_result"
    }
   ],
   "source": [
    "@timer\n",
    "def selection_sort(nums):\n",
    "    n = len(nums)\n",
    "    for i in range(n-1):\n",
    "        index = i\n",
    "        for j in range(i+1, n):\n",
    "            if nums[j] < nums[index]:\n",
    "                index = j\n",
    "        if index != i:\n",
    "            nums[i], nums[index] = nums[index], nums[i]\n",
    "    \n",
    "    return nums\n",
    "\n",
    "selection_sort(nums[:])"
   ]
  },
  {
   "cell_type": "markdown",
   "metadata": {},
   "source": [
    "### 3.2 堆排序\n",
    "\n",
    "<span style=\"color: #fff !important;background-color: #0088cc;display: inline-block;padding: 0.3em 0.4em;font-size: 1.25rem;font-weight: bold;line-height: 1;text-align: center;white-space: nowrap;vertical-align: baseline;border-radius: 0.25rem; margin: 0.75em 0em 0 0;\">\n",
    "    不稳定排序\n",
    "</span>\n",
    "<span style=\"color: #fff !important;background-color: #0088cc;display: inline-block;padding: 0.3em 0.4em;font-size: 1.25rem;font-weight: bold;line-height: 1;text-align: center;white-space: nowrap;vertical-align: baseline;border-radius: 0.25rem; margin: 0.75em 0em 0 0;\">\n",
    "    内排序\n",
    "</span>\n",
    "<span style=\"color: #fff !important;background-color: #0088cc;display: inline-block;padding: 0.3em 0.4em;font-size: 1.25rem;font-weight: bold;line-height: 1;text-align: center;white-space: nowrap;vertical-align: baseline;border-radius: 0.25rem; margin: 0.75em 0em 0 0;\">\n",
    "    时间复杂度: O(n^2)\n",
    "</span>\n",
    "<span style=\"color: #fff !important;background-color: #0088cc;display: inline-block;padding: 0.3em 0.4em;font-size: 1.25rem;font-weight: bold;line-height: 1;text-align: center;white-space: nowrap;vertical-align: baseline;border-radius: 0.25rem; margin: 0.75em 0em 0 0;\">\n",
    "    空间复杂度: O(1)\n",
    "</span>\n",
    "\n",
    "简单选择排序的思想简单，易于实现，但其时间性能没有优势。这是因为在每趟的选择中，没有把前面选择过程中的一些有用信息继承下来，因此每趟选择都按顺序一一进行。如果某一趟选择能够把前面有用的一些信息继承下来，则定会减少本趟的比较次数，提高排序效率，堆排序就做到了这一点。\n",
    "\n",
    "小顶堆的定义：\n",
    "\n",
    "$$\\mathrm{k}_{\\mathrm{i}} \\leqslant\\left\\{\\begin{array}{l}\n",
    "\\mathrm{k}_{2 \\mathrm{i}} \\\\\n",
    "\\mathrm{k}_{2 \\mathrm{i}+1}\n",
    "\\end{array} \\quad(\\mathrm{i}=1,2, \\cdots, \\mathrm{n} / 2)\\right.$$\n",
    "\n",
    "大顶堆的定义：\n",
    "\n",
    "$$\\mathrm{k}_{\\mathrm{i}} \\geqslant\\left\\{\\begin{array}{l}\n",
    "\\mathrm{k}_{2 \\mathrm{i}} \\\\\n",
    "\\mathrm{k}_{2 \\mathrm{i}+1}\n",
    "\\end{array} \\quad(\\mathrm{i}=1,2, \\cdots, \\mathrm{n} / 2)\\right.$$\n",
    "\n",
    "例如，序列12，36，24，85，47，30，53，91是一个小顶堆；序列91，47，85，24，36，53，30，16是一个大顶堆。\n",
    "\n",
    "一个有n个元素的序列作成堆，可以和一棵完全二叉树对应起来，i 和 2i、2i+1 的关系就是双亲与其左、右孩子之间的位置关系（i=1，2，……，n/2）。"
   ]
  },
  {
   "cell_type": "markdown",
   "metadata": {},
   "source": [
    "下述代码展示了如何将序列转换为一棵完全二叉树。"
   ]
  },
  {
   "cell_type": "code",
   "execution_count": 7,
   "metadata": {},
   "outputs": [
    {
     "name": "stdout",
     "output_type": "stream",
     "text": [
      "O -- 根节点\n",
      "L -- 左孩子\n",
      "R -- 右孩子\n",
      "\n",
      "id:     1  2  3  4  5  6  7  8  9 10 11 12 13 14 15 16 17 18 19 20\n",
      "val:   91 57 72 73 34 84 29 13 62 20 91 39 77 25 97 94 44 42 23 83\n",
      "      | O| L| R|  |  |  |  |  |  |  |  |  |  |  |  |  |  |  |  |  |\n",
      "      |  | O|  | L| R|  |  |  |  |  |  |  |  |  |  |  |  |  |  |  |\n",
      "      |  |  | O|  |  | L| R|  |  |  |  |  |  |  |  |  |  |  |  |  |\n",
      "      |  |  |  | O|  |  |  | L| R|  |  |  |  |  |  |  |  |  |  |  |\n",
      "      |  |  |  |  | O|  |  |  |  | L| R|  |  |  |  |  |  |  |  |  |\n",
      "      |  |  |  |  |  | O|  |  |  |  |  | L| R|  |  |  |  |  |  |  |\n",
      "      |  |  |  |  |  |  | O|  |  |  |  |  |  | L| R|  |  |  |  |  |\n",
      "      |  |  |  |  |  |  |  | O|  |  |  |  |  |  |  | L| R|  |  |  |\n",
      "      |  |  |  |  |  |  |  |  | O|  |  |  |  |  |  |  |  | L| R|  |\n",
      "      |  |  |  |  |  |  |  |  |  | O|  |  |  |  |  |  |  |  |  | L|\n"
     ]
    }
   ],
   "source": [
    "demos = [randint(0, 99) for _ in range(20)]\n",
    "def show_heap(nums):\n",
    "    if not all([i < 100 for i in nums]):\n",
    "        return \"number must be less than 100.\"\n",
    "    n = len(nums)\n",
    "    print(\"id: \", end=\"\")\n",
    "    print(\"   \"+\" \".join([str(i) if len(str(i)) > 1 else \" \"+str(i) for i in range(1, n+1)]))\n",
    "    print(\"val:\", end=\"\")\n",
    "    print(\"   \"+\" \".join([str(i) if len(str(i)) > 1 else \" \"+str(i) for i in nums]))\n",
    "    space = [\"  \" for _ in range(n+1)]\n",
    "    for i in range(1, n+1):\n",
    "        tmp = space[:]\n",
    "        tmp[i] = \" O\"\n",
    "        flag = 1\n",
    "        if 2*i < n+1:\n",
    "            tmp[2*i] = \" L\"\n",
    "            flag = 0\n",
    "        if 2*i+1 < n+1:\n",
    "            tmp[2*i+1] = \" R\"\n",
    "        if flag:\n",
    "            break\n",
    "        print(\"    \", end=\"\")\n",
    "        print(\"|\".join([str(i) for i in tmp])+\"|\")\n",
    "\n",
    "print(\"O -- 根节点\")\n",
    "print(\"L -- 左孩子\")\n",
    "print(\"R -- 右孩子\", end=\"\\n\\n\")\n",
    "show_heap(demos)"
   ]
  },
  {
   "cell_type": "markdown",
   "metadata": {},
   "source": [
    "具体算法描述（以大顶堆为例）：\n",
    "\n",
    "步骤1: 将n个元素建成大顶堆，将堆顶元素输出。\n",
    "\n",
    "步骤2: 为了更多地继承原来堆的特性，不是对 $R_2$ 到 $R_n$ 调整，而是将原堆底元素 $R_n$ 移入堆顶位置，然后对 $R_1$ 到 $R_{n-1}$ 调整。这样，调整背景是：只有 $R_1$ 与其左右孩子之间可能不满足堆的特性，而其他地方均满足堆的特性。调整成堆之后，继续问题的重复。如此反复，可以得到一个完全有序的序列。"
   ]
  },
  {
   "cell_type": "code",
   "execution_count": 8,
   "metadata": {},
   "outputs": [
    {
     "name": "stdout",
     "output_type": "stream",
     "text": [
      "time taken: 0.0257492065ms\n"
     ]
    },
    {
     "data": {
      "text/plain": [
       "[0, 0, 0, 2, 4, 4, 6, 6, 7, 7, 7, 8, 8, 9, 9, 10, 10, 10, 11, 13]"
      ]
     },
     "execution_count": 8,
     "metadata": {},
     "output_type": "execute_result"
    }
   ],
   "source": [
    "def heap_adjust(nums, s, t):\n",
    "    \"\"\"建大顶堆\"\"\"\n",
    "    rc = nums[s]\n",
    "    i = s  # 双亲节点的索引\n",
    "    j = 2 * i  # 左孩子的索引\n",
    "    while j <= t:\n",
    "        if j < t and nums[j] < nums[j+1]:  # 如果右孩子存在且右孩子的值大于左孩子\n",
    "            j += 1  # 索引指向右孩子（即指向左右孩子中值较大的元素）\n",
    "        if rc > nums[j]:  # 如果双亲节点的值大于左右孩子\n",
    "            break  # 那没事了\n",
    "        nums[i] = nums[j]  # 否则，把双亲节点的值换成左右孩子中较大的那个\n",
    "        i = j  # 继续向下整理成堆\n",
    "        j *= 2\n",
    "    nums[i] = rc\n",
    "    return nums\n",
    "\n",
    "@timer\n",
    "def heap_sort(nums):\n",
    "    nums = [None]+nums\n",
    "    n = len(nums) - 1\n",
    "    for i in range(n//2, 0, -1):\n",
    "        nums = heap_adjust(nums, i, n)\n",
    "    for i in range(n, 0, -1):\n",
    "        nums[1], nums[i] = nums[i], nums[1]\n",
    "        nums = heap_adjust(nums, 1, i-1)\n",
    "    \n",
    "    return nums[1:]\n",
    "\n",
    "heap_sort(nums[:])"
   ]
  },
  {
   "cell_type": "markdown",
   "metadata": {},
   "source": [
    "## 4. 归并排序\n",
    "\n",
    "\n",
    "### 4.1 二路归并排序\n",
    "\n",
    "<span style=\"color: #fff !important;background-color: #0088cc;display: inline-block;padding: 0.3em 0.4em;font-size: 1.25rem;font-weight: bold;line-height: 1;text-align: center;white-space: nowrap;vertical-align: baseline;border-radius: 0.25rem; margin: 0.75em 0em 0 0;\">\n",
    "    稳定排序\n",
    "</span>\n",
    "<span style=\"color: #fff !important;background-color: #0088cc;display: inline-block;padding: 0.3em 0.4em;font-size: 1.25rem;font-weight: bold;line-height: 1;text-align: center;white-space: nowrap;vertical-align: baseline;border-radius: 0.25rem; margin: 0.75em 0em 0 0;\">\n",
    "    外排序\n",
    "</span>\n",
    "<span style=\"color: #fff !important;background-color: #0088cc;display: inline-block;padding: 0.3em 0.4em;font-size: 1.25rem;font-weight: bold;line-height: 1;text-align: center;white-space: nowrap;vertical-align: baseline;border-radius: 0.25rem; margin: 0.75em 0em 0 0;\">\n",
    "    时间复杂度: O(nlogn)\n",
    "</span>\n",
    "<span style=\"color: #fff !important;background-color: #0088cc;display: inline-block;padding: 0.3em 0.4em;font-size: 1.25rem;font-weight: bold;line-height: 1;text-align: center;white-space: nowrap;vertical-align: baseline;border-radius: 0.25rem; margin: 0.75em 0em 0 0;\">\n",
    "    空间复杂度: O(n)\n",
    "</span>\n",
    "\n",
    "二路归并的基本思想是：只有一个元素的列表总是有序的，所以将序列 `l` (`len(l) = n`) 看作 n 个长度为 1 的有序子表；对相邻的两个有序子表两两合并到一个新列表中，使之生成长度为 2 的有序子表；...... 直到最后生成表长为 n 的有序列表。这个过程需要 $log_2 n$ 趟。"
   ]
  },
  {
   "cell_type": "code",
   "execution_count": 9,
   "metadata": {},
   "outputs": [
    {
     "data": {
      "text/plain": [
       "[0, 0, 0, 2, 4, 4, 6, 6, 7, 7, 7, 8, 8, 9, 9, 10, 10, 10, 11, 13]"
      ]
     },
     "execution_count": 9,
     "metadata": {},
     "output_type": "execute_result"
    }
   ],
   "source": [
    "def merge_sort(nums):\n",
    "    if len(nums) <= 1:\n",
    "        return nums\n",
    "    mid = len(nums) // 2\n",
    "    left = merge_sort(nums[:mid])\n",
    "    right = merge_sort(nums[mid:])\n",
    "    return merge(left, right)\n",
    "\n",
    "def merge(left, right):\n",
    "    res = []\n",
    "    i, j = 0, 0\n",
    "    while i < len(left) and j < len(right):\n",
    "        if left[i] <= right[j]:\n",
    "            res.append(left[i])\n",
    "            i += 1\n",
    "        else:\n",
    "            res.append(right[j])\n",
    "            j += 1\n",
    "    res += left[i:]\n",
    "    res += right[j:]\n",
    "    return res\n",
    "\n",
    "merge_sort(nums[:])"
   ]
  },
  {
   "cell_type": "markdown",
   "metadata": {},
   "source": [
    "> 注：关于外排序\n",
    "> \n",
    "> 排序分为内排序和外排序：内排序是将待排序列的元素全部存在内存的排序；外排序是对存放在外存的文件中的海量数据的排序。外排序基于对有序归并段的归并，而初始归并段的产生又基于内排序。"
   ]
  },
  {
   "cell_type": "markdown",
   "metadata": {},
   "source": [
    "参考：\n",
    "\n",
    "- 《数据结构与算法》 张小莉，王苗，罗文编著\n",
    "- [leetcode@powcai](https://leetcode-cn.com/problems/sort-an-array/comments/319489)"
   ]
  },
  {
   "cell_type": "code",
   "execution_count": null,
   "metadata": {},
   "outputs": [],
   "source": []
  }
 ],
 "metadata": {
  "kernelspec": {
   "display_name": "Python 3",
   "language": "python",
   "name": "python3"
  },
  "language_info": {
   "codemirror_mode": {
    "name": "ipython",
    "version": 3
   },
   "file_extension": ".py",
   "mimetype": "text/x-python",
   "name": "python",
   "nbconvert_exporter": "python",
   "pygments_lexer": "ipython3",
   "version": "3.7.4"
  }
 },
 "nbformat": 4,
 "nbformat_minor": 2
}
