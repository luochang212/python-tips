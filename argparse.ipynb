{
 "cells": [
  {
   "cell_type": "markdown",
   "metadata": {},
   "source": [
    "# argparse\n",
    "\n",
    "[argparse](https://docs.python.org/3/library/argparse.html) 是用于编写命令行接口的 Python 内置库。\n",
    "\n",
    "⚠️ 以下代码均无法在Jupyter Notebook中运行，请复制到脚本文件中运行。"
   ]
  },
  {
   "cell_type": "markdown",
   "metadata": {},
   "source": [
    "## 1. help\n",
    "\n",
    "导入 argparse 包后，不需要额外配置，argparse 会自动为命令行添加 help 命令行参数。\n"
   ]
  },
  {
   "cell_type": "code",
   "execution_count": null,
   "metadata": {},
   "outputs": [],
   "source": [
    "# parser.py\n",
    "import argparse\n",
    "\n",
    "parser = argparse.ArgumentParser(description='my first command-line interface.')\n",
    "args = parser.parse_args()"
   ]
  },
  {
   "cell_type": "markdown",
   "metadata": {},
   "source": [
    "在命令行中执行\n",
    "\n",
    "```shell\n",
    "$ python parser.py -h\n",
    "```\n",
    "\n",
    "\n",
    "将在命令行中显示帮助信息。\n",
    "\n",
    "```\n",
    "usage: parser.py [-h]\n",
    "\n",
    "my first command-line interface.\n",
    "\n",
    "optional arguments:\n",
    "  -h, --help  show this help message and exit\n",
    "```"
   ]
  },
  {
   "cell_type": "markdown",
   "metadata": {},
   "source": [
    "## 2. add_argument\n",
    "\n",
    "### 2.1 位置参数\n",
    "\n",
    "位置参数一旦设定，就必须要在命令行中为位置参数赋值。"
   ]
  },
  {
   "cell_type": "code",
   "execution_count": null,
   "metadata": {},
   "outputs": [],
   "source": [
    "# parser.py\n",
    "import argparse\n",
    "\n",
    "parser = argparse.ArgumentParser()\n",
    "parser.add_argument(\"num\")  # 设定位置参数\n",
    "\n",
    "args = parser.parse_args()\n",
    "\n",
    "print(args.num, type(args.num))"
   ]
  },
  {
   "cell_type": "markdown",
   "metadata": {},
   "source": [
    "在命令行中执行\n",
    "\n",
    "```shell\n",
    "$ python parser.py 13\n",
    "```\n",
    "\n",
    "将在命令行中输出 \n",
    "\n",
    "```\n",
    "$ 13 <class 'str'>\n",
    "```"
   ]
  },
  {
   "cell_type": "markdown",
   "metadata": {},
   "source": [
    "在 `add_argument()` 里可以设定 help 关键字参数，在使用\n",
    "\n",
    "```\n",
    "$ python parser.py -h\n",
    "```\n",
    "\n",
    "打印帮助信息时，help 关键字参数里的信息将会在命令行中显示。\n",
    "\n",
    "此外，还可以设置 type 关键字参数。在命令行中读入的参数默认是 string，设置 type 后，会默认将输入的参数转为设定的数据类型。\n",
    "\n",
    "> 关于 `add_argument()` 的更多信息，请参阅：[The add_argument() method](https://docs.python.org/3/library/argparse.html#the-add-argument-method)"
   ]
  },
  {
   "cell_type": "code",
   "execution_count": null,
   "metadata": {},
   "outputs": [],
   "source": [
    "# parser.py\n",
    "import argparse\n",
    "\n",
    "parser = argparse.ArgumentParser()\n",
    "parser.add_argument(\"num\", help=\"get num from command-line.\", type=int)  # 设定位置参数\n",
    "\n",
    "args = parser.parse_args()\n",
    "\n",
    "print(args.num, type(args.num))"
   ]
  },
  {
   "cell_type": "markdown",
   "metadata": {},
   "source": [
    "在命令行中执行\n",
    "\n",
    "```shell\n",
    "$ python parser.py 13\n",
    "```\n",
    "\n",
    "将在命令行中输出 \n",
    "\n",
    "```\n",
    "13 <class 'int'>\n",
    "```"
   ]
  },
  {
   "cell_type": "markdown",
   "metadata": {},
   "source": [
    "### 2.2 可选参数\n",
    "\n",
    "可选参数在命令行中可以输入，也可以选择不输入。在参数名前加短横线 `-` 将被标识为可选参数。`--[参数全名]` 作为可选参数全名，`-[参数简称]` 作为可选参数简称。"
   ]
  },
  {
   "cell_type": "code",
   "execution_count": null,
   "metadata": {},
   "outputs": [],
   "source": [
    "# parser.py\n",
    "import argparse\n",
    "\n",
    "parser = argparse.ArgumentParser()\n",
    "parser.add_argument(\"-n\", \"--num\")  # 设定可选参数，参数全名为num，简称为n\n",
    "\n",
    "args = parser.parse_args()\n",
    "\n",
    "print(args.num)"
   ]
  },
  {
   "cell_type": "markdown",
   "metadata": {},
   "source": [
    "在命令行中执行\n",
    "\n",
    "```shell\n",
    "$ python parser.py -n 13\n",
    "```\n",
    "\n",
    "或者\n",
    "\n",
    "```shell\n",
    "$ python parser.py --num 13\n",
    "```\n",
    "\n",
    "将在命令行中输出 \n",
    "\n",
    "```\n",
    "$ 13\n",
    "```"
   ]
  },
  {
   "cell_type": "markdown",
   "metadata": {},
   "source": [
    "### 2.3 同时使用位置参数与可选参数\n",
    "\n",
    "如果位置参数与可选参数同时存在："
   ]
  },
  {
   "cell_type": "code",
   "execution_count": null,
   "metadata": {},
   "outputs": [],
   "source": [
    "# parser.py\n",
    "import argparse\n",
    "\n",
    "parser = argparse.ArgumentParser()\n",
    "parser.add_argument(\"name\", type=str)  # 设定位置参数\n",
    "parser.add_argument(\"-n\", \"--num\", type=int)  # 设定可选参数\n",
    "\n",
    "args = parser.parse_args()\n",
    "\n",
    "print(args.name, args.num)"
   ]
  },
  {
   "cell_type": "markdown",
   "metadata": {},
   "source": [
    "则以下三种命令行输入都是可接受的：\n",
    "\n",
    "\n",
    "```shell\n",
    "$ python parser.py myName\n",
    "```\n",
    "\n",
    "```shell\n",
    "$ python parser.py myName -n 13\n",
    "```\n",
    "\n",
    "```shell\n",
    "$ python parser.py -n 13 myName\n",
    "```\n",
    "\n",
    "也就是说可选参数的位置并不重要。"
   ]
  },
  {
   "cell_type": "markdown",
   "metadata": {},
   "source": [
    "### 2.4 作为选项的参数\n",
    "\n",
    "我们希望可以有一个可选参数，后面不需要跟着一个值作为输入，只要这个参数本身被添加，则其值为 True，否则其值为 False。\n",
    "\n",
    "只需要将 add_argument 的 action 关键字参数设为 `'store_true'` 就可以了。与之类似的还有 `'store_false'`。\n",
    "\n",
    "> 关于 action 参数的更多信息，参见：[action](https://docs.python.org/3/library/argparse.html#action)"
   ]
  },
  {
   "cell_type": "code",
   "execution_count": null,
   "metadata": {},
   "outputs": [],
   "source": [
    "# parser.py\n",
    "import argparse\n",
    "\n",
    "parser = argparse.ArgumentParser()\n",
    "parser.add_argument(\"-l\", \"--log\", action='store_true', help='choose the way to print log.')  # 设定可选参数\n",
    "\n",
    "args = parser.parse_args()\n",
    "\n",
    "if args.log:\n",
    "    print('yes')\n",
    "else:\n",
    "    print('no')"
   ]
  },
  {
   "cell_type": "markdown",
   "metadata": {},
   "source": [
    "在命令行中执行\n",
    "\n",
    "```shell\n",
    "$ python parser.py -l\n",
    "```\n",
    "\n",
    "输出：yes\n",
    "\n",
    "执行\n",
    "\n",
    "```shell\n",
    "$ python parser.py\n",
    "```\n",
    "\n",
    "输出：no"
   ]
  },
  {
   "cell_type": "markdown",
   "metadata": {},
   "source": [
    "### 2.5 更具普适性的方法：const 和 default 的组合\n",
    "\n",
    "使用 const 和 default 的组合，也可以实现和上例类似功能，且更具有普适性。"
   ]
  },
  {
   "cell_type": "code",
   "execution_count": null,
   "metadata": {},
   "outputs": [],
   "source": [
    "# parser.py\n",
    "import argparse\n",
    "\n",
    "parser = argparse.ArgumentParser()\n",
    "parser.add_argument(\"-l\", \"--log\", nargs='?', const='good', default='bad', help='choose the way to print log.')\n",
    "\n",
    "args = parser.parse_args()\n",
    "\n",
    "print(args.log)"
   ]
  },
  {
   "cell_type": "markdown",
   "metadata": {},
   "source": [
    "类似地，在命令行中执行\n",
    "\n",
    "```shell\n",
    "$ python parser.py -l\n",
    "```\n",
    "\n",
    "输出：good\n",
    "\n",
    "执行\n",
    "\n",
    "```shell\n",
    "$ python parser.py\n",
    "```\n",
    "\n",
    "输出：bad"
   ]
  },
  {
   "cell_type": "markdown",
   "metadata": {},
   "source": [
    "### 2.5 重命名参数\n",
    "\n",
    "add_argument 的 dest 关键字参数可以改变 parser.parse_args() 返回的变量名。"
   ]
  },
  {
   "cell_type": "code",
   "execution_count": null,
   "metadata": {},
   "outputs": [],
   "source": [
    "# parser.py\n",
    "import argparse\n",
    "\n",
    "parser = argparse.ArgumentParser()\n",
    "parser.add_argument(\"-l\", \"--log\", dest='is_log', action='store_true', help='choose the way to print log.')\n",
    "\n",
    "args = parser.parse_args()\n",
    "\n",
    "print(args.is_log)"
   ]
  },
  {
   "cell_type": "markdown",
   "metadata": {},
   "source": [
    "只需要在 dest 参数中指定返回的参数名，args 中的成员变量名就会随之改变了。"
   ]
  },
  {
   "cell_type": "markdown",
   "metadata": {},
   "source": [
    "参考：\n",
    "\n",
    "1. [Argparse Tutorial](https://docs.python.org/3/howto/argparse.html#id1)"
   ]
  }
 ],
 "metadata": {
  "kernelspec": {
   "display_name": "Python 3",
   "language": "python",
   "name": "python3"
  },
  "language_info": {
   "codemirror_mode": {
    "name": "ipython",
    "version": 3
   },
   "file_extension": ".py",
   "mimetype": "text/x-python",
   "name": "python",
   "nbconvert_exporter": "python",
   "pygments_lexer": "ipython3",
   "version": "3.7.4"
  }
 },
 "nbformat": 4,
 "nbformat_minor": 4
}
