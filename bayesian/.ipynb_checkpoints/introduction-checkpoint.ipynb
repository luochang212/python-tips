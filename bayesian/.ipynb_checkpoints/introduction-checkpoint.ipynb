{
 "cells": [
  {
   "cell_type": "markdown",
   "metadata": {},
   "source": [
    "# 贝叶斯方法简介\n",
    "\n",
    "作者：[luochang212](https://github/luochang212)<br>\n",
    "博客：[https://luochang212.github.io](https://luochang212.github.io)\n",
    "\n",
    "## 引入\n",
    "\n",
    "首先说明一下贝叶斯方法能做什么，让大家有一个先验的理解。下面这个例子来自《贝叶斯方法：概率编程与贝叶斯推断》。\n",
    "\n",
    "史蒂文被描述为一个害羞的人，他乐于助人，但是他对其他人不太关注。他非常乐见事情处于合理的顺序，并对他的工作十分细心。你会认为史蒂文是一个图书管理员还是一个农民呢？从上面的描述来看大多数人都会认为史蒂文看上去更像是图书管理员，但是这里忽略了一个关于图书管理员和农民的事实：男性图书管理员的人数只有男性农民的 1/20。所以从统计学来看史蒂文更有可能是一个农民。\n",
    "\n",
    "### 为什么我们需要贝叶斯方法\n",
    "\n",
    "如何正确地计算史蒂文是图书管理员的概率呢？\n",
    "\n",
    "如果我们不知道对史蒂文的描述，单纯依照统计学概率，史蒂文是图书管理员的概率为 1/21。但如果我们需要量化这类描述对史蒂文是图书管理员的最终概率的影响，就要用到贝叶斯方法。\n",
    "\n",
    "我们假设：\n",
    "\n",
    "- 事件 `A`：史蒂文是一个图书管理员。\n",
    "- 事件 `～A`: 史蒂文不是一个图书管理员，即史蒂文是一个农民。\n",
    "- 事件 `X`: 获得对认定史蒂文是一个图书管理员有利的描述信息。\n",
    "\n",
    "依照贝叶斯公式：\n",
    "$$ P(A | X) = \\frac{P(X | A) P(A)}{P(X)} $$\n",
    "$ P(A) $ 容易理解，$ P(X) $ 和 $ P(X | A) $ 是什么呢？\n",
    "\n",
    "**（1）对 $ P(X | A) $ 的解释**\n",
    "\n",
    "$ P(X | A) $ 可以被定义为在史蒂文真的是一个图书管理员的情况下，史蒂文的邻居们给出某种描述的概率。如果史蒂文真的是一个图书管理员，那么我们很有可能获得对认定史蒂文是一个图书管理员有利的描述信息。这个值可能接近于1。假设它为 0.95。\n",
    "\n",
    "**（2）对 $ P(X) $ 的解释**\n",
    "\n",
    "$ P(X) $ 是事件“获得对认定史蒂文是一个图书管理员有利的描述信息”的先验概率。它的值可以用已知信息计算出来：\n",
    "\n",
    "依照全概率公式，我们有：\n",
    "$$ P(X)=P(X | A)P(A) + P(X | \\sim A)P(\\sim A) $$\n",
    "又因为：\n",
    "\n",
    "- $ P(A) $ 史蒂文是一个图书管理员的先验概率，已知为 $ \\frac{1}{21} $；\n",
    "- $ P(\\sim A) $ 史蒂文不是一个图书管理员的先验概率。值为 $ 1 - P(A) = \\frac{20}{21} $；\n",
    "- - $ P(X | A) $ 史蒂文是图书管理员的情况下，邻居给出有利于认定史蒂文是图书管理员的概率。假设为 $ 0.95 $；\n",
    "- $ P(X | \\sim A) $ 史蒂文不是图书管理员的情况下，邻居给出有利于认定史蒂文是图书管理员的概率。假设为 $ 0.1 $；\n",
    "\n",
    "所以：\n",
    "$$ \\begin{aligned} P(X) &=P(X | A) P(A)+P(X | \\sim A) P(\\sim A) \\\\ &=0.95 \\times \\frac{1}{21} + 0.1 \\times \\frac{20}{21} \\\\ &\\approx 0.14 \\end{aligned} $$\n",
    "\n",
    "**（3）$ P(A | X) $ 的计算**\n",
    "$$ \\begin{aligned} P(A | X) &=  \\frac{P(X | A) P(A)}{P(X)} \\\\ &= \\frac{0.95 \\times \\frac{1}{21}}{0.14} \\\\ &\\approx 0.32 \\end{aligned} $$\n",
    "这个值远大于使用统计学方法计算出的概率 $ \\frac{1}{21} \\approx 0.05 $。使用贝叶斯方法计算出的概率更接近于获得新描述后，我们认定史蒂文是图书管理员的实际概率。\n",
    "\n",
    "### 参数对结果的影响\n",
    "\n",
    "在上述计算中，我们分别假设 $ P(X | A) $ 和 $ P(X | \\sim A) $ 的值为 $ 0.95 $ 和 $ 0.1 $。\n",
    "\n",
    "一般来说，$ P(X | A) $ 的值接近于1，$ P(X | \\sim A) $ 的值接近于0。但很难武断地说它们的值具体是多少。因此，我们可以将这两个值作为参数，利用 Python 观察它们对最终结果的影响。\n",
    "\n"
   ]
  },
  {
   "cell_type": "code",
   "execution_count": 83,
   "metadata": {},
   "outputs": [
    {
     "name": "stdout",
     "output_type": "stream",
     "text": [
      "约定：a 代表 𝑃(𝑋|𝐴)，b 代表 𝑃(𝑋|∼𝐴)。\n"
     ]
    },
    {
     "data": {
      "application/vnd.jupyter.widget-view+json": {
       "model_id": "3cfedd4ad2174f038e449ae6b0b3c7cb",
       "version_major": 2,
       "version_minor": 0
      },
      "text/plain": [
       "interactive(children=(FloatSlider(value=0.95, description='a', max=1.0, step=0.01), FloatSlider(value=0.1, des…"
      ]
     },
     "metadata": {},
     "output_type": "display_data"
    }
   ],
   "source": [
    "from ipywidgets import interact\n",
    "\n",
    "\n",
    "def f(a=0.95,b=0.1):\n",
    "    \"\"\"约定：a 代表 𝑃(𝑋|𝐴)，b 代表 𝑃(𝑋|∼𝐴)。\"\"\"\n",
    "    y = a*(1/21)/(a*(1/21)+b*(20/21))\n",
    "    print(\"𝑃(𝐴|𝑋) =\", y)\n",
    "\n",
    "print(f.__doc__)\n",
    "interact(f, a=(0.0, 1.0, 0.01), b=(0.0, 1.0, 0.01));"
   ]
  },
  {
   "cell_type": "markdown",
   "metadata": {},
   "source": [
    "### 可视化"
   ]
  },
  {
   "cell_type": "code",
   "execution_count": 93,
   "metadata": {},
   "outputs": [
    {
     "name": "stdout",
     "output_type": "stream",
     "text": [
      "约定：a 表示 𝑃(𝑋|𝐴)，b 表示 𝑃(𝑋|∼𝐴)。\n"
     ]
    },
    {
     "data": {
      "application/vnd.jupyter.widget-view+json": {
       "model_id": "2315ce7c870746fd80b5f5b1955f4f51",
       "version_major": 2,
       "version_minor": 0
      },
      "text/plain": [
       "interactive(children=(FloatSlider(value=0.95, description='a', max=1.0, step=0.01), FloatSlider(value=0.1, des…"
      ]
     },
     "metadata": {},
     "output_type": "display_data"
    }
   ],
   "source": [
    "import numpy as np\n",
    "from matplotlib import pyplot as plt\n",
    "from ipywidgets import interact\n",
    "\n",
    "\n",
    "def autolabel(rects, ax):\n",
    "    \"\"\"Attach a text label above each bar in *rects*, displaying its height.\"\"\"\n",
    "    for rect in rects:\n",
    "            height = rect.get_height()\n",
    "            ax.annotate('{:.2f}'.format(height),\n",
    "                        xy=(rect.get_x() + rect.get_width() / 2, height),\n",
    "                        xytext=(0, 3),  # 3 points vertical offset\n",
    "                        textcoords=\"offset points\",\n",
    "                        ha='center', va='bottom')\n",
    "    return ax\n",
    "\n",
    "def f(a=0.95,b=0.1):\n",
    "    \"\"\"约定：a 表示 𝑃(𝑋|𝐴)，b 表示 𝑃(𝑋|∼𝐴)。\"\"\"\n",
    "\n",
    "    y = a*(1/21)/(a*(1/21)+b*(20/21))\n",
    "    print(\"当 \", end=\"\")\n",
    "    print(\"𝑃(𝑋|𝐴) =\", '{:.2f}'.format(a), '且 ', end=\"\")\n",
    "    print(\"𝑃(𝑋|∼𝐴) =\", '{:.2f}'.format(b), '时，', end=\"\")\n",
    "    print(\"𝑃(𝐴|𝑋) =\", '{:.2f}'.format(y))\n",
    "    \n",
    "    plt.rcParams['savefig.dpi'] = 300\n",
    "    plt.rcParams['figure.dpi'] = 300\n",
    "    \n",
    "    fig, ax = plt.subplots()\n",
    "    fig.set_size_inches(12, 6)\n",
    "    \n",
    "    colors = [\"#348ABD\", \"#A60628\"]\n",
    "    prior = [1/21., 20/21.]\n",
    "    posterior = [y, 1.-y]\n",
    "    \n",
    "    rects1 = plt.bar([0, .6], prior, alpha=0.70, width=0.20,\n",
    "           color=colors[0], label=\"prior distribution\",\n",
    "           lw=\"3\", align=\"edge\")\n",
    "\n",
    "    rects2 = plt.bar([.2, .6+.2], posterior, alpha=0.7, width=0.20, \n",
    "            color=colors[1], label=\"posterior distribution\",\n",
    "           lw=\"3\", align=\"edge\")\n",
    "\n",
    "    plt.xticks([0.20, 0.80], [\"Librarian\", \"Farmer\"])\n",
    "    plt.title(\"Prior and posterior probabilities of Steve's occupation\")\n",
    "    plt.ylabel(\"Probability\")\n",
    "    plt.legend(loc=\"upper left\")\n",
    "    \n",
    "    ax = autolabel(rects1, ax)\n",
    "    ax = autolabel(rects2, ax)\n",
    "    \n",
    "    plt.show()\n",
    "    \n",
    "print(f.__doc__)\n",
    "interact(f, a=(0.0, 1.0, 0.01), b=(0.0, 1.0, 0.01));"
   ]
  },
  {
   "cell_type": "code",
   "execution_count": null,
   "metadata": {},
   "outputs": [],
   "source": []
  }
 ],
 "metadata": {
  "kernelspec": {
   "display_name": "Python 3",
   "language": "python",
   "name": "python3"
  },
  "language_info": {
   "codemirror_mode": {
    "name": "ipython",
    "version": 3
   },
   "file_extension": ".py",
   "mimetype": "text/x-python",
   "name": "python",
   "nbconvert_exporter": "python",
   "pygments_lexer": "ipython3",
   "version": "3.7.4"
  }
 },
 "nbformat": 4,
 "nbformat_minor": 2
}
