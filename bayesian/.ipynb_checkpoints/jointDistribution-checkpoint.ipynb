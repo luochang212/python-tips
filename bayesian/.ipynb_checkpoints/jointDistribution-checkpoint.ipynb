{
 "cells": [
  {
   "cell_type": "markdown",
   "metadata": {},
   "source": [
    "# 联合概率分布\n",
    "\n",
    "我们已经知道由联合概率分布，可以推出各分量的边际概率分布。那么如何由各分量的概率分布，推联合概率分布呢？\n",
    "\n",
    "一般情况下，联合概率分布携带的信息大于各分量的概率分布，因此无法由分量的概率分布求得。但当各分量相互独立时，可以由分量的概率分布求得。\n",
    "\n"
   ]
  },
  {
   "cell_type": "code",
   "execution_count": null,
   "metadata": {},
   "outputs": [],
   "source": []
  }
 ],
 "metadata": {
  "kernelspec": {
   "display_name": "Python 3",
   "language": "python",
   "name": "python3"
  },
  "language_info": {
   "codemirror_mode": {
    "name": "ipython",
    "version": 3
   },
   "file_extension": ".py",
   "mimetype": "text/x-python",
   "name": "python",
   "nbconvert_exporter": "python",
   "pygments_lexer": "ipython3",
   "version": "3.7.4"
  }
 },
 "nbformat": 4,
 "nbformat_minor": 2
}
