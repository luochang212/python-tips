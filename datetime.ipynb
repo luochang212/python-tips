{
 "cells": [
  {
   "cell_type": "markdown",
   "metadata": {},
   "source": [
    "# datetime\n",
    "\n",
    "datetime 模块用于操作日期和时间。\n",
    "\n",
    "本文目录：\n",
    "\n",
    "1. timedelta 对象\n",
    "    - 构造函数\n",
    "    - 支持的操作\n",
    "2. date 对象\n",
    "    - 构造函数\n",
    "    - 类方法\n",
    "    - 类属性\n",
    "    - 支持的操作\n",
    "    - 实例方法\n",
    "3. datetime 对象\n",
    "    - 构造函数\n",
    "    - 类方法\n",
    "    - 类属性\n",
    "    - 实例属性\n",
    "    - 支持的操作\n",
    "    - 实例方法\n",
    "4. time 对象\n",
    "    - 构造函数\n",
    "    - 类方法\n",
    "    - 类属性\n",
    "    - 实例方法\n",
    "5. tzinfo 对象\n",
    "6. timezone 对象\n",
    "    - 构造函数\n",
    "    - 实例方法"
   ]
  },
  {
   "cell_type": "code",
   "execution_count": 1,
   "metadata": {},
   "outputs": [
    {
     "name": "stdout",
     "output_type": "stream",
     "text": [
      "datatime 模块允许的最小年份： 1\n",
      "datatime 模块允许的最大年份： 9999\n"
     ]
    }
   ],
   "source": [
    "import datetime\n",
    "print('datatime 模块允许的最小年份：', datetime.MINYEAR)\n",
    "print('datatime 模块允许的最大年份：', datetime.MAXYEAR)"
   ]
  },
  {
   "cell_type": "markdown",
   "metadata": {},
   "source": [
    "## 1. timedelta 对象\n",
    "\n",
    "datetime.timedelta 用于计算两个时间之间的时间间隔。\n",
    "\n",
    "原文介绍：\n",
    "\n",
    "> A timedelta object represents a duration, the difference between two dates or times.\n",
    "\n",
    "### 1.1 构造函数\n",
    "\n",
    "class datetime.timedelta(days=0, seconds=0, microseconds=0, milliseconds=0, minutes=0, hours=0, weeks=0)"
   ]
  },
  {
   "cell_type": "code",
   "execution_count": 2,
   "metadata": {},
   "outputs": [
    {
     "data": {
      "text/plain": [
       "datetime.timedelta(days=8, seconds=3661, microseconds=1001)"
      ]
     },
     "execution_count": 2,
     "metadata": {},
     "output_type": "execute_result"
    }
   ],
   "source": [
    "datetime.timedelta(days=1, seconds=1, microseconds=1, milliseconds=1, minutes=1, hours=1, weeks=1)"
   ]
  },
  {
   "cell_type": "markdown",
   "metadata": {},
   "source": [
    "所有参数都是可选的且默认为0。参数可以是整型，也可以是浮点型；可以是正数，也可以是负数。"
   ]
  },
  {
   "cell_type": "code",
   "execution_count": 3,
   "metadata": {},
   "outputs": [
    {
     "data": {
      "text/plain": [
       "(datetime.timedelta(0), datetime.timedelta(days=-1, seconds=82800))"
      ]
     },
     "execution_count": 3,
     "metadata": {},
     "output_type": "execute_result"
    }
   ],
   "source": [
    "datetime.timedelta(), datetime.timedelta(hours=-1)"
   ]
  },
  {
   "cell_type": "markdown",
   "metadata": {},
   "source": [
    "datetime.timedelta 内部数据会被转换成日、秒和微秒保存。其他参数会被转换成这三个单位：\n",
    "\n",
    "- 1 毫秒被转换成 1000 微秒\n",
    "- 1 分钟被转换成 60 秒\n",
    "- 1 小时被转换成 3600 秒\n",
    "- 1 星期被转换成 7 天\n",
    "\n",
    "日、秒和微秒将会被标准化，从而使每个时间的表达方式唯一。它们满足的规则如下：\n",
    "\n",
    "- 0 <= microseconds < 1000000\n",
    "- 0 <= seconds < 3600*24 (the number of seconds in one day)\n",
    "- -999999999 <= days <= 999999999"
   ]
  },
  {
   "cell_type": "code",
   "execution_count": 4,
   "metadata": {},
   "outputs": [
    {
     "name": "stdout",
     "output_type": "stream",
     "text": [
      "timedelta 对象允许的最小时间间隔： -999999999 days, 0:00:00\n",
      "timedelta 对象允许的最大时间间隔： 999999999 days, 23:59:59.999999\n"
     ]
    }
   ],
   "source": [
    "print('timedelta 对象允许的最小时间间隔：', datetime.timedelta.min)\n",
    "print('timedelta 对象允许的最大时间间隔：', datetime.timedelta.max)"
   ]
  },
  {
   "cell_type": "markdown",
   "metadata": {},
   "source": [
    "### 1.2 支持的操作"
   ]
  },
  {
   "cell_type": "code",
   "execution_count": 5,
   "metadata": {},
   "outputs": [],
   "source": [
    "# 初始化\n",
    "t2 = datetime.timedelta(weeks=1, days=2, hours=19, minutes=9, seconds=32)\n",
    "t3 = datetime.timedelta(weeks=2, days=5, hours=93, minutes=7, seconds=21)\n",
    "i = 2\n",
    "f = .23"
   ]
  },
  {
   "cell_type": "code",
   "execution_count": 6,
   "metadata": {},
   "outputs": [
    {
     "name": "stdout",
     "output_type": "stream",
     "text": [
      "t2 + t3: 32 days, 16:16:53\n",
      "t2 - t3: -14 days, 22:02:11\n",
      "t2 * i: 19 days, 14:19:04\n",
      "t2 * f: 2 days, 6:05:11.560000\n",
      "t2 / t3: 0.4282448613722601\n",
      "t2 / f: 42 days, 14:25:47.826087\n",
      "t2 / i: 4 days, 21:34:46\n",
      "t2 // i: 4 days, 21:34:46\n",
      "t2 // t3: 0\n",
      "t2 % t3: 9 days, 19:09:32\n",
      "divmod(t1, t2): (0, datetime.timedelta(days=9, seconds=68972))\n",
      "+t2: 9 days, 19:09:32\n",
      "-t2: -10 days, 4:50:28\n",
      "abs(t2): 9 days, 19:09:32\n",
      "str(t2): 9 days, 19:09:32\n",
      "repr(t2): datetime.timedelta(days=9, seconds=68972)\n"
     ]
    }
   ],
   "source": [
    "print('t2 + t3:', t2 + t3)\n",
    "print('t2 - t3:', t2 - t3)\n",
    "print('t2 * i:', t2 * i)\n",
    "print('t2 * f:', t2 * f)\n",
    "print('t2 / t3:', t2 / t3)\n",
    "print('t2 / f:', t2 / f)\n",
    "print('t2 / i:', t2 / i)\n",
    "print('t2 // i:', t2 // i)\n",
    "print('t2 // t3:', t2 // t3)\n",
    "print('t2 % t3:', t2 % t3)\n",
    "print('divmod(t1, t2):', divmod(t2, t3))\n",
    "print('+t2:', +t2)\n",
    "print('-t2:', -t2)\n",
    "print('abs(t2):', abs(t2))\n",
    "print('str(t2):', str(t2))\n",
    "print('repr(t2):', repr(t2))"
   ]
  },
  {
   "cell_type": "markdown",
   "metadata": {},
   "source": [
    "timedelta.total_seconds() 方法返回一段时间的总秒数。如果输入一段非常长的时间（大多数平台上是大于 270 年），此方法将丢失微秒的精度。"
   ]
  },
  {
   "cell_type": "code",
   "execution_count": 7,
   "metadata": {},
   "outputs": [
    {
     "data": {
      "text/plain": [
       "846572.0"
      ]
     },
     "execution_count": 7,
     "metadata": {},
     "output_type": "execute_result"
    }
   ],
   "source": [
    "t2.total_seconds()"
   ]
  },
  {
   "cell_type": "markdown",
   "metadata": {},
   "source": [
    "## 2. date 对象\n",
    "\n",
    "date 对象代表理想化日历里的日期（年、月和日）。\n",
    "\n",
    "原文介绍：\n",
    "\n",
    "> A date object represents a date (year, month and day) in an idealized calendar, the current Gregorian calendar indefinitely extended in both directions.\n",
    "\n",
    "### 2.1 构造函数\n",
    "\n",
    "class datetime.date(year, month, day)"
   ]
  },
  {
   "cell_type": "code",
   "execution_count": 8,
   "metadata": {},
   "outputs": [
    {
     "data": {
      "text/plain": [
       "datetime.date(1, 1, 1)"
      ]
     },
     "execution_count": 8,
     "metadata": {},
     "output_type": "execute_result"
    }
   ],
   "source": [
    "datetime.date(year=1, month=1, day=1)"
   ]
  },
  {
   "cell_type": "markdown",
   "metadata": {},
   "source": [
    "所有的参数都是必选的。参数必须是整数且符合以下规则：\n",
    "\n",
    "- MINYEAR <= year <= MAXYEAR\n",
    "- 1 <= month <= 12\n",
    "- 1 <= day <= number of days in the given month and year\n",
    "\n",
    "如果有任何参数超过了允许的范围，将触发 ValueError。\n",
    "\n",
    "### 2.2 类方法 (class methods)"
   ]
  },
  {
   "cell_type": "code",
   "execution_count": 9,
   "metadata": {},
   "outputs": [
    {
     "name": "stdout",
     "output_type": "stream",
     "text": [
      "datetime.date.today(): 2020-02-18\n",
      "datetime.date.fromtimestamp(1633223412): 2021-10-03\n",
      "datetime.date.fromordinal(740000): 2027-01-19\n",
      "datetime.date.fromordinal(740000).toordinal(): 740000\n",
      "datetime.date.fromisoformat('2020-01-17'): 2020-01-17\n"
     ]
    }
   ],
   "source": [
    "# 返回现在的本地日期\n",
    "print('datetime.date.today():', datetime.date.today())\n",
    "\n",
    "# 将 POSIX 时间戳转换为本地时间\n",
    "print('datetime.date.fromtimestamp(1633223412):', datetime.date.fromtimestamp(1633223412))\n",
    "\n",
    "# 将日（只接受整数）转换成从公元1年开始计数的日期\n",
    "# ValueError is raised unless 1 <= ordinal <= date.max.toordinal().\n",
    "print('datetime.date.fromordinal(740000):', datetime.date.fromordinal(740000))\n",
    "\n",
    "# datetime.date.fromordinal()的逆操作\n",
    "print('datetime.date.fromordinal(740000).toordinal():', datetime.date.fromordinal(740000).toordinal())\n",
    "\n",
    "# 将形为 YYYY-MM-DD 的日期字符串转换成对应的 date 对象\n",
    "print('datetime.date.fromisoformat(\\'2020-01-17\\'):', datetime.date.fromisoformat('2020-01-17'))"
   ]
  },
  {
   "cell_type": "markdown",
   "metadata": {},
   "source": [
    "### 2.3 类属性 (class attributes)"
   ]
  },
  {
   "cell_type": "code",
   "execution_count": 10,
   "metadata": {},
   "outputs": [
    {
     "name": "stdout",
     "output_type": "stream",
     "text": [
      "datetime.date.min: 0001-01-01\n",
      "datetime.date.max: 9999-12-31\n",
      "datetime.date.resolution: 1 day, 0:00:00\n"
     ]
    }
   ],
   "source": [
    "# 可表示的最早日期\n",
    "print('datetime.date.min:', datetime.date.min)\n",
    "\n",
    "# 可表示的最晚日期\n",
    "print('datetime.date.max:', datetime.date.max)\n",
    "\n",
    "# 不相等日期之间最小可能差值\n",
    "print('datetime.date.resolution:', datetime.date.resolution)"
   ]
  },
  {
   "cell_type": "markdown",
   "metadata": {},
   "source": [
    "### 2.4 支持的操作"
   ]
  },
  {
   "cell_type": "code",
   "execution_count": 11,
   "metadata": {},
   "outputs": [],
   "source": [
    "# 初始化\n",
    "date1 = datetime.date.fromisoformat('2020-02-02')\n",
    "date2 = datetime.date.fromisoformat('2019-12-21')\n",
    "delta = datetime.timedelta(days=5, hours=33, minutes=147, seconds=21)"
   ]
  },
  {
   "cell_type": "code",
   "execution_count": 12,
   "metadata": {},
   "outputs": [
    {
     "name": "stdout",
     "output_type": "stream",
     "text": [
      "date1 + delta: 2020-02-08\n",
      "date1 - delta: 2020-01-27\n",
      "date1 - date2: 43 days, 0:00:00\n",
      "date1 < date2: False\n"
     ]
    }
   ],
   "source": [
    "print('date1 + delta:', date1 + delta)\n",
    "print('date1 - delta:', date1 - delta)\n",
    "print('date1 - date2:', date1 - date2)\n",
    "print('date1 < date2:', date1 < date2)"
   ]
  },
  {
   "cell_type": "markdown",
   "metadata": {},
   "source": [
    "### 2.5 实例方法 (instance methods)\n",
    "\n",
    "### 2.5.1 `date.replace(...)`\n",
    "\n",
    "date.replace(year=self.year, month=self.month, day=self.day) 方法可通过关键字参数替换日期中的年、月或日。"
   ]
  },
  {
   "cell_type": "code",
   "execution_count": 13,
   "metadata": {},
   "outputs": [
    {
     "name": "stdout",
     "output_type": "stream",
     "text": [
      "date1.replace(year=2): 0005-01-01\n",
      "date1.replace(month=2): 2000-05-01\n",
      "date1.replace(day=2): 2000-01-05\n"
     ]
    }
   ],
   "source": [
    "# 初始化\n",
    "date1 = datetime.date.fromisoformat('2000-01-01')\n",
    "\n",
    "# 分别替换年、月和日\n",
    "print('date1.replace(year=2):', date1.replace(year=5))\n",
    "print('date1.replace(month=2):', date1.replace(month=5))\n",
    "print('date1.replace(day=2):', date1.replace(day=5))"
   ]
  },
  {
   "cell_type": "markdown",
   "metadata": {},
   "source": [
    "### 2.5.2 `date.timetuple()`\n",
    "\n",
    "date.timetuple() 方法返回一个元组。各项分别为（年，月，日，小时，分钟，秒，周几，一年中的第几天，DST标记）。"
   ]
  },
  {
   "cell_type": "code",
   "execution_count": 14,
   "metadata": {},
   "outputs": [
    {
     "data": {
      "text/plain": [
       "time.struct_time(tm_year=2000, tm_mon=12, tm_mday=1, tm_hour=0, tm_min=0, tm_sec=0, tm_wday=4, tm_yday=336, tm_isdst=-1)"
      ]
     },
     "execution_count": 14,
     "metadata": {},
     "output_type": "execute_result"
    }
   ],
   "source": [
    "# 初始化\n",
    "date2 = datetime.date.fromisoformat('2000-12-01')\n",
    "date2.timetuple()"
   ]
  },
  {
   "cell_type": "markdown",
   "metadata": {},
   "source": [
    "### 2.5.3 `date.toordinal()`\n",
    "\n",
    "date.toordinal() 方法返回以公元1年1月1日起，直到传入 date 为止所经历的日数。"
   ]
  },
  {
   "cell_type": "code",
   "execution_count": 15,
   "metadata": {},
   "outputs": [
    {
     "name": "stdout",
     "output_type": "stream",
     "text": [
      "date3.toordinal() 1\n",
      "date2.toordinal() 730455\n"
     ]
    }
   ],
   "source": [
    "# 初始化\n",
    "date3 = datetime.date.fromisoformat('0001-01-01')\n",
    "\n",
    "# 初始化\n",
    "print('date3.toordinal()', date3.toordinal())\n",
    "print('date2.toordinal()', date2.toordinal())"
   ]
  },
  {
   "cell_type": "markdown",
   "metadata": {},
   "source": [
    "### 2.5.4 `date.weekday()`\n",
    "\n",
    "date.weekday() 方法以整数形式返回传入的 date 对象的星期数。其中，0表示星期一，6表示星期日。"
   ]
  },
  {
   "cell_type": "code",
   "execution_count": 16,
   "metadata": {},
   "outputs": [
    {
     "name": "stdout",
     "output_type": "stream",
     "text": [
      "datetime.date.fromisoformat('0001-01-01').weekday(): 0\n",
      "datetime.date.today().weekday(): 1\n"
     ]
    }
   ],
   "source": [
    "print('datetime.date.fromisoformat(\\'0001-01-01\\').weekday():', datetime.date.fromisoformat('0001-01-01').weekday())\n",
    "print('datetime.date.today().weekday():', datetime.date.today().weekday())"
   ]
  },
  {
   "cell_type": "markdown",
   "metadata": {},
   "source": [
    "### 2.5.5 `date.isoweekday()`\n",
    "\n",
    "date.isoweekday() 方法以整数形式返回传入的 date 对象的星期数。其中，1表示星期一，7表示星期日。"
   ]
  },
  {
   "cell_type": "code",
   "execution_count": 17,
   "metadata": {},
   "outputs": [
    {
     "name": "stdout",
     "output_type": "stream",
     "text": [
      "datetime.date.fromisoformat('0001-01-01').isoweekday(): 1\n",
      "datetime.date.today().isoweekday(): 2\n"
     ]
    }
   ],
   "source": [
    "print('datetime.date.fromisoformat(\\'0001-01-01\\').isoweekday():', datetime.date.fromisoformat('0001-01-01').isoweekday())\n",
    "print('datetime.date.today().isoweekday():', datetime.date.today().isoweekday())"
   ]
  },
  {
   "cell_type": "markdown",
   "metadata": {},
   "source": [
    "### 2.5.6 `date.isocalendar()`\n",
    "\n",
    "date.isocalendar() 方法返回一个三元组（ISO年，ISO周号，ISO工作日）。ISO日历是公历的一种广泛使用的变体。详细说明参见：[The Mathematics of the ISO 8601 Calendar](https://www.staff.science.uu.nl/~gent0113/calendar/isocalendar.htm)。\n",
    "\n",
    "ISO calendar 的一些说明：\n",
    "\n",
    "> The ISO year consists of 52 or 53 full weeks, and where a week starts on a Monday and ends on a Sunday. The first week of an ISO year is the first (Gregorian) calendar week of a year containing a Thursday. This is called week number 1, and the ISO year of that Thursday is the same as its Gregorian year.\n",
    "> \n",
    "> For example, 2004 begins on a Thursday, so the first week of ISO year 2004 begins on Monday, 29 Dec 2003 and ends on Sunday, 4 Jan 2004, so that `date(2003, 12, 29).isocalendar() == (2004, 1, 1)` and `date(2004, 1, 4).isocalendar() == (2004, 1, 7)`."
   ]
  },
  {
   "cell_type": "code",
   "execution_count": 18,
   "metadata": {},
   "outputs": [
    {
     "data": {
      "text/plain": [
       "(2000, 48, 5)"
      ]
     },
     "execution_count": 18,
     "metadata": {},
     "output_type": "execute_result"
    }
   ],
   "source": [
    "date2.isocalendar()"
   ]
  },
  {
   "cell_type": "markdown",
   "metadata": {},
   "source": [
    "### 2.5.7 `date.isoformat()`\n",
    "\n",
    "date.isoformat() 方法返回形为 YYYY-MM-DD （ISO 8601 格式）的字符串。"
   ]
  },
  {
   "cell_type": "code",
   "execution_count": 19,
   "metadata": {},
   "outputs": [
    {
     "data": {
      "text/plain": [
       "'2000-12-01'"
      ]
     },
     "execution_count": 19,
     "metadata": {},
     "output_type": "execute_result"
    }
   ],
   "source": [
    "date2.isoformat()"
   ]
  },
  {
   "cell_type": "markdown",
   "metadata": {},
   "source": [
    "### 2.5.8 `date.__str__()`\n",
    "\n",
    "date.\\_\\_str\\_\\_() 方法。对于一个 date 对象 d，`str(d)` 作用等同于 `d.isoformat()`。"
   ]
  },
  {
   "cell_type": "code",
   "execution_count": 20,
   "metadata": {},
   "outputs": [
    {
     "data": {
      "text/plain": [
       "'2000-12-01'"
      ]
     },
     "execution_count": 20,
     "metadata": {},
     "output_type": "execute_result"
    }
   ],
   "source": [
    "str(date2)"
   ]
  },
  {
   "cell_type": "markdown",
   "metadata": {},
   "source": [
    "### 2.5.9 `date.ctime()`\n",
    "\n",
    "date.ctime() 方法返回一个代表时间的字符串。"
   ]
  },
  {
   "cell_type": "code",
   "execution_count": 21,
   "metadata": {},
   "outputs": [
    {
     "data": {
      "text/plain": [
       "'Fri Dec  1 00:00:00 2000'"
      ]
     },
     "execution_count": 21,
     "metadata": {},
     "output_type": "execute_result"
    }
   ],
   "source": [
    "date2.ctime()"
   ]
  },
  {
   "cell_type": "markdown",
   "metadata": {},
   "source": [
    "### 2.5.10 `date.strftime(format)`\n",
    "\n",
    "date.strftime(format) 方法。详请参见：[strftime() and strptime() Behavior](https://docs.python.org/3.7/library/datetime.html#strftime-strptime-behavior)"
   ]
  },
  {
   "cell_type": "code",
   "execution_count": 22,
   "metadata": {},
   "outputs": [
    {
     "name": "stdout",
     "output_type": "stream",
     "text": [
      "date4.strftime('%c'): Sun Mar  4 15:06:07 2012\n",
      "date4.strftime('%Y'): 2012\n",
      "date4.strftime('%y'): 12\n",
      "date4.strftime('%b'): Mar\n",
      "date4.strftime('%B'): March\n",
      "date4.strftime('%m'): 03\n",
      "date4.strftime('%d'): 04\n",
      "date4.strftime('%H'): 15\n",
      "date4.strftime('%I'): 03\n",
      "date4.strftime('%p'): PM\n",
      "date4.strftime('%M'): 06\n",
      "date4.strftime('%S'): 07\n",
      "date4.strftime('%f'): 000666\n",
      "date4.strftime('%Y-%m-%d'): 2012-03-04\n"
     ]
    }
   ],
   "source": [
    "date4 = datetime.datetime(2012,3,4,15,6,7,microsecond=666)\n",
    "\n",
    "# 语言环境的适当日期和时间表示\n",
    "print('date4.strftime(\\'%c\\'):',date4.strftime('%c'))\n",
    "\n",
    "# 年份\n",
    "print('date4.strftime(\\'%Y\\'):', date4.strftime('%Y'))\n",
    "\n",
    "# 无世纪的年份\n",
    "print('date4.strftime(\\'%y\\'):', date4.strftime('%y'))\n",
    "\n",
    "# 月作为语言环境的缩写名称\n",
    "print('date4.strftime(\\'%b\\'):', date4.strftime('%b'))\n",
    "\n",
    "# 月作为语言环境的全名\n",
    "print('date4.strftime(\\'%B\\'):', date4.strftime('%B'))\n",
    "\n",
    "# 月份\n",
    "print('date4.strftime(\\'%m\\'):', date4.strftime('%m'))\n",
    "\n",
    "# 月份中的一天\n",
    "print('date4.strftime(\\'%d\\'):', date4.strftime('%d'))\n",
    "\n",
    "# 小时（24小时制）\n",
    "print('date4.strftime(\\'%H\\'):', date4.strftime('%H'))\n",
    "\n",
    "# 小时（12小时制）\n",
    "print('date4.strftime(\\'%I\\'):', date4.strftime('%I'))\n",
    "\n",
    "# 作为语言环境的AM/PM\n",
    "print('date4.strftime(\\'%p\\'):', date4.strftime('%p'))\n",
    "\n",
    "# 分钟\n",
    "print('date4.strftime(\\'%M\\'):', date4.strftime('%M'))\n",
    "\n",
    "# 秒\n",
    "print('date4.strftime(\\'%S\\'):', date4.strftime('%S'))\n",
    "\n",
    "# 微秒\n",
    "print('date4.strftime(\\'%f\\'):', date4.strftime('%f'))\n",
    "\n",
    "# YYYY-MM-DD\n",
    "print('date4.strftime(\\'%Y-%m-%d\\'):', date4.strftime('%Y-%m-%d'))"
   ]
  },
  {
   "cell_type": "markdown",
   "metadata": {},
   "source": [
    "### 2.5.11 `date.__format__(format)`\n",
    "\n",
    "date.\\_\\_format\\_\\_(format) 方法"
   ]
  },
  {
   "cell_type": "code",
   "execution_count": 23,
   "metadata": {},
   "outputs": [
    {
     "data": {
      "text/plain": [
       "'2012-03-04 15点 06分'"
      ]
     },
     "execution_count": 23,
     "metadata": {},
     "output_type": "execute_result"
    }
   ],
   "source": [
    "\"{:%Y-%m-%d %H}点 {:%M}分\".format(date4, date4)"
   ]
  },
  {
   "cell_type": "markdown",
   "metadata": {},
   "source": [
    "## 3. datetime 对象\n",
    "\n",
    "datetime 是一个单独的对象，但包含 date 对象和 time 对象的所有信息。\n",
    "\n",
    "### 3.1 构造函数 (Constructor)\n",
    "\n",
    "class datetime.datetime(year, month, day, hour=0, minute=0, second=0, microsecond=0, tzinfo=None, *, fold=0)"
   ]
  },
  {
   "cell_type": "code",
   "execution_count": 24,
   "metadata": {},
   "outputs": [
    {
     "data": {
      "text/plain": [
       "datetime.datetime(1, 1, 1, 0, 0)"
      ]
     },
     "execution_count": 24,
     "metadata": {},
     "output_type": "execute_result"
    }
   ],
   "source": [
    "datetime.datetime(year=1, month=1, day=1)"
   ]
  },
  {
   "cell_type": "markdown",
   "metadata": {},
   "source": [
    "其中，参数年、月、日是必须输入的。tzinfo 可以是 None 或者 tzinfo 类的子类。其余参数必须是整数且符合以下规则：\n",
    "\n",
    "- MINYEAR <= year <= MAXYEAR\n",
    "- 1 <= month <= 12\n",
    "- 1 <= day <= number of days in the given month and year\n",
    "- 0 <= hour < 24\n",
    "- 0 <= minute < 60\n",
    "- 0 <= second < 60\n",
    "- 0 <= microsecond < 1000000\n",
    "- fold in [0, 1]\n",
    "\n",
    "如果有参数超出上述范围，将触发 ValueError。\n",
    "\n",
    "### 3.2 类方法 (class methods)"
   ]
  },
  {
   "cell_type": "code",
   "execution_count": 25,
   "metadata": {},
   "outputs": [
    {
     "name": "stdout",
     "output_type": "stream",
     "text": [
      "datetime.datetime.today(): 2020-02-18 17:45:02.555343\n",
      "datetime.datetime.now(tz=tzone): 2020-02-18 19:45:02.555666+10:00\n",
      "datetime.datetime.utcnow(): 2020-02-18 09:45:02.555732\n",
      "datetime.datetime.fromtimestamp(740000): 1970-01-09 21:33:20\n",
      "datetime.datetime.utcfromtimestamp(740000): 1970-01-09 13:33:20\n",
      "datetime.datetime.fromordinal(1): 0001-01-01 00:00:00\n",
      "datetime.datetime.combine(date1, time1): 2019-10-01 10:20:30\n",
      "datetime.datetime.fromisoformat(): 2019-11-11 01:02:03.456789+01:02:03.456789\n",
      "datetime.datetime.strptime(): 2019-11-11 23:45:00\n"
     ]
    }
   ],
   "source": [
    "# 返回现在的本地的 datetime\n",
    "print('datetime.datetime.today():', datetime.datetime.today())\n",
    "\n",
    "# 返回现在的本地的 date 和 time\n",
    "tzone = datetime.timezone(datetime.timedelta(hours=10))  # 设定时区\n",
    "print('datetime.datetime.now(tz=tzone):', datetime.datetime.now(tz=tzone))\n",
    "\n",
    "# 返回当前的 UTC+0 的 date 和 time\n",
    "print('datetime.datetime.utcnow():', datetime.datetime.utcnow())\n",
    "\n",
    "# 返回本地的对应于 POSIX 时间戳的 date 和 time\n",
    "print('datetime.datetime.fromtimestamp(740000):', datetime.datetime.fromtimestamp(740000))\n",
    "\n",
    "# 返回 UTC+0 的对应于 POSIX 时间戳的 date 和 time\n",
    "print('datetime.datetime.utcfromtimestamp(740000):', datetime.datetime.utcfromtimestamp(740000))\n",
    "\n",
    "# 传入从公元1年1月1日起计数的日数，返回对应的 datetime\n",
    "print('datetime.datetime.fromordinal(1):', datetime.datetime.fromordinal(1))\n",
    "\n",
    "# 传入 date 和 time 对象，返回对应的 datetime 对象\n",
    "date1 = datetime.date(2019,10,1) # 初始化date对象\n",
    "time1 = datetime.time(hour=10,minute=20,second=30) # 初始化time对象\n",
    "print('datetime.datetime.combine(date1, time1):', datetime.datetime.combine(date1, time1))\n",
    "\n",
    "# 返回形为 YYYY-MM-DD[*HH[:MM[:SS[.fff[fff]]]][+HH:MM[:SS[.ffffff]]]] 的字符串对应的 datetime\n",
    "print('datetime.datetime.fromisoformat():', datetime.datetime.fromisoformat('2019-11-11 01:02:03.456789+01:02:03.456789'))\n",
    "\n",
    "# 返回字符串对应的 datetime，根据传入的format进行解析\n",
    "print('datetime.datetime.strptime():', datetime.datetime.strptime('2019/11/11 23h 45min', '%Y/%m/%d %Hh %Mmin'))"
   ]
  },
  {
   "cell_type": "markdown",
   "metadata": {},
   "source": [
    "### 3.3 类属性 (class attributes)"
   ]
  },
  {
   "cell_type": "code",
   "execution_count": 26,
   "metadata": {},
   "outputs": [
    {
     "name": "stdout",
     "output_type": "stream",
     "text": [
      "datetime.datetime.min: 0001-01-01 00:00:00\n",
      "datetime.datetime.max: 9999-12-31 23:59:59.999999\n",
      "datetime.datetime.resolution: 0:00:00.000001\n"
     ]
    }
   ],
   "source": [
    "# 最早可表示的datetime\n",
    "print('datetime.datetime.min:', datetime.datetime.min)\n",
    "\n",
    "# 最晚可表示的datetime\n",
    "print('datetime.datetime.max:', datetime.datetime.max)\n",
    "\n",
    "# 不同的两个datetime之间的最小差异\n",
    "print('datetime.datetime.resolution:', datetime.datetime.resolution)"
   ]
  },
  {
   "cell_type": "markdown",
   "metadata": {},
   "source": [
    "### 3.4 实例属性（只读）\n",
    "\n",
    "**datetime.year**<br>\n",
    "Between MINYEAR and MAXYEAR inclusive.\n",
    "\n",
    "**datetime.month**<br>\n",
    "Between 1 and 12 inclusive.\n",
    "\n",
    "**datetime.day**<br>\n",
    "Between 1 and the number of days in the given month of the given year.\n",
    "\n",
    "**datetime.hour**<br>\n",
    "In range(24).\n",
    "\n",
    "**datetime.minute**<br>\n",
    "In range(60).\n",
    "\n",
    "**datetime.second**<br>\n",
    "In range(60).\n",
    "\n",
    "**datetime.microsecond**<br>\n",
    "In range(1000000).\n",
    "\n",
    "**datetime.tzinfo**<br>\n",
    "The object passed as the tzinfo argument to the datetime constructor, or None if none was passed.\n",
    "\n",
    "**datetime.fold**<br>\n",
    "In [0, 1]. Used to disambiguate wall times during a repeated interval. (A repeated interval occurs when clocks are rolled back at the end of daylight saving time or when the UTC offset for the current zone is decreased for political reasons.) The value 0 (1) represents the earlier (later) of the two moments with the same wall time representation."
   ]
  },
  {
   "cell_type": "markdown",
   "metadata": {},
   "source": [
    "### 3.5 支持的操作"
   ]
  },
  {
   "cell_type": "code",
   "execution_count": 27,
   "metadata": {},
   "outputs": [],
   "source": [
    "# 初始化\n",
    "datetime1 = datetime.datetime.today()\n",
    "datetime2 = datetime.datetime(2019,10,1, hour=7)\n",
    "delta = datetime.timedelta(hours=11, minutes=22, seconds=33)"
   ]
  },
  {
   "cell_type": "code",
   "execution_count": 28,
   "metadata": {},
   "outputs": [
    {
     "name": "stdout",
     "output_type": "stream",
     "text": [
      "datetime1 + delta: 2020-02-19 05:07:35.567658\n",
      "datetime1 - delta: 2020-02-18 06:22:29.567658\n",
      "datetime1 - datetime2: 140 days, 10:45:02.567658\n",
      "datetime1 < datetime2: False\n"
     ]
    }
   ],
   "source": [
    "print('datetime1 + delta:', datetime1 + delta)\n",
    "print('datetime1 - delta:', datetime1 - delta)\n",
    "print('datetime1 - datetime2:', datetime1 - datetime2)\n",
    "print('datetime1 < datetime2:', datetime1 < datetime2)"
   ]
  },
  {
   "cell_type": "markdown",
   "metadata": {},
   "source": [
    "### 3.6 实例方法 (instance methods)\n",
    "\n",
    "#### 3.6.1 `datetime.date()`\n",
    "\n",
    "datetime.date() 方法返回 datetime 对应的 date 对象。"
   ]
  },
  {
   "cell_type": "code",
   "execution_count": 29,
   "metadata": {},
   "outputs": [
    {
     "data": {
      "text/plain": [
       "datetime.date(2020, 2, 18)"
      ]
     },
     "execution_count": 29,
     "metadata": {},
     "output_type": "execute_result"
    }
   ],
   "source": [
    "datetime1.date()"
   ]
  },
  {
   "cell_type": "markdown",
   "metadata": {},
   "source": [
    "#### 3.6.2 `datetime.time()`\n",
    "\n",
    "datetime.time() 方法返回 datetime 对应的 time 对象，但 tzinfo 为 None。"
   ]
  },
  {
   "cell_type": "code",
   "execution_count": 30,
   "metadata": {},
   "outputs": [
    {
     "data": {
      "text/plain": [
       "datetime.time(17, 45, 2, 567658)"
      ]
     },
     "execution_count": 30,
     "metadata": {},
     "output_type": "execute_result"
    }
   ],
   "source": [
    "datetime1.time()"
   ]
  },
  {
   "cell_type": "markdown",
   "metadata": {},
   "source": [
    "#### 3.6.3 `datetime.timetz()`\n",
    "\n",
    "datetime.timetz() 方法返回 datetime 对应的 time 对象，但同时也返回 tzinfo。"
   ]
  },
  {
   "cell_type": "code",
   "execution_count": 31,
   "metadata": {},
   "outputs": [
    {
     "data": {
      "text/plain": [
       "datetime.time(17, 45, 2, 567658)"
      ]
     },
     "execution_count": 31,
     "metadata": {},
     "output_type": "execute_result"
    }
   ],
   "source": [
    "datetime1.timetz()"
   ]
  },
  {
   "cell_type": "markdown",
   "metadata": {},
   "source": [
    "#### 3.6.4 `datetime.replace(...)`\n",
    "\n",
    "datetime.replace(year=self.year, month=self.month, day=self.day, hour=self.hour, minute=self.minute, second=self.second, microsecond=self.microsecond, tzinfo=self.tzinfo, * fold=0) 方法返回传入参数替换实例参数的 datetime，未被替换的参数与实例相同。"
   ]
  },
  {
   "cell_type": "code",
   "execution_count": 32,
   "metadata": {},
   "outputs": [
    {
     "data": {
      "text/plain": [
       "datetime.datetime(2020, 2, 18, 11, 45, 2, 567658)"
      ]
     },
     "execution_count": 32,
     "metadata": {},
     "output_type": "execute_result"
    }
   ],
   "source": [
    "datetime1.replace(hour=11)"
   ]
  },
  {
   "cell_type": "markdown",
   "metadata": {},
   "source": [
    "#### 3.6.5 `datetime.astimezone(tz=None)`\n",
    "\n",
    "datetime.astimezone() 方法返回一个带 tzinfo 属性的 datetime 对象。"
   ]
  },
  {
   "cell_type": "code",
   "execution_count": 33,
   "metadata": {},
   "outputs": [
    {
     "data": {
      "text/plain": [
       "datetime.datetime(2020, 2, 18, 17, 45, 2, 567658, tzinfo=datetime.timezone(datetime.timedelta(seconds=28800), 'CST'))"
      ]
     },
     "execution_count": 33,
     "metadata": {},
     "output_type": "execute_result"
    }
   ],
   "source": [
    "datetime1.astimezone(tz=None)"
   ]
  },
  {
   "cell_type": "markdown",
   "metadata": {},
   "source": [
    "#### 3.6.6 `datetime.utcoffset()`\n",
    "\n",
    "datetime.utcoffset() 方法。如果 tzinfo 为空，则返回 None；否则返回 `self.tzinfo.utcoffset(self)`。如果不返回 None 或一个小于1天的 timedelta 对象，则抛出异常。"
   ]
  },
  {
   "cell_type": "code",
   "execution_count": 34,
   "metadata": {},
   "outputs": [
    {
     "data": {
      "text/plain": [
       "datetime.timedelta(seconds=28800)"
      ]
     },
     "execution_count": 34,
     "metadata": {},
     "output_type": "execute_result"
    }
   ],
   "source": [
    "datetime1.astimezone().utcoffset()"
   ]
  },
  {
   "cell_type": "markdown",
   "metadata": {},
   "source": [
    "#### 3.6.7 `datetime.dst()`\n",
    "\n",
    "datetime.dst() 方法。如果 tzinfo 为空，则返回 None；否则返回 `self.tzinfo.dst(self)`。如果不返回 None 或一个小于1天的 timedelta 对象，则抛出异常。"
   ]
  },
  {
   "cell_type": "code",
   "execution_count": 35,
   "metadata": {},
   "outputs": [],
   "source": [
    "datetime1.astimezone().dst()"
   ]
  },
  {
   "cell_type": "markdown",
   "metadata": {},
   "source": [
    "#### 3.6.8 `datetime.tzname()`\n",
    "\n",
    "datetime.tzname() 方法。如果 tzinfo 为空，则返回 None；否则返回 `self.tzinfo.tzname(self)`。如果不返回 None 或一个字符串对象，则抛出异常。"
   ]
  },
  {
   "cell_type": "code",
   "execution_count": 36,
   "metadata": {},
   "outputs": [
    {
     "data": {
      "text/plain": [
       "'CST'"
      ]
     },
     "execution_count": 36,
     "metadata": {},
     "output_type": "execute_result"
    }
   ],
   "source": [
    "datetime1.astimezone().tzname()"
   ]
  },
  {
   "cell_type": "markdown",
   "metadata": {},
   "source": [
    "#### 3.6.9 `datetime.timetuple()`\n",
    "\n",
    "datetime.timetuple() 方法返回一个元组。各项分别为（年，月，日，小时，分钟，秒，周几，一年中的第几天，DST标记）。"
   ]
  },
  {
   "cell_type": "code",
   "execution_count": 37,
   "metadata": {},
   "outputs": [
    {
     "data": {
      "text/plain": [
       "time.struct_time(tm_year=2020, tm_mon=2, tm_mday=18, tm_hour=17, tm_min=45, tm_sec=2, tm_wday=1, tm_yday=49, tm_isdst=-1)"
      ]
     },
     "execution_count": 37,
     "metadata": {},
     "output_type": "execute_result"
    }
   ],
   "source": [
    "datetime1.timetuple()"
   ]
  },
  {
   "cell_type": "markdown",
   "metadata": {},
   "source": [
    "#### 3.6.10 `datetime.utctimetuple()`\n",
    "\n",
    "datetime.utctimetuple() 方法。和 timetuple() 方法差不多。如果实例是 naive 的，那么返回值除 tm_isdst=0 之外其余和 timetuple() 方法的返回值一样。\n",
    "\n",
    "英文介绍：\n",
    "\n",
    "> If datetime instance d is naive, this is the same as d.timetuple() except that tm_isdst is forced to 0 regardless of what d.dst() returns. DST is never in effect for a UTC time."
   ]
  },
  {
   "cell_type": "code",
   "execution_count": 38,
   "metadata": {},
   "outputs": [
    {
     "data": {
      "text/plain": [
       "time.struct_time(tm_year=2020, tm_mon=2, tm_mday=18, tm_hour=17, tm_min=45, tm_sec=2, tm_wday=1, tm_yday=49, tm_isdst=0)"
      ]
     },
     "execution_count": 38,
     "metadata": {},
     "output_type": "execute_result"
    }
   ],
   "source": [
    "datetime1.utctimetuple()"
   ]
  },
  {
   "cell_type": "markdown",
   "metadata": {},
   "source": [
    "#### 3.6.11 `datetime.toordinal()`\n",
    "\n",
    "datetime.toordinal() 方法返回从公历1年1月1日至实例的天数。"
   ]
  },
  {
   "cell_type": "code",
   "execution_count": 39,
   "metadata": {},
   "outputs": [
    {
     "data": {
      "text/plain": [
       "737473"
      ]
     },
     "execution_count": 39,
     "metadata": {},
     "output_type": "execute_result"
    }
   ],
   "source": [
    "datetime1.toordinal()"
   ]
  },
  {
   "cell_type": "markdown",
   "metadata": {},
   "source": [
    "#### 3.6.12 `datetime.timestamp()`\n",
    "\n",
    "datetime.timestamp() 方法返回对应于 datetime 实例的 POSIX 时间戳。"
   ]
  },
  {
   "cell_type": "code",
   "execution_count": 40,
   "metadata": {},
   "outputs": [
    {
     "data": {
      "text/plain": [
       "1582019102.567658"
      ]
     },
     "execution_count": 40,
     "metadata": {},
     "output_type": "execute_result"
    }
   ],
   "source": [
    "datetime1.timestamp()"
   ]
  },
  {
   "cell_type": "markdown",
   "metadata": {},
   "source": [
    "#### 3.6.13 `datetime.weekday()`\n",
    "\n",
    "datetime.weekday() 方法返回实例的星期数。其中，0表示星期一，6表示星期日。"
   ]
  },
  {
   "cell_type": "code",
   "execution_count": 41,
   "metadata": {},
   "outputs": [
    {
     "data": {
      "text/plain": [
       "1"
      ]
     },
     "execution_count": 41,
     "metadata": {},
     "output_type": "execute_result"
    }
   ],
   "source": [
    "datetime1.weekday()"
   ]
  },
  {
   "cell_type": "markdown",
   "metadata": {},
   "source": [
    "#### 3.6.14 `datetime.isoweekday()`\n",
    "\n",
    "datetime.isoweekday() 方法返回实例的星期数。其中，1表示星期一，7表示星期日。"
   ]
  },
  {
   "cell_type": "code",
   "execution_count": 42,
   "metadata": {},
   "outputs": [
    {
     "data": {
      "text/plain": [
       "2"
      ]
     },
     "execution_count": 42,
     "metadata": {},
     "output_type": "execute_result"
    }
   ],
   "source": [
    "datetime1.isoweekday()"
   ]
  },
  {
   "cell_type": "markdown",
   "metadata": {},
   "source": [
    "#### 3.6.15 `datetime.isocalendar()`\n",
    "\n",
    "datetime.isocalendar() 方法返回一个三元组（ISO year, ISO week number, ISO weekday）。"
   ]
  },
  {
   "cell_type": "code",
   "execution_count": 43,
   "metadata": {},
   "outputs": [
    {
     "data": {
      "text/plain": [
       "(2020, 8, 2)"
      ]
     },
     "execution_count": 43,
     "metadata": {},
     "output_type": "execute_result"
    }
   ],
   "source": [
    "datetime1.isocalendar()"
   ]
  },
  {
   "cell_type": "markdown",
   "metadata": {},
   "source": [
    "#### 3.6.16 `datetime.isoformat()`\n",
    "\n",
    "datetime.isoformat() 方法返回 ISO 8601 格式的字符串，即 YYYY-MM-DDTHH:MM:SS.ffffff。若微秒数为0，则为 YYYY-MM-DDTHH:MM:SS。"
   ]
  },
  {
   "cell_type": "code",
   "execution_count": 44,
   "metadata": {},
   "outputs": [
    {
     "data": {
      "text/plain": [
       "'2020-02-18T17:45:02.567658'"
      ]
     },
     "execution_count": 44,
     "metadata": {},
     "output_type": "execute_result"
    }
   ],
   "source": [
    "datetime1.isoformat()"
   ]
  },
  {
   "cell_type": "markdown",
   "metadata": {},
   "source": [
    "#### 3.6.17 `datetime.__str__()`\n",
    "\n",
    "datetime.\\_\\_str\\_\\_() 方法。对于一个实例 d，str(d) 等价于 `d.isoformat()`"
   ]
  },
  {
   "cell_type": "code",
   "execution_count": 45,
   "metadata": {},
   "outputs": [
    {
     "data": {
      "text/plain": [
       "('2020-02-18 17:45:02.567658', True)"
      ]
     },
     "execution_count": 45,
     "metadata": {},
     "output_type": "execute_result"
    }
   ],
   "source": [
    "str(datetime1), datetime1.__str__() == str(datetime1)"
   ]
  },
  {
   "cell_type": "markdown",
   "metadata": {},
   "source": [
    "#### 3.6.18 `datetime.ctime()`\n",
    "\n",
    "datetime.ctime() 方法返回一个代表日期和时间的字符串（为和C语言兼容）。"
   ]
  },
  {
   "cell_type": "code",
   "execution_count": 46,
   "metadata": {},
   "outputs": [
    {
     "data": {
      "text/plain": [
       "'Tue Feb 18 17:45:02 2020'"
      ]
     },
     "execution_count": 46,
     "metadata": {},
     "output_type": "execute_result"
    }
   ],
   "source": [
    "datetime1.ctime()"
   ]
  },
  {
   "cell_type": "markdown",
   "metadata": {},
   "source": [
    "#### 3.6.19 `datetime.strftime(format)`\n",
    "\n",
    "datetime.strftime(format) 方法返回一个根据 format 进行解析的代表日期和时间的字符串。"
   ]
  },
  {
   "cell_type": "code",
   "execution_count": 47,
   "metadata": {},
   "outputs": [
    {
     "data": {
      "text/plain": [
       "'2020/02/18'"
      ]
     },
     "execution_count": 47,
     "metadata": {},
     "output_type": "execute_result"
    }
   ],
   "source": [
    "datetime1.strftime('%Y/%m/%d')"
   ]
  },
  {
   "cell_type": "markdown",
   "metadata": {},
   "source": [
    "#### 3.6.20 `datetime.__format__(format)`\n",
    "\n",
    "datetime.\\_\\_format\\_\\_(format) 方法和 strftime(format) 方法相似。\n",
    "\n",
    "英文介绍：\n",
    "\n",
    "> Same as datetime.strftime(). This makes it possible to specify a format string for a datetime object in formatted string literals and when using str.format()."
   ]
  },
  {
   "cell_type": "code",
   "execution_count": 48,
   "metadata": {},
   "outputs": [
    {
     "data": {
      "text/plain": [
       "'2020/02/18'"
      ]
     },
     "execution_count": 48,
     "metadata": {},
     "output_type": "execute_result"
    }
   ],
   "source": [
    "\"{:%Y/%m/%d}\".format(datetime1)"
   ]
  },
  {
   "cell_type": "markdown",
   "metadata": {},
   "source": [
    "## 4. time 对象\n",
    "\n",
    "time 对象表示一天中的本地时间，与任何特定日期无关，并能根据 tzinfo 对象自适应。\n",
    "\n",
    "### 4.1 构造函数 (Constructor)\n",
    "\n",
    "class datetime.time(hour=0, minute=0, second=0, microsecond=0, tzinfo=None, *, fold=0)"
   ]
  },
  {
   "cell_type": "code",
   "execution_count": 49,
   "metadata": {},
   "outputs": [
    {
     "data": {
      "text/plain": [
       "datetime.time(1, 2, 3, 4)"
      ]
     },
     "execution_count": 49,
     "metadata": {},
     "output_type": "execute_result"
    }
   ],
   "source": [
    "datetime.time(hour=1,minute=2,second=3, microsecond=4, tzinfo=None)"
   ]
  },
  {
   "cell_type": "markdown",
   "metadata": {},
   "source": [
    "所有的参数都是可选的。tzinfo 可以为 None，或者 tzinfo 的子类。其余参数必须为整数且遵循以下规则：\n",
    "\n",
    "- 0 <= hour < 24\n",
    "- 0 <= minute < 60\n",
    "- 0 <= second < 60\n",
    "- 0 <= microsecond < 1000000\n",
    "- fold in [0, 1]\n",
    "\n",
    "如果参数的值超过给定范围，将会触发 ValueError。"
   ]
  },
  {
   "cell_type": "markdown",
   "metadata": {},
   "source": [
    "### 4.2 类方法 (class methods)\n",
    "\n",
    "time.fromisoformat(time_string) 方法根据字符串返回一个 time 对象，字符串形如 HH[:MM[:SS[.fff[fff]]]][+HH:MM[:SS[.ffffff]]]。"
   ]
  },
  {
   "cell_type": "code",
   "execution_count": 50,
   "metadata": {},
   "outputs": [
    {
     "data": {
      "text/plain": [
       "datetime.time(23, 12, 1, 129836)"
      ]
     },
     "execution_count": 50,
     "metadata": {},
     "output_type": "execute_result"
    }
   ],
   "source": [
    "datetime.time.fromisoformat('23:12:01.129836')"
   ]
  },
  {
   "cell_type": "markdown",
   "metadata": {},
   "source": [
    "### 4.3 类属性 (class attributes)"
   ]
  },
  {
   "cell_type": "code",
   "execution_count": 51,
   "metadata": {},
   "outputs": [
    {
     "name": "stdout",
     "output_type": "stream",
     "text": [
      "datetime.time.min: 00:00:00\n",
      "datetime.time.max: 23:59:59.999999\n",
      "datetime.time.resolution: 0:00:00.000001\n"
     ]
    }
   ],
   "source": [
    "# 最早可表示的time\n",
    "print('datetime.time.min:', datetime.time.min)\n",
    "\n",
    "# 最晚可表示的time\n",
    "print('datetime.time.max:', datetime.time.max)\n",
    "\n",
    "# 不同的两个time之间的最小差异\n",
    "print('datetime.time.resolution:', datetime.time.resolution)"
   ]
  },
  {
   "cell_type": "markdown",
   "metadata": {},
   "source": [
    "### 4.4 实例方法 (instance methods)\n",
    "\n",
    "#### 4.4.1 `time.replace(...)`\n",
    "\n",
    "time.replace(hour=self.hour, minute=self.minute, second=self.second, microsecond=self.microsecond, tzinfo=self.tzinfo, * fold=0) 方法返回一个替换了给定参数的 time 实例。"
   ]
  },
  {
   "cell_type": "code",
   "execution_count": 52,
   "metadata": {},
   "outputs": [
    {
     "data": {
      "text/plain": [
       "datetime.time(7, 45, 2, 751777)"
      ]
     },
     "execution_count": 52,
     "metadata": {},
     "output_type": "execute_result"
    }
   ],
   "source": [
    "time1 = datetime.datetime.time(datetime.datetime.today())  # 初始化\n",
    "time1.replace(hour=7)"
   ]
  },
  {
   "cell_type": "markdown",
   "metadata": {},
   "source": [
    "#### 4.4.2 `time.isoformat(timespec='auto')`\n",
    "\n",
    "time.isoformat(timespec='auto') 方法返回一个 ISO 8601 格式的字符串，即 HH:MM:SS.ffffff。如果微秒数为 0，则返回 HH:MM:SS。\n",
    "\n",
    "英文介绍：\n",
    "\n",
    "> Return a string representing the time in ISO 8601 format, HH:MM:SS.ffffff or, if microsecond is 0, HH:MM:SS If utcoffset() does not return None, a string is appended, giving the UTC offset: HH:MM:SS.ffffff+HH:MM[:SS[.ffffff]] or, if self.microsecond is 0, HH:MM:SS+HH:MM[:SS[.ffffff]].\n",
    "> \n",
    "> The optional argument timespec specifies the number of additional components of the time to include (the default is 'auto'). It can be one of the following:\n",
    "> \n",
    "> - 'auto': Same as 'seconds' if microsecond is 0, same as 'microseconds' otherwise.\n",
    "> - 'hours': Include the hour in the two-digit HH format.\n",
    "> - 'minutes': Include hour and minute in HH:MM format.\n",
    "> - 'seconds': Include hour, minute, and second in HH:MM:SS format.\n",
    "> - 'milliseconds': Include full time, but truncate fractional second part to milliseconds. HH:MM:SS.sss format.\n",
    "> - 'microseconds': Include full time in HH:MM:SS.ffffff format."
   ]
  },
  {
   "cell_type": "code",
   "execution_count": 53,
   "metadata": {},
   "outputs": [
    {
     "data": {
      "text/plain": [
       "'17:45:02.751777'"
      ]
     },
     "execution_count": 53,
     "metadata": {},
     "output_type": "execute_result"
    }
   ],
   "source": [
    "time1.isoformat(timespec='auto')"
   ]
  },
  {
   "cell_type": "code",
   "execution_count": 54,
   "metadata": {},
   "outputs": [
    {
     "data": {
      "text/plain": [
       "'01:02:03'"
      ]
     },
     "execution_count": 54,
     "metadata": {},
     "output_type": "execute_result"
    }
   ],
   "source": [
    "time2 = datetime.time(1,2,3)  # 初始化\n",
    "time2.isoformat(timespec='auto')"
   ]
  },
  {
   "cell_type": "markdown",
   "metadata": {},
   "source": [
    "#### 4.4.3 `time.__str__()`\n",
    "\n",
    "time.\\_\\_str\\_\\_() 方法。对于一个 time 对象 t，str(t) 等同于 t.isoformat()。"
   ]
  },
  {
   "cell_type": "code",
   "execution_count": 55,
   "metadata": {},
   "outputs": [
    {
     "data": {
      "text/plain": [
       "('17:45:02.751777', True)"
      ]
     },
     "execution_count": 55,
     "metadata": {},
     "output_type": "execute_result"
    }
   ],
   "source": [
    "str(time1), str(time1) == time1.isoformat()"
   ]
  },
  {
   "cell_type": "markdown",
   "metadata": {},
   "source": [
    "#### 4.4.4 `time.strftime(format)`\n",
    "\n",
    "time.strftime(format) 方法返回一个代表时间的字符串，返回格式根据字符串 format 显示定义。"
   ]
  },
  {
   "cell_type": "code",
   "execution_count": 56,
   "metadata": {},
   "outputs": [
    {
     "data": {
      "text/plain": [
       "'17h 01min 02s'"
      ]
     },
     "execution_count": 56,
     "metadata": {},
     "output_type": "execute_result"
    }
   ],
   "source": [
    "time1.strftime('%Hh %mmin %Ss')"
   ]
  },
  {
   "cell_type": "markdown",
   "metadata": {},
   "source": [
    "#### 4.4.5 `time.__format__(format)`\n",
    "\n",
    "time.\\_\\_format\\_\\_(format) 方法和 strftime(format) 方法一样。扩展了 str 的 format() 方法。\n",
    "\n",
    "英文介绍：\n",
    "\n",
    "> This makes it possible to specify a format string for a time object in formatted string literals and when using str.format(). "
   ]
  },
  {
   "cell_type": "code",
   "execution_count": 57,
   "metadata": {},
   "outputs": [
    {
     "data": {
      "text/plain": [
       "'17h 01min 02s'"
      ]
     },
     "execution_count": 57,
     "metadata": {},
     "output_type": "execute_result"
    }
   ],
   "source": [
    "\"{:%Hh %mmin %Ss}\".format(time1)"
   ]
  },
  {
   "cell_type": "markdown",
   "metadata": {},
   "source": [
    "#### 4.4.6 `time.utcoffset()`\n",
    "\n",
    "time.utcoffset() 方法。如果 tzinfo 为 None，则返回 None；否则返回 `self.tzinfo.utcoffset(None)`。如果返回值不为 None 或者一个值小于1天的 timedelta 对象，将触发异常。\n",
    "\n",
    "英文介绍：\n",
    "\n",
    ">If tzinfo is None, returns None, else returns self.tzinfo.utcoffset(None), and raises an exception if the latter doesn’t return None or a timedelta object with magnitude less than one day."
   ]
  },
  {
   "cell_type": "code",
   "execution_count": 58,
   "metadata": {},
   "outputs": [
    {
     "data": {
      "text/plain": [
       "datetime.timedelta(seconds=36000)"
      ]
     },
     "execution_count": 58,
     "metadata": {},
     "output_type": "execute_result"
    }
   ],
   "source": [
    "tzone = datetime.timezone(datetime.timedelta(hours=10))\n",
    "time3 = datetime.time(4,5,6, tzinfo=tzone)\n",
    "time3.utcoffset()"
   ]
  },
  {
   "cell_type": "markdown",
   "metadata": {},
   "source": [
    "#### 4.4.7 `time.dst()`\n",
    "\n",
    "time.dst() 方法。如果 tzinfo 为 None，则返回 None；否则返回 `self.tzinfo.dst(None)`。如果返回值不为 None 或者一个值小于1天的 timedelta 对象，将触发异常。"
   ]
  },
  {
   "cell_type": "code",
   "execution_count": 59,
   "metadata": {},
   "outputs": [
    {
     "name": "stdout",
     "output_type": "stream",
     "text": [
      "None\n"
     ]
    }
   ],
   "source": [
    "print(time3.dst())"
   ]
  },
  {
   "cell_type": "markdown",
   "metadata": {},
   "source": [
    "#### 4.4.8 `time.tzname()`\n",
    "\n",
    "time.tzname() 方法。如果 tzinfo 为 None，则返回 None；否则返回 `self.tzinfo.tzname(None)`。如果返回值不为 None 或者一个字符串对象，将触发异常。"
   ]
  },
  {
   "cell_type": "code",
   "execution_count": 60,
   "metadata": {},
   "outputs": [
    {
     "data": {
      "text/plain": [
       "'UTC+10:00'"
      ]
     },
     "execution_count": 60,
     "metadata": {},
     "output_type": "execute_result"
    }
   ],
   "source": [
    "time3.tzname()"
   ]
  },
  {
   "cell_type": "markdown",
   "metadata": {},
   "source": [
    "## 5. tzinfo 对象\n",
    "\n",
    "class datetime.tzinfo\n",
    "\n",
    "datetime.tzinfo 是一个抽象的基类。这意味着该类不能直接实例化。你必须将其派生为一个具体的子类。并至少提供 tzinfo 所用方法所需的标准方法实现的 datetime。datetime 库提供一个简单的 tzinfo 的子类 timezone。timezone 可以表示时区与 UTC+0 的偏移量。\n",
    "\n",
    "英文介绍：\n",
    "\n",
    "> This is an abstract base class, meaning that this class should not be instantiated directly. You need to derive a concrete subclass, and (at least) supply implementations of the standard tzinfo methods needed by the datetime methods you use. The datetime module supplies a simple concrete subclass of tzinfo, timezone, which can represent timezones with fixed offset from UTC such as UTC itself or North American EST and EDT.\n",
    "> \n",
    "> An instance of (a concrete subclass of) tzinfo can be passed to the constructors for datetime and time objects. The latter objects view their attributes as being in local time, and the tzinfo object supports methods revealing offset of local time from UTC, the name of the time zone, and DST offset, all relative to a date or time object passed to them.\n",
    "> \n",
    "> Special requirement for pickling: A tzinfo subclass must have an __init__() method that can be called with no arguments, else it can be pickled but possibly not unpickled again. This is a technical requirement that may be relaxed in the future.\n",
    "\n",
    "更多信息参见：https://docs.python.org/3.7/library/datetime.html#datetime.tzinfo"
   ]
  },
  {
   "cell_type": "markdown",
   "metadata": {},
   "source": [
    "## 6. timezone 对象\n",
    "\n",
    "timezone 类是 tzinfo 的子类。每个实例都代表着一个由 UTC 偏移量定义的时区。\n",
    "\n",
    "英文介绍：\n",
    "\n",
    "> The timezone class is a subclass of tzinfo, each instance of which represents a timezone defined by a fixed offset from UTC. Note that objects of this class cannot be used to represent timezone information in the locations where different offsets are used in different days of the year or where historical changes have been made to civil time.\n",
    "\n",
    "### 6.1 构造函数\n",
    "\n",
    "class datetime.timezone(offset, name=None)"
   ]
  },
  {
   "cell_type": "code",
   "execution_count": 61,
   "metadata": {},
   "outputs": [
    {
     "data": {
      "text/plain": [
       "datetime.timezone(datetime.timedelta(seconds=3600))"
      ]
     },
     "execution_count": 61,
     "metadata": {},
     "output_type": "execute_result"
    }
   ],
   "source": [
    "offset = datetime.timedelta(hours=1)\n",
    "datetime.timezone(offset=offset)"
   ]
  },
  {
   "cell_type": "markdown",
   "metadata": {},
   "source": [
    "The offset argument must be specified as a timedelta object representing the difference between the local time and UTC. It must be strictly between `-timedelta(hours=24)` and `timedelta(hours=24)`, otherwise ValueError is raised.\n",
    "\n",
    "The name argument is optional. If specified it must be a string that will be used as the value returned by the datetime.tzname() method."
   ]
  },
  {
   "cell_type": "markdown",
   "metadata": {},
   "source": [
    "### 6.2 实例方法 (instance methods)\n",
    "\n",
    "#### 6.2.1 `timezone.utcoffset(dt)`\n",
    "\n",
    "timezone.utcoffset(dt) 方法。当 timezone 的构造为一个实例时，该方法返回一个固定值。该固定值是一个 timedelta 实例 且等于本地时间和 UTC 之差。\n",
    "\n",
    "英文介绍：\n",
    "\n",
    "> Return the fixed value specified when the timezone instance is constructed. The dt argument is ignored. The return value is a timedelta instance equal to the difference between the local time and UTC."
   ]
  },
  {
   "cell_type": "code",
   "execution_count": 62,
   "metadata": {},
   "outputs": [
    {
     "data": {
      "text/plain": [
       "datetime.timedelta(seconds=3600)"
      ]
     },
     "execution_count": 62,
     "metadata": {},
     "output_type": "execute_result"
    }
   ],
   "source": [
    "# 初始化\n",
    "tzone1 = datetime.timezone(datetime.timedelta(hours=1))\n",
    "datetime1 = datetime.datetime.now()\n",
    "\n",
    "tzone1.utcoffset(datetime1)"
   ]
  },
  {
   "cell_type": "markdown",
   "metadata": {},
   "source": [
    "#### 6.2.2 `timezone.tzname(dt)`\n",
    "\n",
    "timezone.tzname(dt) 方法。当 timezone 的构造为一个实例时，该方法返回一个固定值。如果该时区为命名，则按照 UTC±HH:MM 的格式给出。\n",
    "\n",
    "英文介绍：\n",
    "\n",
    "> Return the fixed value specified when the timezone instance is constructed. If name is not provided in the constructor, the name returned by tzname(dt) is generated from the value of the offset as follows. If offset is timedelta(0), the name is “UTC”, otherwise it is a string ‘UTC±HH:MM’, where ± is the sign of offset, HH and MM are two digits of offset.hours and offset.minutes respectively."
   ]
  },
  {
   "cell_type": "code",
   "execution_count": 63,
   "metadata": {},
   "outputs": [
    {
     "data": {
      "text/plain": [
       "'UTC+01:00'"
      ]
     },
     "execution_count": 63,
     "metadata": {},
     "output_type": "execute_result"
    }
   ],
   "source": [
    "tzone1.tzname(datetime1)"
   ]
  },
  {
   "cell_type": "markdown",
   "metadata": {},
   "source": [
    "#### 6.2.3 `timezone.dst(dt)`\n",
    "\n",
    "timezone.dst(dt) 方法总是返回 None。"
   ]
  },
  {
   "cell_type": "code",
   "execution_count": 64,
   "metadata": {},
   "outputs": [
    {
     "name": "stdout",
     "output_type": "stream",
     "text": [
      "None\n"
     ]
    }
   ],
   "source": [
    "print(tzone1.dst(datetime1))"
   ]
  },
  {
   "cell_type": "markdown",
   "metadata": {},
   "source": [
    "#### 6.2.4 `timezone.fromutc(dt)`\n",
    "\n",
    "timezone.fromutc(dt) 方法返回 dt + offset。\n",
    "\n",
    "英文介绍：\n",
    "\n",
    "> Return dt + offset. The dt argument must be an aware datetime instance, with tzinfo set to self."
   ]
  },
  {
   "cell_type": "code",
   "execution_count": 65,
   "metadata": {},
   "outputs": [
    {
     "data": {
      "text/plain": [
       "datetime.datetime(2019, 11, 11, 10, 0, tzinfo=datetime.timezone(datetime.timedelta(seconds=10800)))"
      ]
     },
     "execution_count": 65,
     "metadata": {},
     "output_type": "execute_result"
    }
   ],
   "source": [
    "tzone2 = datetime.timezone(datetime.timedelta(hours=3))\n",
    "datetime2 = datetime.datetime(2019, 11, 11, hour=7, tzinfo=tzone2)\n",
    "tzone2.fromutc(datetime2)"
   ]
  },
  {
   "cell_type": "markdown",
   "metadata": {},
   "source": [
    "#### 6.2.5 `timezone.utc`\n",
    "\n",
    "timezone.utc 方法返回 The UTC 时区，即 `timezone(timedelta(0))`."
   ]
  },
  {
   "cell_type": "code",
   "execution_count": 66,
   "metadata": {},
   "outputs": [
    {
     "data": {
      "text/plain": [
       "'UTC'"
      ]
     },
     "execution_count": 66,
     "metadata": {},
     "output_type": "execute_result"
    }
   ],
   "source": [
    "str(datetime.timezone.utc)"
   ]
  },
  {
   "cell_type": "markdown",
   "metadata": {},
   "source": [
    "参考：[datetime — Basic date and time types](https://docs.python.org/3.7/library/datetime.html)"
   ]
  }
 ],
 "metadata": {
  "kernelspec": {
   "display_name": "Python 3",
   "language": "python",
   "name": "python3"
  },
  "language_info": {
   "codemirror_mode": {
    "name": "ipython",
    "version": 3
   },
   "file_extension": ".py",
   "mimetype": "text/x-python",
   "name": "python",
   "nbconvert_exporter": "python",
   "pygments_lexer": "ipython3",
   "version": "3.7.4"
  }
 },
 "nbformat": 4,
 "nbformat_minor": 2
}
