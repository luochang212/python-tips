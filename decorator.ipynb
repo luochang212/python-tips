{
 "cells": [
  {
   "cell_type": "markdown",
   "metadata": {},
   "source": [
    "# 装饰器\n",
    "\n",
    "本代码基于博文: [《Finally understanding decorators in Python》](https://pouannes.github.io/blog/decorators/)\n",
    "\n",
    "## 1. 装饰器基础\n",
    "\n",
    "一个带装饰器的函数看起来是这样的："
   ]
  },
  {
   "cell_type": "code",
   "execution_count": 1,
   "metadata": {},
   "outputs": [],
   "source": [
    "def decorator_name(func):\n",
    "    def f():\n",
    "        rv = func()\n",
    "        return rv\n",
    "    return f\n",
    "\n",
    "@decorator_name\n",
    "def func_name():\n",
    "    pass"
   ]
  },
  {
   "cell_type": "markdown",
   "metadata": {},
   "source": [
    "在上面这段代码中，`@decorator_name` 就是装饰器。\n",
    "\n",
    "顾名思义，装饰器是用来装饰东西的。用来装饰什么东西呢？\n",
    "\n",
    "它是用来装饰**函数**的。从作用上来说，就是把函数捉出来“装饰”一番，然后放回去。\n",
    "\n",
    "下面通过一些例子说明装饰器的用法和意义。\n",
    "\n",
    "首先我们写一个 `add` 函数，其中 `y` 的默认值是 10。"
   ]
  },
  {
   "cell_type": "code",
   "execution_count": 2,
   "metadata": {},
   "outputs": [],
   "source": [
    "def add(x, y = 10):\n",
    "    return x + y"
   ]
  },
  {
   "cell_type": "markdown",
   "metadata": {},
   "source": [
    "测试一下这个函数： "
   ]
  },
  {
   "cell_type": "code",
   "execution_count": 3,
   "metadata": {},
   "outputs": [
    {
     "name": "stdout",
     "output_type": "stream",
     "text": [
      "add(10) 20\n",
      "add(20, 30) 50\n",
      "add(\"a\", \"b\") ab\n"
     ]
    }
   ],
   "source": [
    "def add(x, y = 10):\n",
    "    return x + y\n",
    "\n",
    "print('add(10)', add(10))\n",
    "print('add(20, 30)', add(20, 30))\n",
    "print('add(\"a\", \"b\")', add(\"a\", \"b\"))"
   ]
  },
  {
   "cell_type": "markdown",
   "metadata": {},
   "source": [
    "顺便把 `add` 函数的属性打印出来看看："
   ]
  },
  {
   "cell_type": "code",
   "execution_count": 4,
   "metadata": {},
   "outputs": [
    {
     "data": {
      "text/plain": [
       "'add'"
      ]
     },
     "execution_count": 4,
     "metadata": {},
     "output_type": "execute_result"
    }
   ],
   "source": [
    "add.__name__"
   ]
  },
  {
   "cell_type": "code",
   "execution_count": 5,
   "metadata": {},
   "outputs": [
    {
     "data": {
      "text/plain": [
       "'__main__'"
      ]
     },
     "execution_count": 5,
     "metadata": {},
     "output_type": "execute_result"
    }
   ],
   "source": [
    "add.__module__"
   ]
  },
  {
   "cell_type": "code",
   "execution_count": 6,
   "metadata": {},
   "outputs": [
    {
     "data": {
      "text/plain": [
       "(10,)"
      ]
     },
     "execution_count": 6,
     "metadata": {},
     "output_type": "execute_result"
    }
   ],
   "source": [
    "add.__defaults__"
   ]
  },
  {
   "cell_type": "code",
   "execution_count": 7,
   "metadata": {},
   "outputs": [
    {
     "data": {
      "text/plain": [
       "('x', 'y')"
      ]
     },
     "execution_count": 7,
     "metadata": {},
     "output_type": "execute_result"
    }
   ],
   "source": [
    "add.__code__.co_varnames  # the variable names of the 'add' fucntion"
   ]
  },
  {
   "cell_type": "code",
   "execution_count": 8,
   "metadata": {},
   "outputs": [
    {
     "name": "stdout",
     "output_type": "stream",
     "text": [
      "def add(x, y = 10):\n",
      "    return x + y\n",
      "\n"
     ]
    }
   ],
   "source": [
    "from inspect import getsource\n",
    "print(getsource(add))"
   ]
  },
  {
   "cell_type": "markdown",
   "metadata": {},
   "source": [
    "接下来，我们用 `time` 模块打印 `add` 函数的运行时间："
   ]
  },
  {
   "cell_type": "code",
   "execution_count": 9,
   "metadata": {},
   "outputs": [
    {
     "name": "stdout",
     "output_type": "stream",
     "text": [
      "add(10) 20\n",
      "time taken:  0.00016808509826660156\n",
      "add(20, 30) 50\n",
      "time taken:  0.00033092498779296875\n",
      "add(\"a\", \"b\") ab\n",
      "time taken:  6.079673767089844e-05\n"
     ]
    }
   ],
   "source": [
    "from time import time\n",
    "\n",
    "def add(x, y = 10):\n",
    "    return x + y\n",
    "\n",
    "before = time()\n",
    "print('add(10)', add(10))\n",
    "after = time()\n",
    "print('time taken: ', after - before)\n",
    "defore = time()\n",
    "print('add(20, 30)', add(20, 30))\n",
    "after = time()\n",
    "print('time taken: ', after - before)\n",
    "before = time()\n",
    "print('add(\"a\", \"b\")', add(\"a\", \"b\"))\n",
    "after = time()\n",
    "print('time taken: ', after - before)"
   ]
  },
  {
   "cell_type": "markdown",
   "metadata": {},
   "source": [
    "通过阅读上面的代码，我们发现：每次运行，都要先记录一下开始和结束时间，然后 `print` 一下。\n",
    "\n",
    "为了做这一件事，写了一堆代码。\n",
    "\n",
    "显然，我的 Python 不可能这么麻烦。重复的代码可以用一个函数装起来，多次利用："
   ]
  },
  {
   "cell_type": "code",
   "execution_count": 10,
   "metadata": {},
   "outputs": [
    {
     "name": "stdout",
     "output_type": "stream",
     "text": [
      "time taken:  0.0\n",
      "add(10) 20\n",
      "time taken:  9.5367431640625e-07\n",
      "add(20, 30) 50\n",
      "time taken:  9.5367431640625e-07\n",
      "add(\"a\", \"b\") ab\n"
     ]
    }
   ],
   "source": [
    "from time import time\n",
    "\n",
    "def add(x, y = 10):\n",
    "    before = time()\n",
    "    rv = x + y\n",
    "    after = time()\n",
    "    print('time taken: ', after - before)\n",
    "    return rv\n",
    "\n",
    "print('add(10)', add(10))\n",
    "print('add(20, 30)', add(20, 30))\n",
    "print('add(\"a\", \"b\")', add(\"a\", \"b\"))"
   ]
  },
  {
   "cell_type": "markdown",
   "metadata": {},
   "source": [
    "通过上面这个函数，每次调用 `add` 函数的时候，都会 `print` 函数的运行时间。\n",
    "\n",
    "到目前为止，这一切都运行的很完美。但如果我们现在有一个 `sub` 函数，然后同样需要打印函数的运行时间呢？\n",
    "\n",
    "下面是一个 `sub` 函数："
   ]
  },
  {
   "cell_type": "code",
   "execution_count": 11,
   "metadata": {},
   "outputs": [],
   "source": [
    "def sub(x, y = 10):\n",
    "    return x - y"
   ]
  },
  {
   "cell_type": "markdown",
   "metadata": {},
   "source": [
    "最直接的方法当然就是像上面一样，对 `add` 函数进行改造。\n",
    "\n",
    "但是如果需要打印时间的不止是 `add` 和 `sub`，还有其他很多函数呢？一个一个地改造函数，就十分麻烦了。\n",
    "\n",
    "我的 Python 不可能这么麻烦！一定有更简单的方法来实现这个功能。"
   ]
  },
  {
   "cell_type": "code",
   "execution_count": 12,
   "metadata": {},
   "outputs": [
    {
     "name": "stdout",
     "output_type": "stream",
     "text": [
      "time taken:  0.0\n",
      "add(10) 20\n",
      "time taken:  1.1920928955078125e-06\n",
      "sub(10) 10\n"
     ]
    }
   ],
   "source": [
    "def add(x, y = 10):\n",
    "    return x + y\n",
    "\n",
    "def sub(x, y = 10):\n",
    "    return x - y\n",
    "\n",
    "def timer(func, x, y = 10):\n",
    "    before = time()\n",
    "    rv = func(x, y)\n",
    "    after = time()\n",
    "    print('time taken: ', after - before)\n",
    "    return rv\n",
    "\n",
    "print('add(10)', timer(add, 10))\n",
    "print('sub(10)', timer(sub, 20))"
   ]
  },
  {
   "cell_type": "markdown",
   "metadata": {},
   "source": [
    "上面构造了一个函数 `timer`。\n",
    "\n",
    "它将 `add`, `sub` 及 `add`, `sub` 的输入作为它的输入，把 `add`, `sub` 的输出作为它的输出。\n",
    "\n",
    "这就相当于，函数 `timer` 用它自己替代了 `add` 和 `sub` 的功能。`add` 和 `sub` 在这里退化成了函数 `timer` 的参数。\n",
    "\n",
    "这也不失为一种实现方法，但是这偏离了我们最初**改造函数**的目的。\n",
    "\n",
    "我们希望经过改造后的函数仍然是一个函数，而非退化成其他函数的参数。"
   ]
  },
  {
   "cell_type": "code",
   "execution_count": 13,
   "metadata": {},
   "outputs": [
    {
     "name": "stdout",
     "output_type": "stream",
     "text": [
      "time taken:  0.0\n",
      "add(10) 20\n",
      "time taken:  0.0\n",
      "add(10, 20) 30\n",
      "time taken:  0.0\n",
      "sub(20) 10\n"
     ]
    }
   ],
   "source": [
    "from time import time\n",
    "\n",
    "\n",
    "def timer(func):\n",
    "    def f(x, y = 10):\n",
    "        before = time()\n",
    "        rv = func(x, y)\n",
    "        after = time()\n",
    "        print('time taken: ', after - before)\n",
    "        return rv\n",
    "    return f\n",
    "\n",
    "def add(x, y = 10):\n",
    "    return x + y\n",
    "\n",
    "def sub(x, y = 10):\n",
    "    return x - y\n",
    "\n",
    "add = timer(add)\n",
    "sub = timer(sub)\n",
    "\n",
    "print('add(10)', add(10))\n",
    "print('add(10, 20)', add(10, 20))\n",
    "print('sub(20)', sub(20))"
   ]
  },
  {
   "cell_type": "markdown",
   "metadata": {},
   "source": [
    "上面这段代码的本质是利用函数 `timer` 对函数 `add` 进行改造。\n",
    "\n",
    "函数 `timer` 返回的结果是一个新的经过改造的 `add` 函数。\n",
    "\n",
    "上面这段代码已经完全实现了装饰器的功能。在文章开头的，带 `@` 形式的装饰器，无非是以上过程的简写。\n",
    "\n",
    "下面尝试用带 `@` 形式写出装饰器 `timer`。为了避免污染变量，我们命名一个新装饰器 `ntimer`。"
   ]
  },
  {
   "cell_type": "code",
   "execution_count": 14,
   "metadata": {},
   "outputs": [
    {
     "name": "stdout",
     "output_type": "stream",
     "text": [
      "time taken:  0.0\n",
      "add(10) 20\n"
     ]
    }
   ],
   "source": [
    "from time import time\n",
    "\n",
    "\n",
    "def ntimer(func):\n",
    "    def f(x, y = 10):\n",
    "        before = time()\n",
    "        rv = func(x, y)\n",
    "        after = time()\n",
    "        print('time taken: ', after - before)\n",
    "        return rv\n",
    "    return f\n",
    "\n",
    "@ntimer\n",
    "def add(x, y = 10):\n",
    "    return x + y\n",
    "\n",
    "print('add(10)', add(10))"
   ]
  },
  {
   "cell_type": "markdown",
   "metadata": {},
   "source": [
    "## 2. 一个小练习\n",
    "\n",
    "小尝试：\n",
    "\n",
    "既然学会了写装饰器，我们就来 freestyle 一下。\n",
    "\n",
    "尝试改造 `new_print` 函数，使每次使用它打印内容时，自动在内容前加上\"You just typed: \"。"
   ]
  },
  {
   "cell_type": "code",
   "execution_count": 15,
   "metadata": {},
   "outputs": [],
   "source": [
    "def change_print(func):\n",
    "    def f(x):\n",
    "        rv = func('You just typed: ' + x)\n",
    "        return rv\n",
    "    return f\n",
    "\n",
    "@change_print\n",
    "def new_print(x):\n",
    "    print(x)"
   ]
  },
  {
   "cell_type": "code",
   "execution_count": 16,
   "metadata": {},
   "outputs": [
    {
     "name": "stdout",
     "output_type": "stream",
     "text": [
      "You just typed: a\n"
     ]
    }
   ],
   "source": [
    "new_print('a')"
   ]
  },
  {
   "cell_type": "markdown",
   "metadata": {},
   "source": [
    "## 3. 使用 `*args` 和 `**kwargs` 输入参数和关键字参数。"
   ]
  },
  {
   "cell_type": "code",
   "execution_count": 17,
   "metadata": {},
   "outputs": [
    {
     "name": "stdout",
     "output_type": "stream",
     "text": [
      "time taken:  0.0\n",
      "add(10) 20\n",
      "time taken:  1.1920928955078125e-06\n",
      "add(20, 30) 50\n",
      "time taken:  9.5367431640625e-07\n",
      "sub(20, 5) 15\n"
     ]
    }
   ],
   "source": [
    "# *args 和 **kwargs\n",
    "from time import time\n",
    "\n",
    "def ntimer(func):\n",
    "    def f(*args, **kwargs):\n",
    "        before = time()\n",
    "        rv = func(*args, **kwargs)\n",
    "        after = time()\n",
    "        print('time taken: ', after - before)\n",
    "        return rv\n",
    "    return f\n",
    "\n",
    "@ntimer\n",
    "def add(x, y=10):\n",
    "    return x + y\n",
    "\n",
    "@ntimer\n",
    "def sub(x, y=10):\n",
    "    return x - y\n",
    "\n",
    "print('add(10)', add(10))\n",
    "print('add(20, 30)', add(20, 30))\n",
    "print('sub(20, 5)', sub(20, 5))"
   ]
  },
  {
   "cell_type": "markdown",
   "metadata": {},
   "source": [
    "## 4. 高阶装饰器\n",
    "\n",
    "还是原来的风格，还是原来的味道。本质是没有变的。只不过在外面多包了一层函数，多给了一个参数罢了。\n",
    "\n",
    "称之为高阶装饰器实在是太给面子了。\n"
   ]
  },
  {
   "cell_type": "code",
   "execution_count": 18,
   "metadata": {},
   "outputs": [],
   "source": [
    "# 高阶装饰器\n",
    "\n",
    "def ntimes(n):\n",
    "    def inner(f):\n",
    "        def wrapper(*args, **kwargs):\n",
    "            for _ in range(n):\n",
    "                rv = f(*args, **kwargs)\n",
    "            return rv\n",
    "        return wrapper\n",
    "    return inner"
   ]
  },
  {
   "cell_type": "code",
   "execution_count": 19,
   "metadata": {},
   "outputs": [
    {
     "name": "stdout",
     "output_type": "stream",
     "text": [
      "3\n",
      "3\n",
      "3\n"
     ]
    }
   ],
   "source": [
    "@ntimes(3)\n",
    "def add(x, y):\n",
    "    print(x + y)\n",
    "    return x + y\n",
    "\n",
    "rv = add(1, 2)"
   ]
  },
  {
   "cell_type": "markdown",
   "metadata": {},
   "source": [
    "\n",
    "把外层函数去掉，取中间部分代码，就是上文中的低阶装饰器。\n",
    "\n",
    "```python\n",
    "def inner(f):\n",
    "    def wrapper(*args, **kwargs):\n",
    "        for _ in range(n):\n",
    "            rv = f(*args, **kwargs)\n",
    "        return rv\n",
    "    return wrapper\n",
    "```"
   ]
  },
  {
   "cell_type": "code",
   "execution_count": null,
   "metadata": {},
   "outputs": [],
   "source": []
  }
 ],
 "metadata": {
  "kernelspec": {
   "display_name": "Python 3",
   "language": "python",
   "name": "python3"
  },
  "language_info": {
   "codemirror_mode": {
    "name": "ipython",
    "version": 3
   },
   "file_extension": ".py",
   "mimetype": "text/x-python",
   "name": "python",
   "nbconvert_exporter": "python",
   "pygments_lexer": "ipython3",
   "version": "3.7.4"
  }
 },
 "nbformat": 4,
 "nbformat_minor": 2
}
