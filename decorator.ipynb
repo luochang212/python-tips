{
 "cells": [
  {
   "cell_type": "markdown",
   "metadata": {},
   "source": [
    "# 装饰器\n",
    "\n",
    "本节参考了博文: [《Finally understanding decorators in Python》](https://pouannes.github.io/blog/decorators/)\n",
    "\n",
    "本文目录：\n",
    "\n",
    "1. 装饰器基础\n",
    "2. 一个小练习\n",
    "3. 使用 `*args` 和 `**kwargs`\n",
    "4. 高阶装饰器\n",
    "5. `@functools.lru_cache()`\n",
    "\n",
    "\n",
    "## 1. 装饰器基础\n",
    "\n",
    "一个带装饰器的函数看起来是这样的："
   ]
  },
  {
   "cell_type": "code",
   "execution_count": 1,
   "metadata": {},
   "outputs": [],
   "source": [
    "def decorator_name(func):\n",
    "    def f():\n",
    "        rv = func()\n",
    "        return rv\n",
    "    return f\n",
    "\n",
    "@decorator_name\n",
    "def func_name():\n",
    "    pass"
   ]
  },
  {
   "cell_type": "markdown",
   "metadata": {},
   "source": [
    "在上面这段代码中，`@decorator_name` 就是装饰器。\n",
    "\n",
    "顾名思义，装饰器是用来装饰东西的。用来装饰什么东西呢？\n",
    "\n",
    "它是用来装饰**函数**的。从作用上来说，就是把函数捉出来“装饰”一番，然后放回去。\n",
    "\n",
    "下面通过一些例子说明装饰器的用法和意义。\n",
    "\n",
    "首先我们写一个 `add` 函数，其中 `y` 的默认值是 10。"
   ]
  },
  {
   "cell_type": "code",
   "execution_count": 2,
   "metadata": {},
   "outputs": [],
   "source": [
    "def add(x, y = 10):\n",
    "    return x + y"
   ]
  },
  {
   "cell_type": "markdown",
   "metadata": {},
   "source": [
    "测试一下这个函数： "
   ]
  },
  {
   "cell_type": "code",
   "execution_count": 3,
   "metadata": {},
   "outputs": [
    {
     "name": "stdout",
     "output_type": "stream",
     "text": [
      "add(10) 20\n",
      "add(20, 30) 50\n",
      "add(\"a\", \"b\") ab\n"
     ]
    }
   ],
   "source": [
    "def add(x, y = 10):\n",
    "    return x + y\n",
    "\n",
    "print('add(10)', add(10))\n",
    "print('add(20, 30)', add(20, 30))\n",
    "print('add(\"a\", \"b\")', add(\"a\", \"b\"))"
   ]
  },
  {
   "cell_type": "markdown",
   "metadata": {},
   "source": [
    "顺便把 `add` 函数的属性打印出来看看："
   ]
  },
  {
   "cell_type": "code",
   "execution_count": 4,
   "metadata": {},
   "outputs": [
    {
     "data": {
      "text/plain": [
       "'add'"
      ]
     },
     "execution_count": 4,
     "metadata": {},
     "output_type": "execute_result"
    }
   ],
   "source": [
    "add.__name__"
   ]
  },
  {
   "cell_type": "code",
   "execution_count": 5,
   "metadata": {},
   "outputs": [
    {
     "data": {
      "text/plain": [
       "'__main__'"
      ]
     },
     "execution_count": 5,
     "metadata": {},
     "output_type": "execute_result"
    }
   ],
   "source": [
    "add.__module__"
   ]
  },
  {
   "cell_type": "code",
   "execution_count": 6,
   "metadata": {},
   "outputs": [
    {
     "data": {
      "text/plain": [
       "(10,)"
      ]
     },
     "execution_count": 6,
     "metadata": {},
     "output_type": "execute_result"
    }
   ],
   "source": [
    "add.__defaults__"
   ]
  },
  {
   "cell_type": "code",
   "execution_count": 7,
   "metadata": {},
   "outputs": [
    {
     "data": {
      "text/plain": [
       "('x', 'y')"
      ]
     },
     "execution_count": 7,
     "metadata": {},
     "output_type": "execute_result"
    }
   ],
   "source": [
    "add.__code__.co_varnames  # the variable names of the 'add' fucntion"
   ]
  },
  {
   "cell_type": "code",
   "execution_count": 8,
   "metadata": {},
   "outputs": [
    {
     "name": "stdout",
     "output_type": "stream",
     "text": [
      "def add(x, y = 10):\n",
      "    return x + y\n",
      "\n"
     ]
    }
   ],
   "source": [
    "from inspect import getsource\n",
    "print(getsource(add))"
   ]
  },
  {
   "cell_type": "markdown",
   "metadata": {},
   "source": [
    "接下来，我们用 `time` 模块打印 `add` 函数的运行时间："
   ]
  },
  {
   "cell_type": "code",
   "execution_count": 9,
   "metadata": {},
   "outputs": [
    {
     "name": "stdout",
     "output_type": "stream",
     "text": [
      "add(10) 20\n",
      "time taken:  0.00033783912658691406\n",
      "add(20, 30) 50\n",
      "time taken:  0.0005986690521240234\n",
      "add(\"a\", \"b\") ab\n",
      "time taken:  0.00010180473327636719\n"
     ]
    }
   ],
   "source": [
    "from time import time\n",
    "\n",
    "def add(x, y = 10):\n",
    "    return x + y\n",
    "\n",
    "before = time()\n",
    "print('add(10)', add(10))\n",
    "after = time()\n",
    "print('time taken: ', after - before)\n",
    "defore = time()\n",
    "print('add(20, 30)', add(20, 30))\n",
    "after = time()\n",
    "print('time taken: ', after - before)\n",
    "before = time()\n",
    "print('add(\"a\", \"b\")', add(\"a\", \"b\"))\n",
    "after = time()\n",
    "print('time taken: ', after - before)"
   ]
  },
  {
   "cell_type": "markdown",
   "metadata": {},
   "source": [
    "通过阅读上面的代码，我们发现：每次运行，都要先记录一下开始和结束时间，然后 `print` 一下。\n",
    "\n",
    "为了做这一件事，写了一堆代码。\n",
    "\n",
    "显然，我的 Python 不可能这么麻烦。重复的代码可以用一个函数装起来，多次利用："
   ]
  },
  {
   "cell_type": "code",
   "execution_count": 10,
   "metadata": {},
   "outputs": [
    {
     "name": "stdout",
     "output_type": "stream",
     "text": [
      "time taken:  9.5367431640625e-07\n",
      "add(10) 20\n",
      "time taken:  0.0\n",
      "add(20, 30) 50\n",
      "time taken:  0.0\n",
      "add(\"a\", \"b\") ab\n"
     ]
    }
   ],
   "source": [
    "from time import time\n",
    "\n",
    "def add(x, y = 10):\n",
    "    before = time()\n",
    "    rv = x + y\n",
    "    after = time()\n",
    "    print('time taken: ', after - before)\n",
    "    return rv\n",
    "\n",
    "print('add(10)', add(10))\n",
    "print('add(20, 30)', add(20, 30))\n",
    "print('add(\"a\", \"b\")', add(\"a\", \"b\"))"
   ]
  },
  {
   "cell_type": "markdown",
   "metadata": {},
   "source": [
    "通过上面这个函数，每次调用 `add` 函数的时候，都会 `print` 函数的运行时间。\n",
    "\n",
    "到目前为止，这一切都运行的很完美。但如果我们现在有一个 `sub` 函数，然后同样需要打印函数的运行时间呢？\n",
    "\n",
    "下面是一个 `sub` 函数："
   ]
  },
  {
   "cell_type": "code",
   "execution_count": 11,
   "metadata": {},
   "outputs": [],
   "source": [
    "def sub(x, y = 10):\n",
    "    return x - y"
   ]
  },
  {
   "cell_type": "markdown",
   "metadata": {},
   "source": [
    "最直接的方法当然就是像上面一样，对 `add` 函数进行改造。\n",
    "\n",
    "但是如果需要打印时间的不止是 `add` 和 `sub`，还有其他很多函数呢？一个一个地改造函数，就十分麻烦了。\n",
    "\n",
    "我的 Python 不可能这么麻烦！一定有更简单的方法来实现这个功能。"
   ]
  },
  {
   "cell_type": "code",
   "execution_count": 12,
   "metadata": {},
   "outputs": [
    {
     "name": "stdout",
     "output_type": "stream",
     "text": [
      "time taken:  0.0\n",
      "add(10) 20\n",
      "time taken:  0.0\n",
      "sub(10) 10\n"
     ]
    }
   ],
   "source": [
    "def add(x, y = 10):\n",
    "    return x + y\n",
    "\n",
    "def sub(x, y = 10):\n",
    "    return x - y\n",
    "\n",
    "def timer(func, x, y = 10):\n",
    "    before = time()\n",
    "    rv = func(x, y)\n",
    "    after = time()\n",
    "    print('time taken: ', after - before)\n",
    "    return rv\n",
    "\n",
    "print('add(10)', timer(add, 10))\n",
    "print('sub(10)', timer(sub, 20))"
   ]
  },
  {
   "cell_type": "markdown",
   "metadata": {},
   "source": [
    "上面构造了一个函数 `timer`。\n",
    "\n",
    "它将 `add`, `sub` 及 `add`, `sub` 的输入作为它的输入，把 `add`, `sub` 的输出作为它的输出。\n",
    "\n",
    "这就相当于，函数 `timer` 用它自己替代了 `add` 和 `sub` 的功能。`add` 和 `sub` 在这里退化成了函数 `timer` 的参数。\n",
    "\n",
    "这也不失为一种实现方法，但是这偏离了我们最初**改造函数**的目的。\n",
    "\n",
    "我们希望经过改造后的函数仍然是一个函数，而非退化成其他函数的参数。"
   ]
  },
  {
   "cell_type": "code",
   "execution_count": 13,
   "metadata": {},
   "outputs": [
    {
     "name": "stdout",
     "output_type": "stream",
     "text": [
      "time taken:  0.0\n",
      "add(10) 20\n",
      "time taken:  9.5367431640625e-07\n",
      "add(10, 20) 30\n",
      "time taken:  7.152557373046875e-07\n",
      "sub(20) 10\n"
     ]
    }
   ],
   "source": [
    "from time import time\n",
    "\n",
    "\n",
    "def timer(func):\n",
    "    def f(x, y = 10):\n",
    "        before = time()\n",
    "        rv = func(x, y)\n",
    "        after = time()\n",
    "        print('time taken: ', after - before)\n",
    "        return rv\n",
    "    return f\n",
    "\n",
    "def add(x, y = 10):\n",
    "    return x + y\n",
    "\n",
    "def sub(x, y = 10):\n",
    "    return x - y\n",
    "\n",
    "add = timer(add)\n",
    "sub = timer(sub)\n",
    "\n",
    "print('add(10)', add(10))\n",
    "print('add(10, 20)', add(10, 20))\n",
    "print('sub(20)', sub(20))"
   ]
  },
  {
   "cell_type": "markdown",
   "metadata": {},
   "source": [
    "上面这段代码的本质是利用函数 `timer` 对函数 `add` 进行改造。\n",
    "\n",
    "函数 `timer` 返回的结果是一个新的经过改造的 `add` 函数。\n",
    "\n",
    "上面这段代码已经完全实现了装饰器的功能。在文章开头的，带 `@` 形式的装饰器，无非是以上过程的简写。\n",
    "\n",
    "下面尝试用带 `@` 形式写出装饰器 `timer`。为了避免污染变量，我们命名一个新装饰器 `ntimer`。"
   ]
  },
  {
   "cell_type": "code",
   "execution_count": 14,
   "metadata": {},
   "outputs": [
    {
     "name": "stdout",
     "output_type": "stream",
     "text": [
      "time taken:  0.0\n",
      "add(10) 20\n"
     ]
    }
   ],
   "source": [
    "from time import time\n",
    "\n",
    "\n",
    "def ntimer(func):\n",
    "    def f(x, y = 10):\n",
    "        before = time()\n",
    "        rv = func(x, y)\n",
    "        after = time()\n",
    "        print('time taken: ', after - before)\n",
    "        return rv\n",
    "    return f\n",
    "\n",
    "@ntimer\n",
    "def add(x, y = 10):\n",
    "    return x + y\n",
    "\n",
    "print('add(10)', add(10))"
   ]
  },
  {
   "cell_type": "markdown",
   "metadata": {},
   "source": [
    "## 2. 一个小练习\n",
    "\n",
    "小尝试：\n",
    "\n",
    "既然学会了写装饰器，我们就来 freestyle 一下。\n",
    "\n",
    "尝试改造 `new_print` 函数，使每次使用它打印内容时，自动在内容前加上\"You just typed: \"。"
   ]
  },
  {
   "cell_type": "code",
   "execution_count": 15,
   "metadata": {},
   "outputs": [],
   "source": [
    "def change_print(func):\n",
    "    def f(x):\n",
    "        rv = func('You just typed: ' + x)\n",
    "        return rv\n",
    "    return f\n",
    "\n",
    "@change_print\n",
    "def new_print(x):\n",
    "    print(x)"
   ]
  },
  {
   "cell_type": "code",
   "execution_count": 16,
   "metadata": {},
   "outputs": [
    {
     "name": "stdout",
     "output_type": "stream",
     "text": [
      "You just typed: a\n"
     ]
    }
   ],
   "source": [
    "new_print('a')"
   ]
  },
  {
   "cell_type": "markdown",
   "metadata": {},
   "source": [
    "## 3. 使用 `*args` 和 `**kwargs`\n",
    "\n",
    "使用 `*args` 和 `**kwargs` 作为函数输入的参数和关键字参数。"
   ]
  },
  {
   "cell_type": "code",
   "execution_count": 17,
   "metadata": {},
   "outputs": [
    {
     "name": "stdout",
     "output_type": "stream",
     "text": [
      "time taken:  9.5367431640625e-07\n",
      "add(10) 20\n",
      "time taken:  9.5367431640625e-07\n",
      "add(20, 30) 50\n",
      "time taken:  1.1920928955078125e-06\n",
      "sub(20, 5) 15\n"
     ]
    }
   ],
   "source": [
    "# *args 和 **kwargs\n",
    "from time import time\n",
    "\n",
    "def ntimer(func):\n",
    "    def f(*args, **kwargs):\n",
    "        before = time()\n",
    "        rv = func(*args, **kwargs)\n",
    "        after = time()\n",
    "        print('time taken: ', after - before)\n",
    "        return rv\n",
    "    return f\n",
    "\n",
    "@ntimer\n",
    "def add(x, y=10):\n",
    "    return x + y\n",
    "\n",
    "@ntimer\n",
    "def sub(x, y=10):\n",
    "    return x - y\n",
    "\n",
    "print('add(10)', add(10))\n",
    "print('add(20, 30)', add(20, 30))\n",
    "print('sub(20, 5)', sub(20, 5))"
   ]
  },
  {
   "cell_type": "markdown",
   "metadata": {},
   "source": [
    "## 4. 高阶装饰器\n",
    "\n",
    "还是原来的风格，还是原来的味道。本质是没有变的。只不过在外面多包了一层函数，多给了一个参数罢了。\n",
    "\n",
    "称之为高阶装饰器实在是太给面子了。\n"
   ]
  },
  {
   "cell_type": "code",
   "execution_count": 18,
   "metadata": {},
   "outputs": [],
   "source": [
    "# 高阶装饰器\n",
    "\n",
    "def ntimes(n):\n",
    "    def inner(f):\n",
    "        def wrapper(*args, **kwargs):\n",
    "            for _ in range(n):\n",
    "                rv = f(*args, **kwargs)\n",
    "            return rv\n",
    "        return wrapper\n",
    "    return inner"
   ]
  },
  {
   "cell_type": "code",
   "execution_count": 19,
   "metadata": {},
   "outputs": [
    {
     "name": "stdout",
     "output_type": "stream",
     "text": [
      "3\n",
      "3\n",
      "3\n"
     ]
    }
   ],
   "source": [
    "@ntimes(3)\n",
    "def add(x, y):\n",
    "    print(x + y)\n",
    "    return x + y\n",
    "\n",
    "rv = add(1, 2)"
   ]
  },
  {
   "cell_type": "markdown",
   "metadata": {},
   "source": [
    "\n",
    "把外层函数去掉，取中间部分代码，就是上文中的低阶装饰器。\n",
    "\n",
    "```python\n",
    "def inner(f):\n",
    "    def wrapper(*args, **kwargs):\n",
    "        for _ in range(n):\n",
    "            rv = f(*args, **kwargs)\n",
    "        return rv\n",
    "    return wrapper\n",
    "```"
   ]
  },
  {
   "cell_type": "markdown",
   "metadata": {},
   "source": [
    "## 5. `@functools.lru_cache()`\n",
    "\n",
    "`@functools.lru_cache(maxsize=128, typed=False)` 该装饰器包装一个函数，使之能记忆最近使用的输入和对应的输出，从而达到节省时间的目的。\n",
    "\n",
    "其 LRU 缓存最多记忆 maxsize 个记录。如果 maxsize 设为 None，则缓存大小无限制。如果 type 设为 True，则函数会区别对待不同数据类型的输入。例如，f(3) 和 f(3.0) 会被当作两个输入，并对应其各自的输出。\n",
    "\n",
    "注意，此装饰器仅用于有稳定输入输出的函数。如果一个输入会对应不同的输出，则其输出的结果无法重用，也就无法使用此装饰器。比如 random 函数。\n",
    "\n",
    "更多信息参见 [functools docs](https://docs.python.org/3.7/library/functools.html)."
   ]
  },
  {
   "cell_type": "markdown",
   "metadata": {},
   "source": [
    "示例一：使用 LRU 缓存加速斐波拉契数列的计算。"
   ]
  },
  {
   "cell_type": "code",
   "execution_count": 20,
   "metadata": {},
   "outputs": [
    {
     "name": "stdout",
     "output_type": "stream",
     "text": [
      "time taken:  6.723403930664062e-05\n",
      "(832040, CacheInfo(hits=28, misses=31, maxsize=None, currsize=31))\n",
      "time taken:  0.35408902168273926\n",
      "(832040, CacheInfo(hits=0, misses=2692537, maxsize=0, currsize=0))\n"
     ]
    }
   ],
   "source": [
    "from time import time\n",
    "from functools import lru_cache\n",
    "\n",
    "\n",
    "def timer(func):\n",
    "    \"\"\"用于统计运行时间的装饰器\"\"\"\n",
    "    def f(*args, **kwargs):\n",
    "        before = time()\n",
    "        rv = func(*args, **kwargs)\n",
    "        after = time()\n",
    "        print('time taken: ', after - before)\n",
    "        return rv\n",
    "    return f\n",
    "\n",
    "@timer\n",
    "def main(num, maxsize):\n",
    "    @lru_cache(maxsize)\n",
    "    def fib(n):\n",
    "        if n < 2:\n",
    "            return n\n",
    "        return fib(n-1) + fib(n-2)\n",
    "    \n",
    "    return fib(num), fib.cache_info()\n",
    "\n",
    "print(main(30, None))\n",
    "print(main(30, 0))"
   ]
  },
  {
   "cell_type": "markdown",
   "metadata": {},
   "source": [
    "示例二：用于稳定网络内容的 LRU 缓存。"
   ]
  },
  {
   "cell_type": "code",
   "execution_count": 21,
   "metadata": {},
   "outputs": [
    {
     "name": "stdout",
     "output_type": "stream",
     "text": [
      "8 106914\n",
      "290 59806\n",
      "308 57012\n",
      "320 49591\n",
      "8 106914\n",
      "218 46835\n",
      "320 49591\n",
      "279 48593\n",
      "289 50922\n",
      "320 49591\n",
      "9991 9\n"
     ]
    }
   ],
   "source": [
    "from functools import lru_cache\n",
    "import urllib\n",
    "\n",
    "\n",
    "@lru_cache(maxsize=32)\n",
    "def get_pep(num):\n",
    "    'Retrieve text of a Python Enhancement Proposal'\n",
    "    resource = 'http://www.python.org/dev/peps/pep-%04d/' % num\n",
    "    try:\n",
    "        with urllib.request.urlopen(resource) as s:\n",
    "            return s.read()\n",
    "    except urllib.error.HTTPError:\n",
    "        return 'Not Found'\n",
    "    \n",
    "for n in 8, 290, 308, 320, 8, 218, 320, 279, 289, 320, 9991:\n",
    "    pep = get_pep(n)\n",
    "    print(n, len(pep))"
   ]
  },
  {
   "cell_type": "code",
   "execution_count": 22,
   "metadata": {},
   "outputs": [
    {
     "data": {
      "text/plain": [
       "CacheInfo(hits=3, misses=8, maxsize=32, currsize=8)"
      ]
     },
     "execution_count": 22,
     "metadata": {},
     "output_type": "execute_result"
    }
   ],
   "source": [
    "get_pep.cache_info()"
   ]
  },
  {
   "cell_type": "markdown",
   "metadata": {},
   "source": [
    "作为拓展，下面摘录了 `@lru_cache()` 的部分源码。\n",
    "\n",
    "```python\n",
    "def update_wrapper(wrapper,\n",
    "                   wrapped,\n",
    "                   assigned = WRAPPER_ASSIGNMENTS,\n",
    "                   updated = WRAPPER_UPDATES):\n",
    "    \"\"\"Update a wrapper function to look like the wrapped function\n",
    "\n",
    "       wrapper is the function to be updated\n",
    "       wrapped is the original function\n",
    "       assigned is a tuple naming the attributes assigned directly\n",
    "       from the wrapped function to the wrapper function (defaults to\n",
    "       functools.WRAPPER_ASSIGNMENTS)\n",
    "       updated is a tuple naming the attributes of the wrapper that\n",
    "       are updated with the corresponding attribute from the wrapped\n",
    "       function (defaults to functools.WRAPPER_UPDATES)\n",
    "    \"\"\"\n",
    "    for attr in assigned:\n",
    "        try:\n",
    "            value = getattr(wrapped, attr)\n",
    "        except AttributeError:\n",
    "            pass\n",
    "        else:\n",
    "            setattr(wrapper, attr, value)\n",
    "    for attr in updated:\n",
    "        getattr(wrapper, attr).update(getattr(wrapped, attr, {}))\n",
    "    # Issue #17482: set __wrapped__ last so we don't inadvertently copy it\n",
    "    # from the wrapped function when updating __dict__\n",
    "    wrapper.__wrapped__ = wrapped\n",
    "    # Return the wrapper so this can be used as a decorator via partial()\n",
    "    return wrapper\n",
    "\n",
    "def _make_key(args, kwds, typed,\n",
    "             kwd_mark = (object(),),\n",
    "             fasttypes = {int, str},\n",
    "             tuple=tuple, type=type, len=len):\n",
    "    \"\"\"Make a cache key from optionally typed positional and keyword arguments\n",
    "\n",
    "    The key is constructed in a way that is flat as possible rather than\n",
    "    as a nested structure that would take more memory.\n",
    "\n",
    "    If there is only a single argument and its data type is known to cache\n",
    "    its hash value, then that argument is returned without a wrapper.  This\n",
    "    saves space and improves lookup speed.\n",
    "\n",
    "    \"\"\"\n",
    "    # All of code below relies on kwds preserving the order input by the user.\n",
    "    # Formerly, we sorted() the kwds before looping.  The new way is *much*\n",
    "    # faster; however, it means that f(x=1, y=2) will now be treated as a\n",
    "    # distinct call from f(y=2, x=1) which will be cached separately.\n",
    "    key = args\n",
    "    if kwds:\n",
    "        key += kwd_mark\n",
    "        for item in kwds.items():\n",
    "            key += item\n",
    "    if typed:\n",
    "        key += tuple(type(v) for v in args)\n",
    "        if kwds:\n",
    "            key += tuple(type(v) for v in kwds.values())\n",
    "    elif len(key) == 1 and type(key[0]) in fasttypes:\n",
    "        return key[0]\n",
    "    return _HashedSeq(key)\n",
    "\n",
    "def lru_cache(maxsize=128, typed=False):\n",
    "    \"\"\"Least-recently-used cache decorator.\n",
    "\n",
    "    If *maxsize* is set to None, the LRU features are disabled and the cache\n",
    "    can grow without bound.\n",
    "\n",
    "    If *typed* is True, arguments of different types will be cached separately.\n",
    "    For example, f(3.0) and f(3) will be treated as distinct calls with\n",
    "    distinct results.\n",
    "\n",
    "    Arguments to the cached function must be hashable.\n",
    "\n",
    "    View the cache statistics named tuple (hits, misses, maxsize, currsize)\n",
    "    with f.cache_info().  Clear the cache and statistics with f.cache_clear().\n",
    "    Access the underlying function with f.__wrapped__.\n",
    "\n",
    "    See:  http://en.wikipedia.org/wiki/Cache_algorithms#Least_Recently_Used\n",
    "\n",
    "    \"\"\"\n",
    "\n",
    "    # Users should only access the lru_cache through its public API:\n",
    "    #       cache_info, cache_clear, and f.__wrapped__\n",
    "    # The internals of the lru_cache are encapsulated for thread safety and\n",
    "    # to allow the implementation to change (including a possible C version).\n",
    "\n",
    "    # Early detection of an erroneous call to @lru_cache without any arguments\n",
    "    # resulting in the inner function being passed to maxsize instead of an\n",
    "    # integer or None.  Negative maxsize is treated as 0.\n",
    "    if isinstance(maxsize, int):\n",
    "        if maxsize < 0:\n",
    "            maxsize = 0\n",
    "    elif maxsize is not None:\n",
    "        raise TypeError('Expected maxsize to be an integer or None')\n",
    "\n",
    "    def decorating_function(user_function):\n",
    "        wrapper = _lru_cache_wrapper(user_function, maxsize, typed, _CacheInfo)\n",
    "        return update_wrapper(wrapper, user_function)\n",
    "\n",
    "    return decorating_function\n",
    "\n",
    "def _lru_cache_wrapper(user_function, maxsize, typed, _CacheInfo):\n",
    "    # Constants shared by all lru cache instances:\n",
    "    sentinel = object()          # unique object used to signal cache misses\n",
    "    make_key = _make_key         # build a key from the function arguments\n",
    "    PREV, NEXT, KEY, RESULT = 0, 1, 2, 3   # names for the link fields\n",
    "\n",
    "    cache = {}\n",
    "    hits = misses = 0\n",
    "    full = False\n",
    "    cache_get = cache.get    # bound method to lookup a key or return None\n",
    "    cache_len = cache.__len__  # get cache size without calling len()\n",
    "    lock = RLock()           # because linkedlist updates aren't threadsafe\n",
    "    root = []                # root of the circular doubly linked list\n",
    "    root[:] = [root, root, None, None]     # initialize by pointing to self\n",
    "\n",
    "    if maxsize == 0:\n",
    "\n",
    "        def wrapper(*args, **kwds):\n",
    "            # No caching -- just a statistics update\n",
    "            nonlocal misses\n",
    "            misses += 1\n",
    "            result = user_function(*args, **kwds)\n",
    "            return result\n",
    "\n",
    "    elif maxsize is None:\n",
    "\n",
    "        def wrapper(*args, **kwds):\n",
    "            # Simple caching without ordering or size limit\n",
    "            nonlocal hits, misses\n",
    "            key = make_key(args, kwds, typed)\n",
    "            result = cache_get(key, sentinel)\n",
    "            if result is not sentinel:\n",
    "                hits += 1\n",
    "                return result\n",
    "            misses += 1\n",
    "            result = user_function(*args, **kwds)\n",
    "            cache[key] = result\n",
    "            return result\n",
    "\n",
    "    else:\n",
    "\n",
    "        def wrapper(*args, **kwds):\n",
    "            # Size limited caching that tracks accesses by recency\n",
    "            nonlocal root, hits, misses, full\n",
    "            key = make_key(args, kwds, typed)\n",
    "            with lock:\n",
    "                link = cache_get(key)\n",
    "                if link is not None:\n",
    "                    # Move the link to the front of the circular queue\n",
    "                    link_prev, link_next, _key, result = link\n",
    "                    link_prev[NEXT] = link_next\n",
    "                    link_next[PREV] = link_prev\n",
    "                    last = root[PREV]\n",
    "                    last[NEXT] = root[PREV] = link\n",
    "                    link[PREV] = last\n",
    "                    link[NEXT] = root\n",
    "                    hits += 1\n",
    "                    return result\n",
    "                misses += 1\n",
    "            result = user_function(*args, **kwds)\n",
    "            with lock:\n",
    "                if key in cache:\n",
    "                    # Getting here means that this same key was added to the\n",
    "                    # cache while the lock was released.  Since the link\n",
    "                    # update is already done, we need only return the\n",
    "                    # computed result and update the count of misses.\n",
    "                    pass\n",
    "                elif full:\n",
    "                    # Use the old root to store the new key and result.\n",
    "                    oldroot = root\n",
    "                    oldroot[KEY] = key\n",
    "                    oldroot[RESULT] = result\n",
    "                    # Empty the oldest link and make it the new root.\n",
    "                    # Keep a reference to the old key and old result to\n",
    "                    # prevent their ref counts from going to zero during the\n",
    "                    # update. That will prevent potentially arbitrary object\n",
    "                    # clean-up code (i.e. __del__) from running while we're\n",
    "                    # still adjusting the links.\n",
    "                    root = oldroot[NEXT]\n",
    "                    oldkey = root[KEY]\n",
    "                    oldresult = root[RESULT]\n",
    "                    root[KEY] = root[RESULT] = None\n",
    "                    # Now update the cache dictionary.\n",
    "                    del cache[oldkey]\n",
    "                    # Save the potentially reentrant cache[key] assignment\n",
    "                    # for last, after the root and links have been put in\n",
    "                    # a consistent state.\n",
    "                    cache[key] = oldroot\n",
    "                else:\n",
    "                    # Put result in a new link at the front of the queue.\n",
    "                    last = root[PREV]\n",
    "                    link = [last, root, key, result]\n",
    "                    last[NEXT] = root[PREV] = cache[key] = link\n",
    "                    # Use the cache_len bound method instead of the len() function\n",
    "                    # which could potentially be wrapped in an lru_cache itself.\n",
    "                    full = (cache_len() >= maxsize)\n",
    "            return result\n",
    "\n",
    "    def cache_info():\n",
    "        \"\"\"Report cache statistics\"\"\"\n",
    "        with lock:\n",
    "            return _CacheInfo(hits, misses, maxsize, cache_len())\n",
    "\n",
    "    def cache_clear():\n",
    "        \"\"\"Clear the cache and cache statistics\"\"\"\n",
    "        nonlocal hits, misses, full\n",
    "        with lock:\n",
    "            cache.clear()\n",
    "            root[:] = [root, root, None, None]\n",
    "            hits = misses = 0\n",
    "            full = False\n",
    "\n",
    "    wrapper.cache_info = cache_info\n",
    "    wrapper.cache_clear = cache_clear\n",
    "    return wrapper\n",
    "```"
   ]
  },
  {
   "cell_type": "code",
   "execution_count": null,
   "metadata": {},
   "outputs": [],
   "source": []
  }
 ],
 "metadata": {
  "kernelspec": {
   "display_name": "Python 3",
   "language": "python",
   "name": "python3"
  },
  "language_info": {
   "codemirror_mode": {
    "name": "ipython",
    "version": 3
   },
   "file_extension": ".py",
   "mimetype": "text/x-python",
   "name": "python",
   "nbconvert_exporter": "python",
   "pygments_lexer": "ipython3",
   "version": "3.7.4"
  }
 },
 "nbformat": 4,
 "nbformat_minor": 2
}
