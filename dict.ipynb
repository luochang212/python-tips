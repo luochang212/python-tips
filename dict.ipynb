{
 "cells": [
  {
   "cell_type": "markdown",
   "metadata": {},
   "source": [
    "# Python 字典\n",
    "\n",
    "鉴于 JSON 在大数据中的大量使用，字典的重要性也不言而喻。\n",
    "\n",
    "本文从以下几个方面介绍字典：\n",
    "\n",
    "1. 创建\n",
    "2. 获取\n",
    "3. 更新\n",
    "4. 遍历\n",
    "5. 排序\n",
    "6. 删除\n",
    "7. 字典与JSON"
   ]
  },
  {
   "cell_type": "markdown",
   "metadata": {},
   "source": [
    "## 1. 创建"
   ]
  },
  {
   "cell_type": "code",
   "execution_count": 1,
   "metadata": {},
   "outputs": [
    {
     "data": {
      "text/plain": [
       "{}"
      ]
     },
     "execution_count": 1,
     "metadata": {},
     "output_type": "execute_result"
    }
   ],
   "source": [
    "ndict = {}\n",
    "ndict"
   ]
  },
  {
   "cell_type": "markdown",
   "metadata": {},
   "source": [
    "## 2. 获取\n",
    "\n",
    "有两种方法可以获取单个键值："
   ]
  },
  {
   "cell_type": "code",
   "execution_count": 2,
   "metadata": {},
   "outputs": [
    {
     "data": {
      "text/plain": [
       "'luochang212'"
      ]
     },
     "execution_count": 2,
     "metadata": {},
     "output_type": "execute_result"
    }
   ],
   "source": [
    "# 方法一\n",
    "\n",
    "ndict = {\"name\": \"luochang212\", \"age\": \"18\", \"nationality\": \"China\"}\n",
    "ndict['name']"
   ]
  },
  {
   "cell_type": "code",
   "execution_count": 3,
   "metadata": {},
   "outputs": [
    {
     "data": {
      "text/plain": [
       "'luochang212'"
      ]
     },
     "execution_count": 3,
     "metadata": {},
     "output_type": "execute_result"
    }
   ],
   "source": [
    "# 方法二\n",
    "\n",
    "ndict = {\"name\": \"luochang212\", \"age\": \"18\", \"nationality\": \"China\"}\n",
    "ndict.get('name')"
   ]
  },
  {
   "cell_type": "markdown",
   "metadata": {},
   "source": [
    "如果希望获取所有的键和值，可以使用字典的 `keys()` 和 `values()` 方法。"
   ]
  },
  {
   "cell_type": "code",
   "execution_count": 4,
   "metadata": {},
   "outputs": [
    {
     "data": {
      "text/plain": [
       "dict_keys(['name', 'age', 'nationality'])"
      ]
     },
     "execution_count": 4,
     "metadata": {},
     "output_type": "execute_result"
    }
   ],
   "source": [
    "# 获取所有键\n",
    "\n",
    "ndict.keys()"
   ]
  },
  {
   "cell_type": "code",
   "execution_count": 5,
   "metadata": {},
   "outputs": [
    {
     "data": {
      "text/plain": [
       "dict_values(['luochang212', '18', 'China'])"
      ]
     },
     "execution_count": 5,
     "metadata": {},
     "output_type": "execute_result"
    }
   ],
   "source": [
    "# 获取所有值\n",
    "\n",
    "ndict.values()"
   ]
  },
  {
   "cell_type": "markdown",
   "metadata": {},
   "source": [
    "PS：需要注意的是，在字典中键和值的存储都是无序的，因此类似 `dict.keys()[1]` 这样的命令将会导致报错。"
   ]
  },
  {
   "cell_type": "markdown",
   "metadata": {},
   "source": [
    "## 3. 更新\n",
    "\n",
    "对于字典 `dict`，使用命令 `dict['[new_key]'] = '[new_value]'` 即可添加新的键值对。"
   ]
  },
  {
   "cell_type": "code",
   "execution_count": 6,
   "metadata": {},
   "outputs": [
    {
     "data": {
      "text/plain": [
       "{'name': 'luochang212', 'age': '18', 'nationality': 'China', 'gender': 'male'}"
      ]
     },
     "execution_count": 6,
     "metadata": {},
     "output_type": "execute_result"
    }
   ],
   "source": [
    "# 添加键值对\n",
    "\n",
    "ndict = {\"name\": \"luochang212\", \"age\": \"18\", \"nationality\": \"China\", \"nationality\": \"China\"}\n",
    "ndict['gender'] = 'male'\n",
    "ndict"
   ]
  },
  {
   "cell_type": "markdown",
   "metadata": {},
   "source": [
    "如果键名已经存在，上述方法可以用来更新已有的键值。"
   ]
  },
  {
   "cell_type": "code",
   "execution_count": 7,
   "metadata": {},
   "outputs": [
    {
     "data": {
      "text/plain": [
       "{'name': 'luochang', 'age': '18', 'nationality': 'China', 'gender': 'male'}"
      ]
     },
     "execution_count": 7,
     "metadata": {},
     "output_type": "execute_result"
    }
   ],
   "source": [
    "# 更新已有键值\n",
    "\n",
    "ndict['name'] = 'luochang'\n",
    "ndict"
   ]
  },
  {
   "cell_type": "markdown",
   "metadata": {},
   "source": [
    "此外，还可以使用 `update()` 方法更新键值对。\n",
    "\n",
    "该方法的一般形式为：`dict1.update(dict2)`，即把 `dict2` 更新到 `dict1` 中。"
   ]
  },
  {
   "cell_type": "code",
   "execution_count": 8,
   "metadata": {},
   "outputs": [
    {
     "data": {
      "text/plain": [
       "{'name': 'luochang', 'age': '18', 'nationality': 'China'}"
      ]
     },
     "execution_count": 8,
     "metadata": {},
     "output_type": "execute_result"
    }
   ],
   "source": [
    "ndict = {\"name\": \"luochang212\", \"age\": \"18\", \"nationality\": \"China\", \"nationality\": \"China\"}\n",
    "ndict.update({\"name\": \"luochang\"})\n",
    "ndict"
   ]
  },
  {
   "cell_type": "markdown",
   "metadata": {},
   "source": [
    "## 4. 遍历\n",
    "\n",
    "下面介绍几种遍历字典的方法："
   ]
  },
  {
   "cell_type": "code",
   "execution_count": 9,
   "metadata": {},
   "outputs": [
    {
     "name": "stdout",
     "output_type": "stream",
     "text": [
      "name: luochang212\n",
      "age: 18\n",
      "nationality: China\n"
     ]
    }
   ],
   "source": [
    "# 方法一\n",
    "\n",
    "ndict = {\"name\": \"luochang212\", \"age\": \"18\", \"nationality\": \"China\", \"nationality\": \"China\"}\n",
    "\n",
    "for i in ndict.keys():\n",
    "    print(i + ':', ndict[i])"
   ]
  },
  {
   "cell_type": "code",
   "execution_count": 10,
   "metadata": {},
   "outputs": [
    {
     "name": "stdout",
     "output_type": "stream",
     "text": [
      "name\n",
      "age\n",
      "nationality\n"
     ]
    }
   ],
   "source": [
    "# 方法二\n",
    "\n",
    "ndict = {\"name\": \"luochang212\", \"age\": \"18\", \"nationality\": \"China\", \"nationality\": \"China\"}\n",
    "\n",
    "for i in ndict:\n",
    "    print(i)"
   ]
  },
  {
   "cell_type": "code",
   "execution_count": 11,
   "metadata": {},
   "outputs": [
    {
     "name": "stdout",
     "output_type": "stream",
     "text": [
      "('name', 'luochang212')\n",
      "('age', '18')\n",
      "('nationality', 'China')\n"
     ]
    }
   ],
   "source": [
    "# 方法三\n",
    "\n",
    "ndict = {\"name\": \"luochang212\", \"age\": \"18\", \"nationality\": \"China\", \"nationality\": \"China\"}\n",
    "\n",
    "for i in ndict.items():\n",
    "    print(i)"
   ]
  },
  {
   "cell_type": "code",
   "execution_count": 12,
   "metadata": {},
   "outputs": [
    {
     "name": "stdout",
     "output_type": "stream",
     "text": [
      "name: luochang212\n",
      "age: 18\n",
      "nationality: China\n"
     ]
    }
   ],
   "source": [
    "# 方法四\n",
    "\n",
    "ndict = {\"name\": \"luochang212\", \"age\": \"18\", \"nationality\": \"China\", \"nationality\": \"China\"}\n",
    "\n",
    "for key, value in ndict.items():\n",
    "    print(key + ':', value)"
   ]
  },
  {
   "cell_type": "markdown",
   "metadata": {},
   "source": [
    "## 5. 排序\n",
    "\n",
    "问题：动物园里有3只大熊猫，5只老虎和7只河马，如何按数量对它们从大到小进行排序呢？"
   ]
  },
  {
   "cell_type": "code",
   "execution_count": 13,
   "metadata": {},
   "outputs": [
    {
     "data": {
      "text/plain": [
       "[('hippo', '7'), ('tiger', '5'), ('panda', '3')]"
      ]
     },
     "execution_count": 13,
     "metadata": {},
     "output_type": "execute_result"
    }
   ],
   "source": [
    "ndict = {\"panda\": \"3\", \"tiger\": \"5\", \"hippo\": \"7\"}\n",
    "\n",
    "nlist = sorted(ndict.items(), key=lambda e:e[1], reverse=True)\n",
    "nlist"
   ]
  },
  {
   "cell_type": "markdown",
   "metadata": {},
   "source": [
    "## 6. 删除"
   ]
  },
  {
   "cell_type": "code",
   "execution_count": 14,
   "metadata": {},
   "outputs": [
    {
     "name": "stdout",
     "output_type": "stream",
     "text": [
      "删除键为 name 的元素: {'age': '18', 'nationality': 'China'}\n",
      "删除字典所有元素: {}\n"
     ]
    }
   ],
   "source": [
    "ndict = {\"name\": \"luochang212\", \"age\": \"18\", \"nationality\": \"China\", \"nationality\": \"China\"}\n",
    "\n",
    "del ndict['name']  # 删除键为 name 的元素\n",
    "print('删除键为 name 的元素:', ndict)\n",
    "\n",
    "ndict.clear()  # 删除字典的所有元素\n",
    "print('删除字典所有元素:', ndict)\n",
    "\n",
    "del ndict  # 删除字典"
   ]
  },
  {
   "cell_type": "markdown",
   "metadata": {},
   "source": [
    "## 7. 字典与 JSON\n",
    "\n",
    "### 7.1 字典与 JSON 的区别\n",
    "\n",
    "仅从外观来看，字典与 JSON 一模一样。但 JSON 的本质是字符串，而字典则是一种数据结构。\n",
    "\n",
    "### 7.2 字典与 JSON 的相互转换\n",
    "\n",
    "|  函数 | 作用 |\n",
    "|---|----------|\n",
    "| loads( ) | 将 JSON 串转为字典 |\n",
    "| dumps( ) | 将字典转为 JSON 串 |\n",
    "\n",
    "在运行以下代码之前，请检查自己是否安装了 `json` 库。"
   ]
  },
  {
   "cell_type": "code",
   "execution_count": 15,
   "metadata": {},
   "outputs": [
    {
     "data": {
      "text/plain": [
       "{'name': 'luochang212', 'age': '18', 'nationality': 'China'}"
      ]
     },
     "execution_count": 15,
     "metadata": {},
     "output_type": "execute_result"
    }
   ],
   "source": [
    "# JSON 转字典\n",
    "import json\n",
    "\n",
    "\n",
    "njson = '{\"name\": \"luochang212\", \"age\": \"18\", \"nationality\": \"China\", \"nationality\": \"China\"}'\n",
    "\n",
    "ndict = {}\n",
    "ndict = json.loads(njson)\n",
    "ndict"
   ]
  },
  {
   "cell_type": "code",
   "execution_count": 16,
   "metadata": {},
   "outputs": [
    {
     "data": {
      "text/plain": [
       "'{\"name\": \"luochang212\", \"age\": \"18\", \"nationality\": \"China\"}'"
      ]
     },
     "execution_count": 16,
     "metadata": {},
     "output_type": "execute_result"
    }
   ],
   "source": [
    "# 字典转 JSON\n",
    "import json\n",
    "\n",
    "\n",
    "ndict = {\"name\": \"luochang212\", \"age\": \"18\", \"nationality\": \"China\", \"nationality\": \"China\"}\n",
    "\n",
    "njson = ''\n",
    "njson = json.dumps(ndict)\n",
    "njson"
   ]
  },
  {
   "cell_type": "code",
   "execution_count": null,
   "metadata": {},
   "outputs": [],
   "source": []
  }
 ],
 "metadata": {
  "kernelspec": {
   "display_name": "Python 3",
   "language": "python",
   "name": "python3"
  },
  "language_info": {
   "codemirror_mode": {
    "name": "ipython",
    "version": 3
   },
   "file_extension": ".py",
   "mimetype": "text/x-python",
   "name": "python",
   "nbconvert_exporter": "python",
   "pygments_lexer": "ipython3",
   "version": "3.7.4"
  }
 },
 "nbformat": 4,
 "nbformat_minor": 2
}
