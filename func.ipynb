{
 "cells": [
  {
   "cell_type": "markdown",
   "metadata": {},
   "source": [
    "# 函数\n",
    "\n",
    "一个最简单的函数如下："
   ]
  },
  {
   "cell_type": "code",
   "execution_count": 1,
   "metadata": {},
   "outputs": [],
   "source": [
    "def say_hi():\n",
    "    print('hi')"
   ]
  },
  {
   "cell_type": "code",
   "execution_count": 2,
   "metadata": {},
   "outputs": [
    {
     "name": "stdout",
     "output_type": "stream",
     "text": [
      "hi\n"
     ]
    }
   ],
   "source": [
    "say_hi()"
   ]
  },
  {
   "cell_type": "markdown",
   "metadata": {},
   "source": [
    "## 1. 形参和实参\n",
    "\n"
   ]
  },
  {
   "cell_type": "code",
   "execution_count": 3,
   "metadata": {},
   "outputs": [],
   "source": [
    "def say_hi(name):\n",
    "    print('hi, '+ name + '.')"
   ]
  },
  {
   "cell_type": "code",
   "execution_count": 4,
   "metadata": {},
   "outputs": [
    {
     "name": "stdout",
     "output_type": "stream",
     "text": [
      "hi, luochang212.\n"
     ]
    }
   ],
   "source": [
    "say_hi('luochang212')"
   ]
  },
  {
   "cell_type": "markdown",
   "metadata": {},
   "source": [
    "在上面这个函数中，`say_hi(name)` 中的 `name` 就是形参。而 `say_hi('luochang212')` 中的 `'luochang212'` 就是实参。"
   ]
  },
  {
   "cell_type": "markdown",
   "metadata": {},
   "source": [
    "## 2. 位置实参\n",
    "\n",
    "有很多方法可以向函数传递实参，其中最简单的是位置实参。"
   ]
  },
  {
   "cell_type": "code",
   "execution_count": 5,
   "metadata": {},
   "outputs": [],
   "source": [
    "def assets(x,y):\n",
    "    print('I have ' + x + '.')\n",
    "    print('I have ' + y + '.')"
   ]
  },
  {
   "cell_type": "code",
   "execution_count": 6,
   "metadata": {},
   "outputs": [
    {
     "name": "stdout",
     "output_type": "stream",
     "text": [
      "I have an apple.\n",
      "I have a pen.\n"
     ]
    }
   ],
   "source": [
    "assets('an apple', 'a pen')"
   ]
  },
  {
   "cell_type": "markdown",
   "metadata": {},
   "source": [
    "## 3. 关键字实参\n",
    "\n",
    "为了避免发生混淆，可以用关键字实参描述形参和实参之间的对应关系。"
   ]
  },
  {
   "cell_type": "code",
   "execution_count": 7,
   "metadata": {},
   "outputs": [],
   "source": [
    "def assets(x,y):\n",
    "    print('I have ' + x + '.')\n",
    "    print('I have ' + y + '.')"
   ]
  },
  {
   "cell_type": "code",
   "execution_count": 8,
   "metadata": {},
   "outputs": [
    {
     "name": "stdout",
     "output_type": "stream",
     "text": [
      "I have an apple.\n",
      "I have a pen.\n"
     ]
    }
   ],
   "source": [
    "assets(x='an apple', y='a pen')"
   ]
  },
  {
   "cell_type": "markdown",
   "metadata": {},
   "source": [
    "## 4. 默认值\n",
    "\n",
    "在编写函数的时候，就可以为函数参数添加默认值。"
   ]
  },
  {
   "cell_type": "code",
   "execution_count": 9,
   "metadata": {},
   "outputs": [],
   "source": [
    "def assets(x,y='a pineapple'):\n",
    "    print('I have ' + x + '.')\n",
    "    print('I have ' + y + '.')"
   ]
  },
  {
   "cell_type": "code",
   "execution_count": 10,
   "metadata": {},
   "outputs": [
    {
     "name": "stdout",
     "output_type": "stream",
     "text": [
      "I have an apple.\n",
      "I have a pineapple.\n"
     ]
    }
   ],
   "source": [
    "assets('an apple')"
   ]
  },
  {
   "cell_type": "markdown",
   "metadata": {},
   "source": [
    "这样如果不为形参 `y` 赋值，该形参将采用默认值。\n",
    "\n",
    "在上述例子中，`'an apple'` 依然被认为是位置实参。所以在定义函数时，`x` 必须要放在 `y` 之前。\n",
    "\n",
    "试验一下把 `y` 放在 `x` 之前会发生什么："
   ]
  },
  {
   "cell_type": "code",
   "execution_count": 12,
   "metadata": {},
   "outputs": [
    {
     "ename": "SyntaxError",
     "evalue": "non-default argument follows default argument (<ipython-input-12-935248e6dd92>, line 1)",
     "output_type": "error",
     "traceback": [
      "\u001b[0;36m  File \u001b[0;32m\"<ipython-input-12-935248e6dd92>\"\u001b[0;36m, line \u001b[0;32m1\u001b[0m\n\u001b[0;31m    def assets(y='a pineapple',x):\u001b[0m\n\u001b[0m              ^\u001b[0m\n\u001b[0;31mSyntaxError\u001b[0m\u001b[0;31m:\u001b[0m non-default argument follows default argument\n"
     ]
    }
   ],
   "source": [
    "def assets(y='a pineapple',x):\n",
    "    print('I have ' + x + '.')\n",
    "    print('I have ' + y + '.')"
   ]
  },
  {
   "cell_type": "markdown",
   "metadata": {},
   "source": [
    "## 5. 位置实参和关键字实参的混用\n",
    "\n",
    "继续好奇，位置实参和关键字实参混搭会发生什么？"
   ]
  },
  {
   "cell_type": "code",
   "execution_count": 13,
   "metadata": {},
   "outputs": [],
   "source": [
    "def assets(x,y):\n",
    "    print('I have ' + x + '.')\n",
    "    print('I have ' + y + '.')"
   ]
  },
  {
   "cell_type": "code",
   "execution_count": 14,
   "metadata": {},
   "outputs": [
    {
     "name": "stdout",
     "output_type": "stream",
     "text": [
      "I have an apple.\n",
      "I have a pen.\n"
     ]
    }
   ],
   "source": [
    "# 尝试一\n",
    "assets(x = 'an apple', y='a pen')"
   ]
  },
  {
   "cell_type": "code",
   "execution_count": 15,
   "metadata": {},
   "outputs": [
    {
     "name": "stdout",
     "output_type": "stream",
     "text": [
      "I have an apple.\n",
      "I have a pen.\n"
     ]
    }
   ],
   "source": [
    "# 尝试二\n",
    "assets('an apple', y='a pen')"
   ]
  },
  {
   "cell_type": "code",
   "execution_count": 16,
   "metadata": {},
   "outputs": [
    {
     "ename": "SyntaxError",
     "evalue": "positional argument follows keyword argument (<ipython-input-16-ec624a1daf0e>, line 2)",
     "output_type": "error",
     "traceback": [
      "\u001b[0;36m  File \u001b[0;32m\"<ipython-input-16-ec624a1daf0e>\"\u001b[0;36m, line \u001b[0;32m2\u001b[0m\n\u001b[0;31m    assets(x = 'an apple', 'a pen')\u001b[0m\n\u001b[0m                          ^\u001b[0m\n\u001b[0;31mSyntaxError\u001b[0m\u001b[0;31m:\u001b[0m positional argument follows keyword argument\n"
     ]
    }
   ],
   "source": [
    "# 尝试三\n",
    "assets(x = 'an apple', 'a pen')"
   ]
  },
  {
   "cell_type": "markdown",
   "metadata": {},
   "source": [
    "我们发现第三次尝试失败了。\n",
    "\n",
    "这说明位置实参和关键字实参是可以混搭使用的。但在混合使用时，必须确保把位置实参放在关键字实参之前。"
   ]
  },
  {
   "cell_type": "markdown",
   "metadata": {},
   "source": [
    "## 6. 默认值、位置实参和关键字实参的混用\n",
    "\n",
    "尝试一下三者混合，有哪些不出错的写法。"
   ]
  },
  {
   "cell_type": "code",
   "execution_count": 17,
   "metadata": {},
   "outputs": [],
   "source": [
    "def assets(x,y='pineapple'):\n",
    "    print('I have ' + x + '.')\n",
    "    print('I have ' + y + '.')"
   ]
  },
  {
   "cell_type": "code",
   "execution_count": 18,
   "metadata": {},
   "outputs": [
    {
     "name": "stdout",
     "output_type": "stream",
     "text": [
      "I have an apple.\n",
      "I have pineapple.\n"
     ]
    }
   ],
   "source": [
    "assets('an apple')"
   ]
  },
  {
   "cell_type": "code",
   "execution_count": 19,
   "metadata": {},
   "outputs": [
    {
     "name": "stdout",
     "output_type": "stream",
     "text": [
      "I have an apple.\n",
      "I have pineapple.\n"
     ]
    }
   ],
   "source": [
    "assets(x='an apple')"
   ]
  },
  {
   "cell_type": "code",
   "execution_count": 20,
   "metadata": {},
   "outputs": [
    {
     "name": "stdout",
     "output_type": "stream",
     "text": [
      "I have an apple.\n",
      "I have a pen.\n"
     ]
    }
   ],
   "source": [
    "assets('an apple', 'a pen')"
   ]
  },
  {
   "cell_type": "code",
   "execution_count": 21,
   "metadata": {},
   "outputs": [
    {
     "name": "stdout",
     "output_type": "stream",
     "text": [
      "I have an apple.\n",
      "I have a pen.\n"
     ]
    }
   ],
   "source": [
    "assets('an apple', y='a pen')"
   ]
  },
  {
   "cell_type": "code",
   "execution_count": 22,
   "metadata": {},
   "outputs": [
    {
     "name": "stdout",
     "output_type": "stream",
     "text": [
      "I have an apple.\n",
      "I have a pen.\n"
     ]
    }
   ],
   "source": [
    "assets(x='an apple', y='a pen')"
   ]
  },
  {
   "cell_type": "code",
   "execution_count": 23,
   "metadata": {},
   "outputs": [
    {
     "name": "stdout",
     "output_type": "stream",
     "text": [
      "I have an apple.\n",
      "I have a pen.\n"
     ]
    }
   ],
   "source": [
    "assets(y='a pen', x='an apple')"
   ]
  },
  {
   "cell_type": "markdown",
   "metadata": {},
   "source": [
    "## 7. 传递任意数量的位置实参\n",
    "\n",
    "可以在形参前加一个 `*` 号，使其传递多个位置实参。"
   ]
  },
  {
   "cell_type": "code",
   "execution_count": 24,
   "metadata": {},
   "outputs": [],
   "source": [
    "def assets(*somethings):\n",
    "    for something in somethings:\n",
    "        print('I have ' + something + '.')"
   ]
  },
  {
   "cell_type": "code",
   "execution_count": 25,
   "metadata": {},
   "outputs": [
    {
     "name": "stdout",
     "output_type": "stream",
     "text": [
      "I have an apple.\n",
      "I have a pen.\n",
      "I have a pineapple.\n"
     ]
    }
   ],
   "source": [
    "assets('an apple', 'a pen', 'a pineapple')"
   ]
  },
  {
   "cell_type": "markdown",
   "metadata": {},
   "source": [
    "这让我们不禁好奇，上面这个形参 `somethings` 的数据类型是啥？\n",
    "\n",
    "我们不妨打印出来看看："
   ]
  },
  {
   "cell_type": "code",
   "execution_count": 26,
   "metadata": {},
   "outputs": [],
   "source": [
    "def assets(*somethings):\n",
    "    print(somethings)\n",
    "    print(type(somethings))"
   ]
  },
  {
   "cell_type": "code",
   "execution_count": 27,
   "metadata": {},
   "outputs": [
    {
     "name": "stdout",
     "output_type": "stream",
     "text": [
      "('an apple', 'a pen', 'a pineapple')\n",
      "<class 'tuple'>\n"
     ]
    }
   ],
   "source": [
    "assets('an apple', 'a pen', 'a pineapple')"
   ]
  },
  {
   "cell_type": "markdown",
   "metadata": {},
   "source": [
    "啊哈，原来是元组（tuple）。\n",
    "\n",
    "## 8. 传递任意数量的关键字实参\n",
    "\n",
    "同理可以在形参前加 `**` 号，使其传递多个关键字实参。"
   ]
  },
  {
   "cell_type": "code",
   "execution_count": 28,
   "metadata": {},
   "outputs": [],
   "source": [
    "def assets(**somethings):\n",
    "    for value in somethings.values():\n",
    "        print('I have ' + value + '.')"
   ]
  },
  {
   "cell_type": "code",
   "execution_count": 29,
   "metadata": {},
   "outputs": [
    {
     "name": "stdout",
     "output_type": "stream",
     "text": [
      "I have an apple.\n",
      "I have a pen.\n",
      "I have a pineapple.\n"
     ]
    }
   ],
   "source": [
    "assets(x='an apple', y='a pen', z='a pineapple')"
   ]
  },
  {
   "cell_type": "markdown",
   "metadata": {},
   "source": [
    "打印看看上面这个形参 somethings 的数据类型是啥？"
   ]
  },
  {
   "cell_type": "code",
   "execution_count": 30,
   "metadata": {},
   "outputs": [],
   "source": [
    "def assets(**somethings):\n",
    "    print(somethings)\n",
    "    print(type(somethings))"
   ]
  },
  {
   "cell_type": "code",
   "execution_count": 31,
   "metadata": {},
   "outputs": [
    {
     "name": "stdout",
     "output_type": "stream",
     "text": [
      "{'x': 'an apple', 'y': 'a pen', 'z': 'a pineapple'}\n",
      "<class 'dict'>\n"
     ]
    }
   ],
   "source": [
    "assets(x='an apple', y='a pen', z='a pineapple')"
   ]
  },
  {
   "cell_type": "markdown",
   "metadata": {},
   "source": [
    "啊哈，原来是字典（dict）。\n",
    "\n",
    "所以如果不习惯加 `*` 号和 `**` 号，直接往里传元组和字典也是可以的。"
   ]
  },
  {
   "cell_type": "markdown",
   "metadata": {},
   "source": [
    "## 9. 由字符串函数名生成可调用的函数\n",
    "\n"
   ]
  },
  {
   "cell_type": "code",
   "execution_count": 32,
   "metadata": {},
   "outputs": [],
   "source": [
    "def say_hi(name):\n",
    "    print('hi, ' + name + '.')"
   ]
  },
  {
   "cell_type": "code",
   "execution_count": 33,
   "metadata": {},
   "outputs": [
    {
     "name": "stdout",
     "output_type": "stream",
     "text": [
      "hi, luochang212.\n"
     ]
    }
   ],
   "source": [
    "func_name = 'say_hi'\n",
    "\n",
    "globals()[func_name]('luochang212')"
   ]
  },
  {
   "cell_type": "code",
   "execution_count": null,
   "metadata": {},
   "outputs": [],
   "source": []
  }
 ],
 "metadata": {
  "kernelspec": {
   "display_name": "Python 3",
   "language": "python",
   "name": "python3"
  },
  "language_info": {
   "codemirror_mode": {
    "name": "ipython",
    "version": 3
   },
   "file_extension": ".py",
   "mimetype": "text/x-python",
   "name": "python",
   "nbconvert_exporter": "python",
   "pygments_lexer": "ipython3",
   "version": "3.7.4"
  }
 },
 "nbformat": 4,
 "nbformat_minor": 2
}
