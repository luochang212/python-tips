{
 "cells": [
  {
   "cell_type": "markdown",
   "metadata": {},
   "source": [
    "# logging\n",
    "\n",
    "[logging](https://docs.python.org/3/library/logging.html) 是用于打印日志的 Python 内置库。\n",
    "\n",
    "logging 和普通的 print 函数的区别在于，使用 logging 一般是为了报告代码运行的状态，而非输出结果。logging 提供了一系列功能，使打印日志更加方便快捷，比如使用 formatter 可以轻松定制日志的打印格式。\n",
    "\n",
    "本文目录：\n",
    "\n",
    "1. 简单使用\n",
    "2. 在单个脚本中使用\n",
    "    - 威胁等级 - level\n",
    "    - 日志打印格式 - format参数\n",
    "3. 涉及多个模块的使用\n",
    "    - 无法被重写\n",
    "    - Logger"
   ]
  },
  {
   "cell_type": "markdown",
   "metadata": {},
   "source": [
    "logging 有五个函数 debug(), info(), warning(), error() 和 critical()，分别代表五种信息等级：\n",
    "\n",
    "- **DEBUG**: Detailed information, typically of interest only when diagnosing problems.\n",
    "- **INFO**: Confirmation that things are working as expected.\n",
    "- **WARNING**: An indication that something unexpected happened, or indicative of some problem in the near future (e.g. ‘disk space low’). The software is still working as expected.\n",
    "- **ERROR**: Due to a more serious problem, the software has not been able to perform some function.\n",
    "- **CRITICAL**: A serious error, indicating that the program itself may be unable to continue running."
   ]
  },
  {
   "cell_type": "markdown",
   "metadata": {},
   "source": [
    "## 1. 简单使用\n",
    "\n",
    "最简单的使用 logging 的方式是:"
   ]
  },
  {
   "cell_type": "code",
   "execution_count": 1,
   "metadata": {},
   "outputs": [
    {
     "name": "stderr",
     "output_type": "stream",
     "text": [
      "WARNING:root:Watch out!\n",
      "ERROR:root:It does not work!\n",
      "CRITICAL:root:Wow!\n"
     ]
    }
   ],
   "source": [
    "import logging\n",
    "\n",
    "# 会在命令行中输出\n",
    "logging.warning('Watch out!')\n",
    "logging.error('It does not work!')\n",
    "logging.critical('Wow!')"
   ]
  },
  {
   "cell_type": "code",
   "execution_count": 2,
   "metadata": {},
   "outputs": [],
   "source": [
    "import logging\n",
    "\n",
    "# 不会在命令行中输出\n",
    "logging.info('OK, it is fine')\n",
    "logging.debug('Relax, bro')"
   ]
  },
  {
   "cell_type": "markdown",
   "metadata": {},
   "source": [
    "像上面这样直接调用方法，就是最简单的使用方式了。非常简单易用对吧，下面我们再深入一些。"
   ]
  },
  {
   "cell_type": "markdown",
   "metadata": {},
   "source": [
    "## 2. 在单个脚本中使用\n",
    "\n",
    "logging 在单个脚本中使用时，我们可以在 import logging 之后，对其做一个统一配置。"
   ]
  },
  {
   "cell_type": "markdown",
   "metadata": {},
   "source": [
    "### 2.1 威胁等级 - level"
   ]
  },
  {
   "cell_type": "code",
   "execution_count": 3,
   "metadata": {},
   "outputs": [
    {
     "name": "stderr",
     "output_type": "stream",
     "text": [
      "WARNING:root:And this, too\n",
      "ERROR:root:And non-ASCII stuff, too, like Øresund and Malmö\n",
      "CRITICAL:root:Can you see me?\n"
     ]
    }
   ],
   "source": [
    "import logging\n",
    "\n",
    "\n",
    "logging.basicConfig(filename='example.log', level=logging.DEBUG)\n",
    "\n",
    "logging.debug('This message should go to the log file')\n",
    "logging.info('So should this')\n",
    "logging.warning('And this, too')\n",
    "logging.error('And non-ASCII stuff, too, like Øresund and Malmö')\n",
    "logging.critical('Can you see me?')"
   ]
  },
  {
   "cell_type": "markdown",
   "metadata": {},
   "source": [
    "新建 Python 文件，将上述的代码复制到文件中执行。\n",
    "\n",
    "它会把全部四条信息：\n",
    "\n",
    "```\n",
    "DEBUG:root:This message should go to the log file\n",
    "INFO:root:So should this\n",
    "WARNING:root:And this, too\n",
    "ERROR:root:And non-ASCII stuff, too, like Øresund and Malmö\n",
    "```\n",
    "\n",
    "打印到名为 `example.log` 的日志文件中。"
   ]
  },
  {
   "cell_type": "markdown",
   "metadata": {},
   "source": [
    "这是因为我们的 level 被设为 debug。信息所代表的威胁等级，debug < info < warning < error < critical。\n",
    "\n",
    "level 关键字参数代表的是一个阈值，所有大于等于 level 所代表的威胁等级的信息，都将被打印。"
   ]
  },
  {
   "cell_type": "markdown",
   "metadata": {},
   "source": [
    "同样的代码，如果我们将 level 修改为 logging.ERROR，则打印到日志文件中的信息就只剩 error 和 critical 两个等级的信息了。"
   ]
  },
  {
   "cell_type": "markdown",
   "metadata": {},
   "source": [
    "### 2.2 日志打印格式 - format"
   ]
  },
  {
   "cell_type": "code",
   "execution_count": 4,
   "metadata": {},
   "outputs": [
    {
     "name": "stderr",
     "output_type": "stream",
     "text": [
      "WARNING:root:Hi there.\n"
     ]
    }
   ],
   "source": [
    "import logging\n",
    "\n",
    "logging.basicConfig(format='%(asctime)s %(message)s', datefmt='%m/%d/%Y %I:%M:%S %p', level=logging.DEBUG)\n",
    "logging.warning('Hi there.')"
   ]
  },
  {
   "cell_type": "markdown",
   "metadata": {},
   "source": [
    "看起来好像在Jupyter Notebook 似乎不起作用，没办法呈现效果。可以把它粘贴到脚本中运行试试～"
   ]
  },
  {
   "cell_type": "markdown",
   "metadata": {},
   "source": [
    "> 关于 format 选项，可查看：[LogRecord attributes](https://docs.python.org/3/library/logging.html#logrecord-attributes) "
   ]
  },
  {
   "cell_type": "markdown",
   "metadata": {},
   "source": [
    "## 3. 涉及多个模块的使用\n",
    "\n",
    "\n",
    "在多个模块中使用 logging 时，有一些特殊的技巧。"
   ]
  },
  {
   "cell_type": "markdown",
   "metadata": {},
   "source": [
    "### 3.1 无法被重写\n",
    "\n",
    "由于 logging 无法被重写，因此如果涉及到多个模块，直接使用 `logging.warning()` 的用法可能会导致程序出现用户未预期的表现。"
   ]
  },
  {
   "cell_type": "code",
   "execution_count": 5,
   "metadata": {},
   "outputs": [
    {
     "name": "stderr",
     "output_type": "stream",
     "text": [
      "WARNING:root:And this, too\n",
      "ERROR:root:And non-ASCII stuff, too, like Øresund and Malmö\n",
      "CRITICAL:root:Can you see me?\n"
     ]
    }
   ],
   "source": [
    "import logging\n",
    "\n",
    "# 第一次定义\n",
    "logging.basicConfig(level=logging.ERROR)\n",
    "\n",
    "# 重写定义（不起效果）\n",
    "logging.basicConfig(level=logging.DEBUG)\n",
    "\n",
    "logging.debug('This message should go to the log file')\n",
    "logging.info('So should this')\n",
    "logging.warning('And this, too')\n",
    "logging.error('And non-ASCII stuff, too, like Øresund and Malmö')\n",
    "logging.critical('Can you see me?')"
   ]
  },
  {
   "cell_type": "markdown",
   "metadata": {},
   "source": [
    "将上述代码粘贴到脚本执行吧，看看对 level 的重写是否改变了 logging 的打印方式。"
   ]
  },
  {
   "cell_type": "markdown",
   "metadata": {},
   "source": [
    "**解决方案**：\n",
    "\n",
    "如果你需要在一个脚本中调用多个模块，并且在那些被调用的模块中也使用 logging，但是又不想本脚本的 logging 的行为被 import 的包中的 logging 的定义影响，那么你就需要另一种“写法”。"
   ]
  },
  {
   "cell_type": "code",
   "execution_count": 6,
   "metadata": {},
   "outputs": [
    {
     "name": "stderr",
     "output_type": "stream",
     "text": [
      "WARNING:__main__:Hi there!\n"
     ]
    }
   ],
   "source": [
    "import logging\n",
    "\n",
    "logger = logging.getLogger(__name__)\n",
    "logger.setLevel(logging.INFO)\n",
    "\n",
    "logger.warning('Hi there!')"
   ]
  },
  {
   "cell_type": "markdown",
   "metadata": {},
   "source": [
    "通过指定不同模块的不同 logger，我们可以确保模块见的 logging 配置不会相互影响！"
   ]
  },
  {
   "cell_type": "markdown",
   "metadata": {},
   "source": [
    "### 3.2 Logger\n",
    "\n",
    "Logger 的成员方法包括：\n",
    "\n",
    "\n",
    "\n",
    "- `Logger.setLevel()` specifies the lowest-severity log message a logger will handle, where debug is the lowest built-in severity level and critical is the highest built-in severity. For example, if the severity level is INFO, the logger will handle only INFO, WARNING, ERROR, and CRITICAL messages and will ignore DEBUG messages.\n",
    "\n",
    "- `Logger.addHandler()` and `Logger.removeHandler()` add and remove handler objects from the logger object. Handlers are covered in more detail in Handlers.\n",
    "\n",
    "- `Logger.addFilter()` and `Logger.removeFilter()` add and remove filter objects from the logger object. Filters are covered in more detail in Filter Objects.\n",
    "\n",
    "> 关于 logger 及其成员方法，可参考：[Loggers](https://docs.python.org/3/howto/logging.html#loggers)\n",
    "\n",
    "有两种 Handler 比较常用，分别是：**StreamHandler** 和 **FileHandler**。StreamHandler 控制命令行输出，FileHandler 控制日志文件输出。\n",
    "\n",
    "先看看 StreamHandler。"
   ]
  },
  {
   "cell_type": "code",
   "execution_count": 7,
   "metadata": {},
   "outputs": [
    {
     "name": "stderr",
     "output_type": "stream",
     "text": [
      "DEBUG:simple_example:debug message\n",
      "INFO:simple_example:info message\n",
      "WARNING:simple_example:warn message\n",
      "2020-10-17 23:55:54,701 - simple_example - ERROR - error message\n",
      "ERROR:simple_example:error message\n",
      "2020-10-17 23:55:54,702 - simple_example - CRITICAL - critical message\n",
      "CRITICAL:simple_example:critical message\n"
     ]
    }
   ],
   "source": [
    "# StreamHandler\n",
    "import logging\n",
    "\n",
    "# create logger\n",
    "logger = logging.getLogger('simple_example')\n",
    "logger.setLevel(logging.DEBUG)\n",
    "\n",
    "# create console handler and set level to debug\n",
    "stream_handler = logging.StreamHandler()\n",
    "stream_handler.setLevel(logging.ERROR)\n",
    "\n",
    "# create formatter\n",
    "formatter = logging.Formatter('%(asctime)s - %(name)s - %(levelname)s - %(message)s')\n",
    "stream_handler.setFormatter(formatter)  # add formatter to stream_handler\n",
    "\n",
    "# add stream_handler to logger\n",
    "logger.addHandler(stream_handler)\n",
    "\n",
    "# 'application' code\n",
    "logger.debug('debug message')\n",
    "logger.info('info message')\n",
    "logger.warning('warn message')\n",
    "logger.error('error message')\n",
    "logger.critical('critical message')"
   ]
  },
  {
   "cell_type": "markdown",
   "metadata": {},
   "source": [
    "看上述代码会发现有两行代码都设置了 level:\n",
    "\n",
    "```python\n",
    "# create logger\n",
    "logger.setLevel(logging.DEBUG)\n",
    "\n",
    "# create console handler\n",
    "stream_handler.setLevel(logging.ERROR)\n",
    "```\n",
    "\n",
    "一次在创建 logger 的时候，一次在设置 Handler 的时候。\n",
    "\n",
    "两次设置对配置结果影响的表现是：如果 Handler 的 level 比 logger 的 level 高，则按 Handler 的 level 输出；否则按 logger 的 level 输出。\n",
    "\n",
    "其本质是：日志信息流过两级过滤器，先流经 logger.level，后流经 stream_handler.level。通过了两级过滤器后的信息将被输出。"
   ]
  },
  {
   "cell_type": "code",
   "execution_count": 8,
   "metadata": {},
   "outputs": [
    {
     "name": "stdout",
     "output_type": "stream",
     "text": [
      "10\n",
      "40\n"
     ]
    }
   ],
   "source": [
    "print(logger.level)\n",
    "print(stream_handler.level)"
   ]
  },
  {
   "cell_type": "markdown",
   "metadata": {},
   "source": [
    "再看 FileHandler。"
   ]
  },
  {
   "cell_type": "code",
   "execution_count": 9,
   "metadata": {},
   "outputs": [
    {
     "name": "stderr",
     "output_type": "stream",
     "text": [
      "INFO:simple_example:info message\n",
      "WARNING:simple_example:warn message\n",
      "2020-10-17 23:55:54,716 - simple_example - ERROR - error message\n",
      "ERROR:simple_example:error message\n",
      "2020-10-17 23:55:54,717 - simple_example - CRITICAL - critical message\n",
      "CRITICAL:simple_example:critical message\n"
     ]
    }
   ],
   "source": [
    "# FileHandler\n",
    "import logging\n",
    "\n",
    "# create logger\n",
    "logger = logging.getLogger('simple_example')\n",
    "logger.setLevel(logging.INFO)\n",
    "\n",
    "# create file handler and set level to debug\n",
    "file_handler = logging.FileHandler('error.log')\n",
    "file_handler.setLevel(logging.DEBUG)\n",
    "\n",
    "# create formatter\n",
    "formatter = logging.Formatter('%(asctime)s - %(name)s - %(levelname)s - %(message)s')\n",
    "file_handler.setFormatter(formatter)  # add formatter to file_handler\n",
    "\n",
    "# add file_handler to logger\n",
    "logger.addHandler(file_handler)\n",
    "\n",
    "# 'application' code\n",
    "logger.debug('debug message')\n",
    "logger.info('info message')\n",
    "logger.warning('warn message')\n",
    "logger.error('error message')\n",
    "logger.critical('critical message')"
   ]
  },
  {
   "cell_type": "markdown",
   "metadata": {},
   "source": [
    "相较于 StreamHandler，FileHandler 在创建时需要传入一个 string 类型变量作为日志文件名。"
   ]
  },
  {
   "cell_type": "markdown",
   "metadata": {},
   "source": [
    "参考：\n",
    "\n",
    "1. [Logging HOWTO](https://docs.python.org/3/howto/logging.html#logging-howto)\n",
    "2. [Python Tutorial: Logging Basics - Logging to Files, Setting Levels, and Formatting](https://youtu.be/-ARI4Cz-awo)\n",
    "3. [Python Tutorial: Logging Advanced - Loggers, Handlers, and Formatters](https://youtu.be/jxmzY9soFXg)"
   ]
  }
 ],
 "metadata": {
  "kernelspec": {
   "display_name": "Python 3",
   "language": "python",
   "name": "python3"
  },
  "language_info": {
   "codemirror_mode": {
    "name": "ipython",
    "version": 3
   },
   "file_extension": ".py",
   "mimetype": "text/x-python",
   "name": "python",
   "nbconvert_exporter": "python",
   "pygments_lexer": "ipython3",
   "version": "3.7.4"
  }
 },
 "nbformat": 4,
 "nbformat_minor": 4
}